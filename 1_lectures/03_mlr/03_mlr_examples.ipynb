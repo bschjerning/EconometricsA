{
 "cells": [
  {
   "cell_type": "markdown",
   "metadata": {
    "slideshow": {
     "slide_type": "slide"
    }
   },
   "source": [
    "#  Den multiple linære regression model (MLR)\n",
    "\n",
    "### Econometrics A (ØkA)\n",
    "\n",
    "Wooldridge (Ch. 3)\n",
    "\n",
    "Bertel Schjerning\n",
    "\n",
    "Department of Economics, University of Copenhagen\n"
   ]
  },
  {
   "cell_type": "markdown",
   "metadata": {
    "slideshow": {
     "slide_type": "slide"
    }
   },
   "source": [
    "# Part 1: Timeløn, uddannelse og erfaring (OLS estimation)"
   ]
  },
  {
   "cell_type": "markdown",
   "metadata": {
    "slideshow": {
     "slide_type": "slide"
    }
   },
   "source": [
    "### Lønregression: Timeløn, uddannelse og erfaring\n",
    "Estimation af lineær model for timeløn, uddannelse og erfaring:\n",
    "$$\n",
    "\t\t\\log(\\text{wage}_i) = \\beta _{0}+\\beta _{1}\\text{educ}_i+\\beta_{2}\\text{experience}_i+\\beta _{3}\\text{experience}^2_i+u_i\n",
    "$$\n",
    "- Vi benytter samme data fra Danmarks Statistik\n",
    "    - Data indeholder $N=1.078$ tilfældigt udvalgte personer i 1994.\n",
    "    - For hvert individ, $i$, har vi information om timelønnen, køn, antal årsuddannelse, single, alder og erhverserfaring. \n",
    "    - $\\log(\\text{wage}_i)$: Logartimen til timeløn i DKK i 1994 \n",
    "    - $\\text{educ}_i$: antal års uddannelse\n",
    "    - $\\text{experience}_i$: erhverserfaring målt i år\n",
    " \n",
    "- Datasættet er afgrænset således:\n",
    "    - 20-68 årige.\t\t\t\n",
    "\t- Lønmodtagere.\t\t\t\n",
    "\t- Timeløn på mere end 40 kr."
   ]
  },
  {
   "cell_type": "markdown",
   "metadata": {
    "slideshow": {
     "slide_type": "slide"
    }
   },
   "source": [
    "### Enable autoreload"
   ]
  },
  {
   "cell_type": "code",
   "execution_count": 1,
   "metadata": {
    "slideshow": {
     "slide_type": "-"
    }
   },
   "outputs": [],
   "source": [
    "# Sørger for at alle importerede python filer geninlæses ved import statements\n",
    "# Nødvedigt, hvis ændinger skal tage effekt uden at genstarte Python Kernel\n",
    "%load_ext autoreload\n",
    "%autoreload 2"
   ]
  },
  {
   "cell_type": "markdown",
   "metadata": {
    "slideshow": {
     "slide_type": "slide"
    }
   },
   "source": [
    "### Indlæs data, estimer model og print resulater "
   ]
  },
  {
   "cell_type": "code",
   "execution_count": 2,
   "metadata": {
    "scrolled": true,
    "slideshow": {
     "slide_type": "slide"
    }
   },
   "outputs": [
    {
     "name": "stdout",
     "output_type": "stream",
     "text": [
      "                    Model 1  Model 2  Model 3\n",
      "Dependent variable    lwage    lwage    lwage\n",
      "             const   4.5604   4.3791   4.3155\n",
      "                   (0.0337) (0.0350) (0.0396)\n",
      "              educ   0.0282   0.0281   0.0274\n",
      "                   (0.0028) (0.0027) (0.0027)\n",
      "        experience            0.0125   0.0254\n",
      "                            (0.0010) (0.0040)\n",
      "       experience2                    -0.0004\n",
      "                                     (0.0001)\n",
      "         R_squared   0.0845   0.1948   0.2033\n",
      "               TSS 111.2507 111.2507 111.2507\n",
      "               RSS 101.8496  89.5751  88.6338\n",
      "               ESS   9.4011  21.6756  22.6168\n",
      "                 n     1078     1078     1078\n"
     ]
    }
   ],
   "source": [
    "import pandas as pd\n",
    "import numpy as np\n",
    "import mymlr as mlr # see mymlr.py\n",
    "\n",
    "# Load the data and create variables\n",
    "df = pd.read_stata(r\"../data/wage.dta\")   # Load data\n",
    "df['const'] = 1                           # Add constant term\n",
    "df['lwage'] = np.log(df['wage'])          # Log of wage\n",
    "df['experience2'] = df['experience'] ** 2 # Add experience²\n",
    "\n",
    "# Estimate the model using the mlr.ols function\n",
    "mlr1 = mlr.ols(df[['const', 'educ']], df['lwage'])\n",
    "mlr2 = mlr.ols(df[['const', 'educ', 'experience']], df['lwage'])\n",
    "mlr3 = mlr.ols(df[['const', 'educ', 'experience', 'experience2']], df['lwage'])\n",
    "\n",
    "# Print the summary using the mlr.summary() function\n",
    "mlr.summary([mlr1,mlr2,mlr3])"
   ]
  },
  {
   "cell_type": "markdown",
   "metadata": {
    "slideshow": {
     "slide_type": "slide"
    }
   },
   "source": [
    "# Part 2: OLS estimator og rangbetingelsen"
   ]
  },
  {
   "cell_type": "markdown",
   "metadata": {
    "slideshow": {
     "slide_type": "slide"
    }
   },
   "source": [
    "### OLS estimator i matrix form"
   ]
  },
  {
   "cell_type": "code",
   "execution_count": 3,
   "metadata": {
    "scrolled": true
   },
   "outputs": [
    {
     "name": "stdout",
     "output_type": "stream",
     "text": [
      "             Coefficients\n",
      "const            4.315456\n",
      "educ             0.027435\n",
      "experience       0.025363\n",
      "experience2     -0.000408\n"
     ]
    }
   ],
   "source": [
    "import pandas as pd\n",
    "from numpy import linalg as la\n",
    "\n",
    "def OLS(X, y):\n",
    "    # Convert pandas DataFrame/Series to 2d-numpy arrays\n",
    "    xvar = X.columns.tolist()\n",
    "    X = X.values  # (n x k)\n",
    "    y = y.values.reshape(-1, 1)  # (n x 1)\n",
    "    \n",
    "    # OLS estimates: β = (X'X)^(-1) X'y\n",
    "    beta_hat = la.inv(X.T @ X) @ X.T @ y  # (k x 1)\n",
    "    \n",
    "    # Create a pandas DataFrame for clean output\n",
    "    results_df = pd.DataFrame(data=beta_hat, index=xvar, columns=['Coefficients'])\n",
    "\n",
    "    # Print the results using pandas\n",
    "    print(results_df)\n",
    "    \n",
    "    return beta_hat\n",
    "\n",
    "# Estimate the model\n",
    "xvar = ['const', 'educ', 'experience', 'experience2']\n",
    "beta_hat = OLS(df[xvar], df['lwage'])\n",
    "\n"
   ]
  },
  {
   "cell_type": "markdown",
   "metadata": {
    "slideshow": {
     "slide_type": "slide"
    }
   },
   "source": [
    "### Rutine til til at kontrollere rangbetingelse og om nødevendigt fjerne lineært afhængie variable"
   ]
  },
  {
   "cell_type": "code",
   "execution_count": 4,
   "metadata": {},
   "outputs": [],
   "source": [
    "from numpy import linalg as la\n",
    "import pandas as pd\n",
    "\n",
    "def remove_dependent_columns(X, tol=1e-10):\n",
    "    \"\"\"\n",
    "    Remove linearly dependent columns from a pandas DataFrame X.\n",
    "    \n",
    "    Parameters:\n",
    "    X (pd.DataFrame): The design matrix (n x k)\n",
    "    tol (float): Tolerance for detecting linear dependence\n",
    "\n",
    "    Returns:\n",
    "    X_new (pd.DataFrame): Matrix with linearly dependent columns removed\n",
    "    removed_columns (list): List of removed column names\n",
    "    \"\"\"\n",
    "    \n",
    "    # Check the rank of the matrix\n",
    "    rank_X = la.matrix_rank(X.values)\n",
    "    if rank_X == X.shape[1]:\n",
    "        print(\"Matrix has full rank, no columns need to be removed.\")\n",
    "        return X, []\n",
    "    \n",
    "    print(f\"Rank of X before removal: {rank_X} / {X.shape[1]}\")\n",
    "\n",
    "    # Perform QR decomposition to identify linearly dependent columns\n",
    "    Q, R = la.qr(X.values)\n",
    "    independent_columns = np.abs(np.diag(R)) > tol\n",
    "    removed_columns = X.columns[~independent_columns]\n",
    "\n",
    "    # Return matrix with only independent columns and list of removed columns\n",
    "    X_new = X.iloc[:, independent_columns]\n",
    "    \n",
    "    print(f\"Removed columns: {list(removed_columns)}\")\n",
    "    print(f\"Rank of X after removal: {la.matrix_rank(X_new.values)} / {X_new.shape[1]}\")\n",
    "\n",
    "    return X_new, list(removed_columns)"
   ]
  },
  {
   "cell_type": "markdown",
   "metadata": {
    "slideshow": {
     "slide_type": "slide"
    }
   },
   "source": [
    "### Rangbetingelsen og multikolinearitet"
   ]
  },
  {
   "cell_type": "code",
   "execution_count": 5,
   "metadata": {},
   "outputs": [
    {
     "name": "stdout",
     "output_type": "stream",
     "text": [
      "Rank of X before removal: 4 / 5\n",
      "Removed columns: ['exper_educ']\n",
      "Rank of X after removal: 4 / 4\n",
      "OLS - after removing linear dependent variables\n",
      "             Coefficients\n",
      "const            4.315456\n",
      "educ             0.027435\n",
      "experience       0.025363\n",
      "experience2     -0.000408\n",
      "\n",
      "OLS - without removing linear dependent variables\n",
      "             Coefficients\n",
      "const            8.550070\n",
      "educ            -0.614818\n",
      "experience      -0.223960\n",
      "experience2     -0.000408\n",
      "exper_educ       0.186236\n"
     ]
    }
   ],
   "source": [
    "# Create a new variable 'exper_educ' as the sum of education and experience\n",
    "df['exper_educ'] = df['experience'] + df['educ']  # Sum af udd og erfaring\n",
    "\n",
    "# Define the full set of variables, including potential linear dependencies\n",
    "xvar = ['const', 'educ', 'experience', 'experience2', 'exper_educ']\n",
    "\n",
    "# Check the rank of the matrix and remove dependent columns if necessary\n",
    "X_reduced, removed_cols = remove_dependent_columns(df[xvar])\n",
    "\n",
    "# OLS after removing linear dependent variables\n",
    "print('OLS - after removing linear dependent variables')\n",
    "beta_hat_reduced = OLS(X_reduced, df['lwage'])\n",
    "\n",
    "# OLS without removing linear dependent variables (on full matrix)\n",
    "print('\\nOLS - without removing linear dependent variables')\n",
    "beta_hat_full = OLS(df[xvar], df['lwage'])"
   ]
  },
  {
   "cell_type": "markdown",
   "metadata": {
    "slideshow": {
     "slide_type": "slide"
    }
   },
   "source": [
    "## Hvad hvis X ikke har fuld rang?\n",
    "\n",
    "### 1. Multikollinearitet og reduceret rang:\n",
    "- **Multikollinearitet** opstår, når forklarende variable er stærkt korrelerede. \n",
    "- I modellen er `exper_educ` (sum af `educ` og `experience`) perfekt lineært afhængig af de andre variable, hvilket fører til **reduceret rang**, hvor \\( X'X \\) ikke kan inverteres.\n",
    "\n",
    "### 2. Fjernelse af afhængige variable:\n",
    "- Ved at fjerne `exper_educ` får vi en model med fuld rang, og OLS-estimationen fungerer korrekt.\n",
    "- Lineært afhængige variable identificeres ved brug af **QR-dekomponering**, som gør det muligt at fjerne kolonner med små diagonalelementer i \\( R \\)-matricen.\n",
    "\n",
    "\n",
    "### 3. Effekten af multikollinearitet:\n",
    "- Inkludering af `exper_educ` skaber store udsving i OLS-koefficienterne, såsom en høj konstant og en negativ koefficient for `educ`.\n",
    "- Dette skyldes modellens ustabilitet ved multikollinearitet.\n",
    "\n",
    "### 4. Læringspunkter:\n",
    "- **Rangtjek** er vigtigt i regressionsmodeller for at sikre pålidelige estimater.\n",
    "- Fjernelse af lineært afhængige variable giver en stabil model.\n"
   ]
  },
  {
   "cell_type": "markdown",
   "metadata": {
    "slideshow": {
     "slide_type": "slide"
    }
   },
   "source": [
    "# Part 3: Timeløn, uddannelse og erfaring (Frisch-Waugh)"
   ]
  },
  {
   "cell_type": "markdown",
   "metadata": {
    "slideshow": {
     "slide_type": "slide"
    }
   },
   "source": [
    "# Frisch-Waugh-Lovell Teoremet: Implementering\n",
    "\n",
    "## Modeloversigt:\n",
    "\n",
    "Vi undersøger en **multipel lineær regressionsmodel** til at forudsige log-løn (`lwage`) baseret på uddannelse (`educ`), erfaring (`experience`), og erfaring i anden potens (`experience2`).\n",
    "\n",
    "Modellen er:\n",
    "$$\n",
    "y = \\beta_0 + \\beta_1 \\text{uddannelse} + \\beta_2 \\text{erfaring} + \\beta_3 \\text{erfaring}^2 + u\n",
    "$$\n",
    "\n",
    "## Anvendelse af FWL Teoremet:\n",
    "\n",
    "### Trin:\n",
    "1. **Fuld model**: Regressér `lwage` på `educ`, `experience`, og `experience2`.\n",
    "2. **Delvis regression**: Regressér `educ` på `experience` og `experience2`.\n",
    "3. **Anden fase**: Regressér `lwage` på residualerne (`educ_r`) fra trin 2.\n",
    "\n",
    "## Forventede Resultater:\n",
    "\n",
    "- Koefficienten for `educ` i anden fase skal være den samme som i den fulde model.\n",
    "- FWL-teoremet viser, at hvis man fjerner effekten af `experience` og `experience2`, vil estimatet for `educ` være uændret og isolere dens effekt på løn.\n"
   ]
  },
  {
   "cell_type": "markdown",
   "metadata": {
    "slideshow": {
     "slide_type": "slide"
    }
   },
   "source": [
    "### Frisch-Waugh-Lovell (FWL) theorem using OLS regression"
   ]
  },
  {
   "cell_type": "code",
   "execution_count": 6,
   "metadata": {},
   "outputs": [
    {
     "name": "stdout",
     "output_type": "stream",
     "text": [
      "                    Model 1  Model 2  Model 3\n",
      "Dependent variable    lwage     educ  lwage_r\n",
      "             const   4.3155  10.8176   0.0000\n",
      "                   (0.0396) (0.3142) (0.0087)\n",
      "        experience   0.0254   0.1123         \n",
      "                   (0.0040) (0.0454)         \n",
      "       experience2  -0.0004  -0.0035         \n",
      "                   (0.0001) (0.0014)         \n",
      "              educ   0.0274                  \n",
      "                   (0.0027)                  \n",
      "            educ_r                     0.0274\n",
      "                                     (0.0026)\n",
      "         R_squared   0.2033   0.0060   0.0907\n"
     ]
    }
   ],
   "source": [
    "# Step 1: Estimate the full model\n",
    "mlr_full = mlr.ols(df[['const', 'educ', 'experience', 'experience2']], df['lwage'])\n",
    "\n",
    "# Step 2a: Regress 'educ' on 'experience' and 'experience2' (partial regression)\n",
    "educ_regression = mlr.ols(df[['const', 'experience', 'experience2']], df['educ'])\n",
    "# Use the residuals of 'educ' from the partial regression (this is done automatically by mlr.ols)\n",
    "df['educ_r'] = educ_regression['residuals']  # Residuals are already computed by mlr.ols\n",
    "\n",
    "# Step 2a: Regress 'educ' on 'experience' and 'experience2' (partial regression)\n",
    "lwage_regression = mlr.ols(df[['const', 'experience', 'experience2']], df['lwage'])\n",
    "# Use the residuals of 'educ' from the partial regression (this is done automatically by mlr.ols)\n",
    "df['lwage_r'] = lwage_regression['residuals']  # Residuals are already computed by mlr.ols\n",
    "\n",
    "# Step 3: Regress 'lwage' on 'educ_r' (second-stage regression)\n",
    "mlr_step2 = mlr.ols(df[['const', 'educ_r']], df['lwage'])\n",
    "# Step 3: Regress 'lwage' on 'educ_r' (second-stage regression)\n",
    "mlr_step2 = mlr.ols(df[['const', 'educ_r']], df['lwage_r'])\n",
    "\n",
    "# Step 4: Print the summary for all models\n",
    "mlr.summary([mlr_full, educ_regression, mlr_step2], options=['beta_hat', 'R_squared'])"
   ]
  },
  {
   "cell_type": "markdown",
   "metadata": {
    "slideshow": {
     "slide_type": "slide"
    }
   },
   "source": [
    "# Part 4: Udeladte variable"
   ]
  },
  {
   "cell_type": "markdown",
   "metadata": {
    "slideshow": {
     "slide_type": "slide"
    }
   },
   "source": [
    "\n",
    "### Quiz: Er SLR biased? Hvis ja, hvilken retning? Og hvorfor?"
   ]
  },
  {
   "cell_type": "code",
   "execution_count": 7,
   "metadata": {},
   "outputs": [
    {
     "name": "stdout",
     "output_type": "stream",
     "text": [
      "                    Model 1  Model 2    Model 3\n",
      "Dependent variable    lwage    lwage experience\n",
      "             const   4.5604   4.3791    14.5469\n",
      "                   (0.0337) (0.0350)   (0.9398)\n",
      "              educ   0.0282   0.0281     0.0069\n",
      "                   (0.0028) (0.0027)   (0.0788)\n",
      "        experience            0.0125           \n",
      "                            (0.0010)           \n",
      "         R_squared   0.0845   0.1948     0.0000\n"
     ]
    }
   ],
   "source": [
    "# Er OLS estimat for uddannelse biased, når erfaring udelades?  \n",
    "# 1. full model: reg lwage educ experience\n",
    "reg_MLR1 = mlr.ols(df[['const', 'educ', 'experience']], df['lwage'])\n",
    "\n",
    "# 2. Model, hvor erfaring udelades: reg lwage educ\n",
    "reg_SLR = mlr.ols(df[['const', 'educ']], df['lwage'])\n",
    "\n",
    "# 3. reg experience educ\n",
    "reg_exp = mlr.ols(df[['const', 'educ']], df['experience'])\n",
    "\n",
    "# Summary of the models equivalent \n",
    "mlr.summary([reg_SLR, reg_MLR1, reg_exp],options=['beta_hat','standard_error', 'R_squared'])"
   ]
  }
 ],
 "metadata": {
  "celltoolbar": "Slideshow",
  "date": 1602643870.398518,
  "filename": "38_optimization.rst",
  "kernelspec": {
   "display_name": "Python 3 (ipykernel)",
   "language": "python",
   "name": "python3"
  },
  "language_info": {
   "codemirror_mode": {
    "name": "ipython",
    "version": 3
   },
   "file_extension": ".py",
   "mimetype": "text/x-python",
   "name": "python",
   "nbconvert_exporter": "python",
   "pygments_lexer": "ipython3",
   "version": "3.12.2"
  },
  "title": "Foundations of Computational Economics #38"
 },
 "nbformat": 4,
 "nbformat_minor": 4
}
