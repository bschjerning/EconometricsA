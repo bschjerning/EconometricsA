{
 "cells": [
  {
   "cell_type": "markdown",
   "metadata": {
    "slideshow": {
     "slide_type": "slide"
    }
   },
   "source": [
    "#  Dummy variable\n",
    "\n",
    "### Econometrics A (ØkA)\n",
    "\n",
    "Wooldridge (Ch. 7)\n",
    "\n",
    "Bertel Schjerning\n",
    "\n",
    "Department of Economics, University of Copenhagen\n"
   ]
  },
  {
   "cell_type": "markdown",
   "metadata": {
    "slideshow": {
     "slide_type": "slide"
    }
   },
   "source": [
    "### Enable autoreload and read libraries"
   ]
  },
  {
   "cell_type": "code",
   "execution_count": 1,
   "metadata": {
    "slideshow": {
     "slide_type": "-"
    }
   },
   "outputs": [],
   "source": [
    "# Sørger for at alle importerede python filer geninlæses ved import statements\n",
    "# Nødvedigt, hvis ændinger skal tage effekt uden at genstarte Python Kernel\n",
    "%load_ext autoreload\n",
    "%autoreload 2"
   ]
  },
  {
   "cell_type": "code",
   "execution_count": 2,
   "metadata": {},
   "outputs": [],
   "source": [
    "import pandas as pd\n",
    "import numpy as np\n",
    "import mymlr as mlr # see mymlr.py"
   ]
  },
  {
   "cell_type": "markdown",
   "metadata": {
    "slideshow": {
     "slide_type": "slide"
    }
   },
   "source": [
    "# Part 1: Lønforskelle mellem mænd og kvinder"
   ]
  },
  {
   "cell_type": "markdown",
   "metadata": {
    "slideshow": {
     "slide_type": "slide"
    }
   },
   "source": [
    "### Lønregression: Timeløn, uddannelse og erfaring\n",
    "Estimation af lineær model for timeløn, uddannelse og erfaring:\n",
    "\n",
    "$$\n",
    "\t\t\t\t\\log (wage_i) = \\beta_0 + \\alpha \\text{kvinde}_i + u_i,\n",
    "$$\n",
    "\n",
    "hvor $\\text{kvinde}_{i}$ er en **dummy variabel for kvinde**\n",
    "- $\\text{kvinde}_{i}=1$, hvis person $i$ er en kvinde\n",
    "- $\\text{kvinde}_{i}=0$, ellers\n",
    "\n"
   ]
  },
  {
   "cell_type": "markdown",
   "metadata": {
    "slideshow": {
     "slide_type": "slide"
    }
   },
   "source": [
    "### Indlæs data og dan dummy for kvinde"
   ]
  },
  {
   "cell_type": "code",
   "execution_count": 3,
   "metadata": {
    "slideshow": {
     "slide_type": "-"
    }
   },
   "outputs": [
    {
     "name": "stdout",
     "output_type": "stream",
     "text": [
      "Frekvenstabel:\n",
      "sex  kvinde\n",
      "1.0  0         561\n",
      "2.0  1         517\n",
      "dtype: int64\n"
     ]
    },
    {
     "data": {
      "text/html": [
       "<div>\n",
       "<style scoped>\n",
       "    .dataframe tbody tr th:only-of-type {\n",
       "        vertical-align: middle;\n",
       "    }\n",
       "\n",
       "    .dataframe tbody tr th {\n",
       "        vertical-align: top;\n",
       "    }\n",
       "\n",
       "    .dataframe thead th {\n",
       "        text-align: right;\n",
       "    }\n",
       "</style>\n",
       "<table border=\"1\" class=\"dataframe\">\n",
       "  <thead>\n",
       "    <tr style=\"text-align: right;\">\n",
       "      <th></th>\n",
       "      <th>sex</th>\n",
       "      <th>age</th>\n",
       "      <th>wage</th>\n",
       "      <th>educ</th>\n",
       "      <th>experience</th>\n",
       "      <th>single</th>\n",
       "      <th>kvinde</th>\n",
       "      <th>const</th>\n",
       "      <th>lwage</th>\n",
       "      <th>experience2</th>\n",
       "    </tr>\n",
       "  </thead>\n",
       "  <tbody>\n",
       "    <tr>\n",
       "      <th>count</th>\n",
       "      <td>1078.000000</td>\n",
       "      <td>1078.000000</td>\n",
       "      <td>1078.000000</td>\n",
       "      <td>1078.000000</td>\n",
       "      <td>1078.000000</td>\n",
       "      <td>1078.000000</td>\n",
       "      <td>1078.000000</td>\n",
       "      <td>1078.0</td>\n",
       "      <td>1078.000000</td>\n",
       "      <td>1078.000000</td>\n",
       "    </tr>\n",
       "    <tr>\n",
       "      <th>mean</th>\n",
       "      <td>1.479592</td>\n",
       "      <td>39.302412</td>\n",
       "      <td>139.192950</td>\n",
       "      <td>11.449907</td>\n",
       "      <td>14.626375</td>\n",
       "      <td>0.258813</td>\n",
       "      <td>0.479592</td>\n",
       "      <td>1.0</td>\n",
       "      <td>4.883426</td>\n",
       "      <td>287.220284</td>\n",
       "    </tr>\n",
       "    <tr>\n",
       "      <th>std</th>\n",
       "      <td>0.499815</td>\n",
       "      <td>11.068010</td>\n",
       "      <td>47.357094</td>\n",
       "      <td>3.311553</td>\n",
       "      <td>8.564899</td>\n",
       "      <td>0.438186</td>\n",
       "      <td>0.499815</td>\n",
       "      <td>0.0</td>\n",
       "      <td>0.321398</td>\n",
       "      <td>280.487155</td>\n",
       "    </tr>\n",
       "    <tr>\n",
       "      <th>min</th>\n",
       "      <td>1.000000</td>\n",
       "      <td>20.000000</td>\n",
       "      <td>44.000000</td>\n",
       "      <td>0.000000</td>\n",
       "      <td>0.139000</td>\n",
       "      <td>0.000000</td>\n",
       "      <td>0.000000</td>\n",
       "      <td>1.0</td>\n",
       "      <td>3.784190</td>\n",
       "      <td>0.019321</td>\n",
       "    </tr>\n",
       "    <tr>\n",
       "      <th>25%</th>\n",
       "      <td>1.000000</td>\n",
       "      <td>30.000000</td>\n",
       "      <td>110.000000</td>\n",
       "      <td>10.000000</td>\n",
       "      <td>7.833750</td>\n",
       "      <td>0.000000</td>\n",
       "      <td>0.000000</td>\n",
       "      <td>1.0</td>\n",
       "      <td>4.700480</td>\n",
       "      <td>61.367738</td>\n",
       "    </tr>\n",
       "    <tr>\n",
       "      <th>50%</th>\n",
       "      <td>1.000000</td>\n",
       "      <td>39.000000</td>\n",
       "      <td>129.000000</td>\n",
       "      <td>12.000000</td>\n",
       "      <td>13.823500</td>\n",
       "      <td>0.000000</td>\n",
       "      <td>0.000000</td>\n",
       "      <td>1.0</td>\n",
       "      <td>4.859812</td>\n",
       "      <td>191.089146</td>\n",
       "    </tr>\n",
       "    <tr>\n",
       "      <th>75%</th>\n",
       "      <td>2.000000</td>\n",
       "      <td>48.000000</td>\n",
       "      <td>159.000000</td>\n",
       "      <td>13.000000</td>\n",
       "      <td>20.913500</td>\n",
       "      <td>1.000000</td>\n",
       "      <td>1.000000</td>\n",
       "      <td>1.0</td>\n",
       "      <td>5.068904</td>\n",
       "      <td>437.374512</td>\n",
       "    </tr>\n",
       "    <tr>\n",
       "      <th>max</th>\n",
       "      <td>2.000000</td>\n",
       "      <td>68.000000</td>\n",
       "      <td>300.000000</td>\n",
       "      <td>18.000000</td>\n",
       "      <td>31.000000</td>\n",
       "      <td>1.000000</td>\n",
       "      <td>1.000000</td>\n",
       "      <td>1.0</td>\n",
       "      <td>5.703782</td>\n",
       "      <td>961.000000</td>\n",
       "    </tr>\n",
       "  </tbody>\n",
       "</table>\n",
       "</div>"
      ],
      "text/plain": [
       "               sex          age         wage         educ   experience  \\\n",
       "count  1078.000000  1078.000000  1078.000000  1078.000000  1078.000000   \n",
       "mean      1.479592    39.302412   139.192950    11.449907    14.626375   \n",
       "std       0.499815    11.068010    47.357094     3.311553     8.564899   \n",
       "min       1.000000    20.000000    44.000000     0.000000     0.139000   \n",
       "25%       1.000000    30.000000   110.000000    10.000000     7.833750   \n",
       "50%       1.000000    39.000000   129.000000    12.000000    13.823500   \n",
       "75%       2.000000    48.000000   159.000000    13.000000    20.913500   \n",
       "max       2.000000    68.000000   300.000000    18.000000    31.000000   \n",
       "\n",
       "            single       kvinde   const        lwage  experience2  \n",
       "count  1078.000000  1078.000000  1078.0  1078.000000  1078.000000  \n",
       "mean      0.258813     0.479592     1.0     4.883426   287.220284  \n",
       "std       0.438186     0.499815     0.0     0.321398   280.487155  \n",
       "min       0.000000     0.000000     1.0     3.784190     0.019321  \n",
       "25%       0.000000     0.000000     1.0     4.700480    61.367738  \n",
       "50%       0.000000     0.000000     1.0     4.859812   191.089146  \n",
       "75%       1.000000     1.000000     1.0     5.068904   437.374512  \n",
       "max       1.000000     1.000000     1.0     5.703782   961.000000  "
      ]
     },
     "metadata": {},
     "output_type": "display_data"
    }
   ],
   "source": [
    "# Indlæs data og generer varibale\n",
    "df = pd.read_stata(r\"../data/wage.dta\")   # Load data\n",
    "\n",
    "df['kvinde'] = (df['sex']==2).astype(int) # Dummy for kvinde\n",
    "\n",
    "print('Frekvenstabel:')\n",
    "print(df[['sex', 'kvinde']].value_counts())\n",
    "\n",
    "# generer andre variable\n",
    "df['const'] = 1                           # Add constant term\n",
    "df['lwage'] = np.log(df['wage'])          # Log af timeln\n",
    "df['experience2'] = df['experience'] ** 2 # tilføj experience²\n",
    "display(df.describe())"
   ]
  },
  {
   "cell_type": "markdown",
   "metadata": {
    "slideshow": {
     "slide_type": "slide"
    }
   },
   "source": [
    "### Simpel lønregression med kvinde dummy"
   ]
  },
  {
   "cell_type": "code",
   "execution_count": 4,
   "metadata": {
    "scrolled": true,
    "slideshow": {
     "slide_type": "-"
    }
   },
   "outputs": [
    {
     "name": "stdout",
     "output_type": "stream",
     "text": [
      "                    Model 1  Model 2  Model 3  Model 4\n",
      "Dependent variable    lwage    lwage    lwage    lwage\n",
      "             const   4.9873   4.6647   4.4979   4.4169\n",
      "                   (0.0128) (0.0327) (0.0353) (0.0387)\n",
      "            kvinde  -0.2166  -0.2164  -0.1787  -0.1888\n",
      "                   (0.0185) (0.0176) (0.0172) (0.0171)\n",
      "              educ            0.0282   0.0281   0.0271\n",
      "                            (0.0027) (0.0025) (0.0025)\n",
      "        experience                     0.0102   0.0279\n",
      "                                     (0.0010) (0.0038)\n",
      "       experience2                             -0.0006\n",
      "                                              (0.0001)\n",
      "         R_squared   0.1135   0.1977   0.2685   0.2843\n",
      "               TSS 111.2507 111.2507 111.2507 111.2507\n",
      "               RSS  98.6226  89.2533  81.3842  79.6240\n",
      "               ESS  12.6281  21.9974  29.8665  31.6267\n",
      "                 n     1078     1078     1078     1078\n"
     ]
    }
   ],
   "source": [
    "# Estimate the model using the mlr.ols function\n",
    "mlr1 = mlr.ols(df[['const', 'kvinde']], df['lwage'])\n",
    "mlr2 = mlr.ols(df[['const', 'kvinde', 'educ']], df['lwage'])\n",
    "mlr3 = mlr.ols(df[['const', 'kvinde', 'educ', 'experience']], df['lwage'])\n",
    "mlr4 = mlr.ols(df[['const', 'kvinde', 'educ', 'experience', 'experience2']], df['lwage'])\n",
    "\n",
    "# Print the summary using the mlr.summary() function\n",
    "mlr.summary([mlr1,mlr2,mlr3,mlr4])"
   ]
  },
  {
   "cell_type": "markdown",
   "metadata": {
    "slideshow": {
     "slide_type": "slide"
    }
   },
   "source": [
    "### Dummy for kvinder, mænd og \"the dummy variable trap\""
   ]
  },
  {
   "cell_type": "code",
   "execution_count": 15,
   "metadata": {
    "scrolled": true,
    "slideshow": {
     "slide_type": "-"
    }
   },
   "outputs": [
    {
     "name": "stdout",
     "output_type": "stream",
     "text": [
      "                    Model 1  Model 2  Model 3\n",
      "Dependent variable    lwage    lwage    lwage\n",
      "             const   4.9873   4.7707         \n",
      "                   (0.0128) (0.0133)         \n",
      "            kvinde  -0.2166            4.7707\n",
      "                   (0.0185)          (0.0133)\n",
      "              mand            0.2166   4.9873\n",
      "                            (0.0185) (0.0128)\n",
      "         R_squared   0.1135   0.1135   0.1135\n",
      "               TSS 111.2507 111.2507 111.2507\n",
      "               RSS  98.6226  98.6226  98.6226\n",
      "               ESS  12.6281  12.6281  12.6281\n",
      "                 n     1078     1078     1078\n"
     ]
    }
   ],
   "source": [
    "df['mand'] = (df['sex']==1).astype(int) # Dummy for kvinde\n",
    "# Estimate the model using the mlr.ols function\n",
    "mlr1 = mlr.ols(df[['const', 'kvinde']], df['lwage'])\n",
    "mlr2 = mlr.ols(df[['const', 'mand']], df['lwage'])\n",
    "mlr3 = mlr.ols(df[['kvinde', 'mand']], df['lwage'])\n",
    "\n",
    "# hvorfor kan vi ikke estimere en model med begge dummies og en konstant?\n",
    "#mlr4 = mlr.ols(df[['const','kvinde', 'mand']], df['lwage']) \n",
    "\n",
    "# Print the summary using the mlr.summary() function\n",
    "mlr.summary([mlr1,mlr2,mlr3])"
   ]
  },
  {
   "cell_type": "markdown",
   "metadata": {
    "slideshow": {
     "slide_type": "slide"
    }
   },
   "source": [
    "# Part 2: Lønforskelle på tværs af uddannelseskategorier"
   ]
  },
  {
   "cell_type": "markdown",
   "metadata": {
    "slideshow": {
     "slide_type": "slide"
    }
   },
   "source": [
    "### Uddanelses dummier"
   ]
  },
  {
   "cell_type": "code",
   "execution_count": 6,
   "metadata": {},
   "outputs": [
    {
     "name": "stdout",
     "output_type": "stream",
     "text": [
      "Fordeling af udannelse\n",
      " min_udd       0.202226\n",
      "klasse10      0.119666\n",
      "ung_udd       0.464750\n",
      "videre_udd    0.213358\n",
      "Check sum  :  1.0\n"
     ]
    }
   ],
   "source": [
    "df['min_udd'] =  (df['educ']<10).astype(int)\n",
    "df['klasse10'] =  (df['educ']==10).astype(int)\n",
    "df['ung_udd'] =  ((df['educ'] > 10) & (df['educ'] <= 13)).astype(int)\n",
    "df['videre_udd'] =  (df['educ']>13).astype(int)\n",
    "\n",
    "tab=df[['min_udd','klasse10', 'ung_udd', 'videre_udd']].mean(axis=0)\n",
    "print('Fordeling af udannelse\\n',tab.to_string())\n",
    "print('Check sum  : ',tab.sum())"
   ]
  },
  {
   "cell_type": "markdown",
   "metadata": {
    "slideshow": {
     "slide_type": "slide"
    }
   },
   "source": [
    "### Uddanelses kategorier"
   ]
  },
  {
   "cell_type": "code",
   "execution_count": 7,
   "metadata": {},
   "outputs": [
    {
     "data": {
      "text/html": [
       "<div>\n",
       "<style scoped>\n",
       "    .dataframe tbody tr th:only-of-type {\n",
       "        vertical-align: middle;\n",
       "    }\n",
       "\n",
       "    .dataframe tbody tr th {\n",
       "        vertical-align: top;\n",
       "    }\n",
       "\n",
       "    .dataframe thead th {\n",
       "        text-align: right;\n",
       "    }\n",
       "</style>\n",
       "<table border=\"1\" class=\"dataframe\">\n",
       "  <thead>\n",
       "    <tr style=\"text-align: right;\">\n",
       "      <th>educ</th>\n",
       "      <th>0.0</th>\n",
       "      <th>7.0</th>\n",
       "      <th>8.0</th>\n",
       "      <th>9.0</th>\n",
       "      <th>10.0</th>\n",
       "      <th>11.0</th>\n",
       "      <th>12.0</th>\n",
       "      <th>13.0</th>\n",
       "      <th>14.0</th>\n",
       "      <th>15.0</th>\n",
       "      <th>16.0</th>\n",
       "      <th>17.0</th>\n",
       "      <th>18.0</th>\n",
       "    </tr>\n",
       "    <tr>\n",
       "      <th>udd_kat</th>\n",
       "      <th></th>\n",
       "      <th></th>\n",
       "      <th></th>\n",
       "      <th></th>\n",
       "      <th></th>\n",
       "      <th></th>\n",
       "      <th></th>\n",
       "      <th></th>\n",
       "      <th></th>\n",
       "      <th></th>\n",
       "      <th></th>\n",
       "      <th></th>\n",
       "      <th></th>\n",
       "    </tr>\n",
       "  </thead>\n",
       "  <tbody>\n",
       "    <tr>\n",
       "      <th>1</th>\n",
       "      <td>32</td>\n",
       "      <td>116</td>\n",
       "      <td>21</td>\n",
       "      <td>49</td>\n",
       "      <td>0</td>\n",
       "      <td>0</td>\n",
       "      <td>0</td>\n",
       "      <td>0</td>\n",
       "      <td>0</td>\n",
       "      <td>0</td>\n",
       "      <td>0</td>\n",
       "      <td>0</td>\n",
       "      <td>0</td>\n",
       "    </tr>\n",
       "    <tr>\n",
       "      <th>2</th>\n",
       "      <td>0</td>\n",
       "      <td>0</td>\n",
       "      <td>0</td>\n",
       "      <td>0</td>\n",
       "      <td>129</td>\n",
       "      <td>0</td>\n",
       "      <td>0</td>\n",
       "      <td>0</td>\n",
       "      <td>0</td>\n",
       "      <td>0</td>\n",
       "      <td>0</td>\n",
       "      <td>0</td>\n",
       "      <td>0</td>\n",
       "    </tr>\n",
       "    <tr>\n",
       "      <th>3</th>\n",
       "      <td>0</td>\n",
       "      <td>0</td>\n",
       "      <td>0</td>\n",
       "      <td>0</td>\n",
       "      <td>0</td>\n",
       "      <td>79</td>\n",
       "      <td>283</td>\n",
       "      <td>139</td>\n",
       "      <td>0</td>\n",
       "      <td>0</td>\n",
       "      <td>0</td>\n",
       "      <td>0</td>\n",
       "      <td>0</td>\n",
       "    </tr>\n",
       "    <tr>\n",
       "      <th>4</th>\n",
       "      <td>0</td>\n",
       "      <td>0</td>\n",
       "      <td>0</td>\n",
       "      <td>0</td>\n",
       "      <td>0</td>\n",
       "      <td>0</td>\n",
       "      <td>0</td>\n",
       "      <td>0</td>\n",
       "      <td>64</td>\n",
       "      <td>54</td>\n",
       "      <td>63</td>\n",
       "      <td>36</td>\n",
       "      <td>13</td>\n",
       "    </tr>\n",
       "  </tbody>\n",
       "</table>\n",
       "</div>"
      ],
      "text/plain": [
       "educ     0.0   7.0   8.0   9.0   10.0  11.0  12.0  13.0  14.0  15.0  16.0  \\\n",
       "udd_kat                                                                     \n",
       "1          32   116    21    49     0     0     0     0     0     0     0   \n",
       "2           0     0     0     0   129     0     0     0     0     0     0   \n",
       "3           0     0     0     0     0    79   283   139     0     0     0   \n",
       "4           0     0     0     0     0     0     0     0    64    54    63   \n",
       "\n",
       "educ     17.0  18.0  \n",
       "udd_kat              \n",
       "1           0     0  \n",
       "2           0     0  \n",
       "3           0     0  \n",
       "4          36    13  "
      ]
     },
     "metadata": {},
     "output_type": "display_data"
    }
   ],
   "source": [
    "# Create a cross-tabulation of 'educ' against the new categories\n",
    "df['udd_kat'] = df['min_udd'] + 2*df['klasse10'] + 3*df['ung_udd'] + 4* df['videre_udd']\n",
    "tabulation = pd.crosstab(df['udd_kat'],df['educ'])\n",
    "\n",
    "# Display the result\n",
    "display(tabulation)"
   ]
  },
  {
   "cell_type": "markdown",
   "metadata": {
    "slideshow": {
     "slide_type": "slide"
    }
   },
   "source": [
    "### Løn regregtession med uddanelses dummier"
   ]
  },
  {
   "cell_type": "code",
   "execution_count": 19,
   "metadata": {},
   "outputs": [
    {
     "name": "stdout",
     "output_type": "stream",
     "text": [
      "                    Model 1  Model 2\n",
      "Dependent variable    lwage    lwage\n",
      "             const   4.4169   4.6405\n",
      "                   (0.0387) (0.0305)\n",
      "            kvinde  -0.1888  -0.1836\n",
      "                   (0.0171) (0.0164)\n",
      "        experience   0.0279   0.0280\n",
      "                   (0.0038) (0.0036)\n",
      "       experience2  -0.0006  -0.0006\n",
      "                   (0.0001) (0.0001)\n",
      "              educ   0.0271         \n",
      "                   (0.0025)         \n",
      "          klasse10           -0.0493\n",
      "                            (0.0293)\n",
      "           ung_udd            0.0596\n",
      "                            (0.0212)\n",
      "        videre_udd            0.3086\n",
      "                            (0.0247)\n",
      "         R_squared   0.2843   0.3472\n",
      "               TSS 111.2507 111.2507\n",
      "               RSS  79.6240  72.6190\n",
      "               ESS  31.6267  38.6317\n",
      "                 n     1078     1078\n"
     ]
    }
   ],
   "source": [
    "# Estimate the model using the mlr.ols function\n",
    "Xvar= ['const','kvinde', 'experience', 'experience2']\n",
    "Dvar = ['klasse10', 'ung_udd', 'videre_udd'] # brug 'min_udd' som reference kategori \n",
    "# Prøv at ændre reference kategori. Hvilke koefficienter ærdrer sig\n",
    "\n",
    "mlr1 = mlr.ols(df[Xvar + ['educ']], df['lwage'])\n",
    "mlr2 = mlr.ols(df[Xvar + Dvar], df['lwage'])\n",
    "mlr.summary([mlr1,mlr2])"
   ]
  },
  {
   "cell_type": "markdown",
   "metadata": {
    "slideshow": {
     "slide_type": "slide"
    }
   },
   "source": [
    "###  F-test: Er afkastet af uddannelse er lineært i antallet af års uddannelse? \n",
    "\n",
    "Vi estimerer en urestrikteret model lineær effekt af uddannelse og udd. dummies:\n",
    "\n",
    "$$\n",
    "\\log(\\text{wage}) = \\beta_{0}+\\delta _{1}\\text{klasse10}+\\delta_{2}\\text{ung.udd}+\\delta_{3}\\text{videreg.udd}\n",
    "\t\t\t\t\t\t     +\\beta_{1}\\text{uddannelse} +\\beta_{2}\\text{erfaring}+\\beta_{3}\\text{erfaring}^{2}+\\beta _{4}\\text{kvinde}+u.\n",
    "$$\n",
    "\n",
    "og en restrikteret model under nulhypoten\n",
    "$$H0: \\delta_{1}=\\delta_{2}=\\delta_{3}=0$$\n",
    "\n",
    "For at teste restriktioner på $\\beta$, udfører vi en **F-test** mellem en **fuld model** og en **restrikteret model**.\n",
    "\n",
    "1. **F-statistik**:\n",
    "   $$\n",
    "   F = \\frac{(RSS_r - RSS_{ur}) / q}{RSS_{ur} / (n - k_{ur})} \\sim F(q, n - k_{ur})\n",
    "   $$\n",
    "   Hvor:\n",
    "   - $RSS_r$: RSS for den restrikterede model\n",
    "   - $RSS_{ur}$: RSS for den fulde model\n",
    "   - $q$: antal restriktioner\n",
    "\n",
    "2. **P-værdi**:\n",
    "   P-værdien beregnes som:\n",
    "   $$\n",
    "   p = 1 - F_{\\text{cdf}}(F_{\\text{stat}}, q, n - k_{ur})\n",
    "   $$\n",
    "   hvor $F_{\\text{cdf}}$ er kumulativ fordelingsfunktion for F-fordelingen, og $F_{\\text{stat}}$ er den beregnede F-statistik.\n"
   ]
  },
  {
   "cell_type": "markdown",
   "metadata": {
    "slideshow": {
     "slide_type": "slide"
    }
   },
   "source": [
    "### F-test"
   ]
  },
  {
   "cell_type": "code",
   "execution_count": 20,
   "metadata": {
    "slideshow": {
     "slide_type": "-"
    }
   },
   "outputs": [],
   "source": [
    "from scipy import stats\n",
    "def Ftest(y, X_ur, X_r):\n",
    "    # Fit the unrestricted and unrestricted models and print summary output\n",
    "    m_ur = mlr.ols(X_ur, y)   \n",
    "    m_r = mlr.ols(X_r, y)\n",
    "    mlr.summary([m_ur, m_r])\n",
    "\n",
    "    # Number of observations (n) and parameters (k) in the unrestricted model\n",
    "    n = m_ur['n']\n",
    "    k_ur = m_ur['k'] # Number of columns in X (including intercept)\n",
    "    k_r = m_r['k']   # Number of columns in X_r (including intercept)\n",
    "\n",
    "    # Number of restrictions (q) - this is the difference in parameters between the models\n",
    "    q = k_ur - k_r\n",
    "\n",
    "    # Residual sum of squares (RSS) for both models\n",
    "    RSS_ur = m_ur['RSS']\n",
    "    RSS_r = m_r['RSS']\n",
    "\n",
    "    # Compute the F-statistic\n",
    "    F_stat = ((RSS_r - RSS_ur) / q) / (RSS_ur / (n - k_ur))\n",
    "\n",
    "    # Compute the p-value based on the F-distribution\n",
    "    p_value = 1 - stats.f.cdf(F_stat, q, n - k_ur)\n",
    "\n",
    "    # Display the results\n",
    "    print(f\"\\nF-test for multible lineære hypotester: \")\n",
    "    print(f\"   Number of restrictions: {q:d}\")\n",
    "    print(f\"   Df, unrestricted model: {n -k_ur:d}\")\n",
    "    print(f\"   Df, restricted model: {n - k_r:d}\")\n",
    "    print(f\"   F-statistic: {F_stat:.4f} ~ F({q:d},{n - k_ur:d})\")\n",
    "    print(f\"   Critical value for F-statistic at 5% significance: {stats.f.ppf(0.95, q, n - k_ur):.4f}\")\n",
    "    print(f\"   P-value: {p_value:.4f}\")"
   ]
  },
  {
   "cell_type": "markdown",
   "metadata": {
    "slideshow": {
     "slide_type": "slide"
    }
   },
   "source": [
    "### Do the F-test"
   ]
  },
  {
   "cell_type": "code",
   "execution_count": 21,
   "metadata": {},
   "outputs": [
    {
     "name": "stdout",
     "output_type": "stream",
     "text": [
      "                    Model 1  Model 2\n",
      "Dependent variable    lwage    lwage\n",
      "             const   4.6259   4.4169\n",
      "                   (0.0463) (0.0387)\n",
      "            kvinde  -0.1839  -0.1888\n",
      "                   (0.0164) (0.0171)\n",
      "        experience   0.0279   0.0279\n",
      "                   (0.0036) (0.0038)\n",
      "       experience2  -0.0006  -0.0006\n",
      "                   (0.0001) (0.0001)\n",
      "              educ   0.0023   0.0271\n",
      "                   (0.0055) (0.0025)\n",
      "          klasse10  -0.0574         \n",
      "                   (0.0350)         \n",
      "           ung_udd   0.0467         \n",
      "                   (0.0373)         \n",
      "        videre_udd   0.2880         \n",
      "                   (0.0549)         \n",
      "         R_squared   0.3474   0.2843\n",
      "               TSS 111.2507 111.2507\n",
      "               RSS  72.6070  79.6240\n",
      "               ESS  38.6437  31.6267\n",
      "                 n     1078     1078\n",
      "\n",
      "F-test for multible lineære hypotester: \n",
      "   Number of restrictions: 3\n",
      "   Df, unrestricted model: 1070\n",
      "   Df, restricted model: 1073\n",
      "   F-statistic: 34.4693 ~ F(3,1070)\n",
      "   Critical value for F-statistic at 5% significance: 2.6132\n",
      "   P-value: 0.0000\n"
     ]
    }
   ],
   "source": [
    "Xvar= ['const','kvinde', 'experience', 'experience2']\n",
    "Dvar = ['klasse10', 'ung_udd', 'videre_udd'] # brug 'min_udd' som reference kategori \n",
    "X_ur = df[Xvar + ['educ']+Dvar]\n",
    "X_r = df[Xvar + ['educ']]\n",
    "Ftest(df['lwage'], X_ur, X_r)"
   ]
  },
  {
   "cell_type": "markdown",
   "metadata": {
    "slideshow": {
     "slide_type": "slide"
    }
   },
   "source": [
    "### Konklusion vedr specifikationstest\n",
    "- Vi forkaster H0 med F-test størrelse på 34.4693 fås en p-værdi på 0.0000 ved opslag i 1-F(3,1070) \n",
    "- Vi forkaster at effekten skulle være lineær. Tværtimod. \n",
    "- Når vi har kontrolleret for \"diplom\" effekterne betyder års skolegang ikke noget her (insignifikant)"
   ]
  },
  {
   "cell_type": "markdown",
   "metadata": {
    "slideshow": {
     "slide_type": "slide"
    }
   },
   "source": [
    "# Part 3: Interaktions led"
   ]
  },
  {
   "cell_type": "markdown",
   "metadata": {
    "slideshow": {
     "slide_type": "slide"
    }
   },
   "source": [
    "### Interaktionsled: Heterogent afkanst til uddannelse på tværs af køn"
   ]
  },
  {
   "cell_type": "code",
   "execution_count": 11,
   "metadata": {},
   "outputs": [
    {
     "name": "stdout",
     "output_type": "stream",
     "text": [
      "                    Model 1  Model 2  Model 3\n",
      "Dependent variable    lwage    lwage    lwage\n",
      "             const   4.3155   4.4169   4.3735\n",
      "                   (0.0396) (0.0387) (0.0477)\n",
      "              educ   0.0274   0.0271   0.0309\n",
      "                   (0.0027) (0.0025) (0.0035)\n",
      "        experience   0.0254   0.0279   0.0278\n",
      "                   (0.0040) (0.0038) (0.0038)\n",
      "       experience2  -0.0004  -0.0006  -0.0006\n",
      "                   (0.0001) (0.0001) (0.0001)\n",
      "            kvinde           -0.1888  -0.0990\n",
      "                            (0.0171) (0.0603)\n",
      "       kvindeXeduc                    -0.0078\n",
      "                                     (0.0050)\n",
      "         R_squared   0.2033   0.2843   0.2859\n",
      "               TSS 111.2507 111.2507 111.2507\n",
      "               RSS  88.6338  79.6240  79.4453\n",
      "               ESS  22.6168  31.6267  31.8054\n",
      "                 n     1078     1078     1078\n"
     ]
    }
   ],
   "source": [
    "df['kvindeXeduc'] =  df['kvinde']*df['educ']\n",
    "Xvar= ['const', 'educ', 'experience', 'experience2']\n",
    "\n",
    "mlr1 = mlr.ols(df[Xvar ], df['lwage'])\n",
    "mlr2 = mlr.ols(df[Xvar + ['kvinde']], df['lwage'])\n",
    "mlr3 = mlr.ols(df[Xvar + ['kvinde','kvindeXeduc']], df['lwage'])\n",
    "mlr.summary([mlr1,mlr2,mlr3])"
   ]
  },
  {
   "cell_type": "markdown",
   "metadata": {
    "slideshow": {
     "slide_type": "slide"
    }
   },
   "source": [
    "### Interaktionsled: Heterogent løngab for enlige og gifte kvinder"
   ]
  },
  {
   "cell_type": "code",
   "execution_count": 12,
   "metadata": {},
   "outputs": [
    {
     "name": "stdout",
     "output_type": "stream",
     "text": [
      "                    Model 1  Model 2  Model 3\n",
      "Dependent variable    lwage    lwage    lwage\n",
      "             const   4.3155   4.4314   4.4518\n",
      "                   (0.0396) (0.0405) (0.0409)\n",
      "              educ   0.0274   0.0270   0.0267\n",
      "                   (0.0027) (0.0025) (0.0025)\n",
      "        experience   0.0254   0.0271   0.0279\n",
      "                   (0.0040) (0.0038) (0.0038)\n",
      "       experience2  -0.0004  -0.0005  -0.0006\n",
      "                   (0.0001) (0.0001) (0.0001)\n",
      "            kvinde           -0.1907  -0.2236\n",
      "                            (0.0172) (0.0201)\n",
      "            single           -0.0234  -0.0776\n",
      "                            (0.0195) (0.0260)\n",
      "     kvindeXsingle                     0.1206\n",
      "                                     (0.0386)\n",
      "         R_squared   0.2033   0.2852   0.2917\n",
      "               TSS 111.2507 111.2507 111.2507\n",
      "               RSS  88.6338  79.5174  78.7992\n",
      "               ESS  22.6168  31.7333  32.4515\n",
      "                 n     1078     1078     1078\n"
     ]
    }
   ],
   "source": [
    "df['kvindeXsingle'] =  df['kvinde']*df['single']\n",
    "Xvar= ['const', 'educ', 'experience', 'experience2']\n",
    "\n",
    "mlr1 = mlr.ols(df[Xvar ], df['lwage'])\n",
    "mlr2 = mlr.ols(df[Xvar + ['kvinde', 'single']], df['lwage'])\n",
    "mlr3 = mlr.ols(df[Xvar + ['kvinde', 'single','kvindeXsingle']], df['lwage'])\n",
    "mlr.summary([mlr1,mlr2,mlr3])"
   ]
  },
  {
   "cell_type": "markdown",
   "metadata": {},
   "source": [
    "### Samlet virkning\n",
    "|            | Mand   | Kvinde                              |\n",
    "|------------|--------|-------------------------------------|\n",
    "| Gift       | 0      | -0.224                              |\n",
    "| Single     | -0.078 | -0.224 - 0.078 + 0.121 = -0.181     |\n"
   ]
  }
 ],
 "metadata": {
  "celltoolbar": "Slideshow",
  "date": 1602643870.398518,
  "filename": "38_optimization.rst",
  "kernelspec": {
   "display_name": "Python 3 (ipykernel)",
   "language": "python",
   "name": "python3"
  },
  "language_info": {
   "codemirror_mode": {
    "name": "ipython",
    "version": 3
   },
   "file_extension": ".py",
   "mimetype": "text/x-python",
   "name": "python",
   "nbconvert_exporter": "python",
   "pygments_lexer": "ipython3",
   "version": "3.12.2"
  },
  "title": "Foundations of Computational Economics #38"
 },
 "nbformat": 4,
 "nbformat_minor": 4
}
