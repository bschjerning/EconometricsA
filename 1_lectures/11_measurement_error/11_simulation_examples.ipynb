{
 "cells": [
  {
   "cell_type": "markdown",
   "metadata": {
    "slideshow": {
     "slide_type": "skip"
    }
   },
   "source": [
    "### Enable autoreload"
   ]
  },
  {
   "cell_type": "code",
   "execution_count": 13,
   "metadata": {
    "slideshow": {
     "slide_type": "skip"
    }
   },
   "outputs": [
    {
     "name": "stdout",
     "output_type": "stream",
     "text": [
      "The autoreload extension is already loaded. To reload it, use:\n",
      "  %reload_ext autoreload\n"
     ]
    }
   ],
   "source": [
    "# Sørger for at alle importerede python filer geninlæses ved import statements\n",
    "# Nødvedigt, hvis ændinger skal tage effekt uden at genstarte Python Kernel\n",
    "%load_ext autoreload\n",
    "%autoreload 2"
   ]
  },
  {
   "cell_type": "markdown",
   "metadata": {
    "slideshow": {
     "slide_type": "slide"
    }
   },
   "source": [
    "### Indlæs nødvendige libraries"
   ]
  },
  {
   "cell_type": "code",
   "execution_count": 14,
   "metadata": {},
   "outputs": [],
   "source": [
    "import numpy as np\n",
    "import pandas as pd\n",
    "import matplotlib.pyplot as plt\n",
    "from scipy.stats import norm\n",
    "import mymlr as mlr\n",
    "np.set_printoptions(precision=4, suppress=False, floatmode='maxprec_equal', formatter={'float_kind': '{:g}'.format})"
   ]
  },
  {
   "cell_type": "markdown",
   "metadata": {
    "slideshow": {
     "slide_type": "slide"
    }
   },
   "source": [
    "### Histogram til at visualisere fordelinger"
   ]
  },
  {
   "cell_type": "code",
   "execution_count": 15,
   "metadata": {},
   "outputs": [],
   "source": [
    "def histogram(stat, truestat=None, title='Histogram', xlim=None, bins=50, normdensity=True):\n",
    "    plt.rcParams.update({'font.size': 16})\n",
    "    if truestat is None:\n",
    "        truestat = stat.mean()\n",
    "    fig, ax = plt.subplots(1, len(stat.columns), figsize=(15, 4))\n",
    "    for i, lbl in enumerate(stat.columns):\n",
    "        mcsd = stat[lbl].std();\n",
    "        ax[i].hist(stat[lbl], bins=bins, density=True, alpha=0.7)\n",
    "        ax[i].axvline(x=truestat[i], color='red', linestyle='--')\n",
    "        if normdensity:\n",
    "            x = np.linspace(truestat[i]-4*mcsd, truestat[i]+4*mcsd, 100)\n",
    "            y = norm.pdf(x, loc=truestat[i], scale=mcsd)\n",
    "            ax[i].plot(x, y, color='black')\n",
    "        ax[i].set_title(lbl)\n",
    "        if xlim is not None:\n",
    "            ax[i].set_xlim(xlim)\n",
    "        else:\n",
    "            ax[i].set_xlim(truestat[i]-4*mcsd, truestat[i]+4*mcsd)\n",
    "\n",
    "    plt.tight_layout()\n",
    "    plt.suptitle(title, y=1.02)\n",
    "    plt.show()"
   ]
  },
  {
   "cell_type": "markdown",
   "metadata": {
    "slideshow": {
     "slide_type": "slide"
    }
   },
   "source": [
    "### Monte Carlo Simulator"
   ]
  },
  {
   "cell_type": "code",
   "execution_count": 16,
   "metadata": {},
   "outputs": [],
   "source": [
    "def monte_carlo(simulator, S=1000):\n",
    "    # Loop over repetitions\n",
    "    for s in range(S):\n",
    "        # Simulate data\n",
    "        data = simulator()        \n",
    "\n",
    "        # Estimate model\n",
    "        res = mlr.ols(data[['const', 'x1', 'x2']], data['y'])\n",
    "\n",
    "        # Store results\n",
    "        if s==0:\n",
    "            beta_hat = pd.DataFrame(index=range(S), columns=res['lbl_X'])\n",
    "            se = pd.DataFrame(index=range(S), columns=res['lbl_X'])\n",
    "\n",
    "        beta_hat.loc[s]= res['beta_hat'].T[0]\n",
    "        se.loc[s]= res['standard_errors'].T[0]\n",
    "\n",
    "    return beta_hat, se\n",
    "\n",
    "def summary_table(b,se, beta0): \n",
    "    sumtab = {'Parameter': b.columns,'True Value': beta0, 'Mean Estimate': b.mean(),\n",
    "        'MC Standard Deviation': b.std(),'Average SE': se.mean()}\n",
    "    display(pd.DataFrame(sumtab))"
   ]
  },
  {
   "cell_type": "markdown",
   "metadata": {
    "slideshow": {
     "slide_type": "slide"
    }
   },
   "source": [
    "#  Målefejl og Stikprøve udvælgelse\n",
    "\n",
    "### Econometrics A (ØkA)\n",
    "\n",
    "Bertel Schjerning\n",
    "\n",
    "Department of Economics, University of Copenhagen\n"
   ]
  },
  {
   "cell_type": "markdown",
   "metadata": {
    "slideshow": {
     "slide_type": "slide"
    }
   },
   "source": [
    "# Part 1: Målefejl i den forklarende variabel"
   ]
  },
  {
   "cell_type": "markdown",
   "metadata": {
    "slideshow": {
     "slide_type": "slide"
    }
   },
   "source": [
    "### Introduktion af målefejl i $x_2$\n",
    "\n",
    "$$\n",
    "y_i = \\beta_0 + \\beta_1 x_{1i} + \\beta_2 x_{2i}^* + u_i, \\quad u_i \\sim \\mathcal{N}(0, \\sigma_u^2)\n",
    "$$\n",
    "$$\n",
    "x_{1i} \\sim \\mathcal{N}(\\mu_{x_1}, \\sigma_{x_1}^2)\n",
    "$$\n",
    "$$\n",
    "x_{2i}^* \\sim \\mathcal{N}(\\mu_{x_2}, \\sigma_{x_2}^2)\n",
    "$$\n",
    "$$\n",
    "x_{2i} = x_{2i}^* + e_i, \\quad e_i \\sim \\mathcal{N}(\\mu_e, \\sigma_e^2)\n",
    "$$\n",
    "\n",
    "- $y_i$: afhængig variabel\n",
    "- $x_{1i}$: trukket fra en normalfordeling med middelværdi $\\mu_{x_1}$ og varians $\\sigma_{x_1}^2$\n",
    "- $x_{2i}^*$: sand værdi af $x_{2i}$, også normalfordelt med middelværdi $\\mu_{x_2}$ og varians $\\sigma_{x_2}^2$\n",
    "- $x_{2i}$: indeholder målefejl $e_i$\n",
    "- $e_i$: målefejl, trukket fra en normalfordeling med middelværdi $\\mu_e$ og varians $\\sigma_e^2$\n",
    "- $u_i$: fejlled i regressionen"
   ]
  },
  {
   "cell_type": "code",
   "execution_count": 17,
   "metadata": {},
   "outputs": [],
   "source": [
    "def simulate(n=100, beta=[0, 1, 2], mu_x=[0,0], sigma_x=[1,1], mu_e=0, sigma_e=1, sigma_u=1):\n",
    "\n",
    "    gen_u = lambda mu, sigma, size: np.random.standard_t(3, size)*sigma + mu\n",
    "\n",
    "    const = np.ones(n)\n",
    "    u = np.random.normal(0, sigma_u, size=n) # Error term\n",
    "    e = np.random.normal(mu_e, sigma_e, size=n) # Measurement term\n",
    "    x1 = np.random.normal(mu_x[0], sigma_x[0], size=n) # \n",
    "    x2_star = np.random.normal(mu_x[1], sigma_x[1], size=n) # True value\n",
    "    x2 = x2_star + e\n",
    "    y = beta[0] + beta[1] * x1 + beta[2] * x2_star + u\n",
    "    \n",
    "    return pd.DataFrame({'y': y,'const': const,'x1': x1,'x2': x2, 'u': u, 'e': e})"
   ]
  },
  {
   "cell_type": "markdown",
   "metadata": {},
   "source": [
    "# Experimenter/Spørgsmål\n",
    "\n",
    "- Hvad sker der med OLS-estimaterne, når der **ingen målefejl** er (σₑ = 0)?  \n",
    "- Hvad sker der, når vi **introducerer klassisk målefejl** (σₑ > 0)?  \n",
    "- Hvordan påvirker størrelsen af σₑ **størrelsen af bias**?  \n",
    "- Hvordan påvirker stikprøvestørrelsen n estimaterne?  \n",
    "- Er OLS stadig konsistent, når vi har målefejl?  \n",
    "- Hvordan ser vi brud på MLR.4 i data (korrelation mellem x og fejlleddet)?  \n",
    "- Hvad sker der med **konfidensintervallerne** – dækker de sande parametre?  "
   ]
  },
  {
   "cell_type": "markdown",
   "metadata": {
    "slideshow": {
     "slide_type": "slide"
    }
   },
   "source": [
    "### Simuler data og lav beskrivende statistik\n",
    "Er MLR.1-MLR.4 opfyldt"
   ]
  },
  {
   "cell_type": "code",
   "execution_count": 18,
   "metadata": {},
   "outputs": [
    {
     "name": "stdout",
     "output_type": "stream",
     "text": [
      "Beskrivende statistik:\n"
     ]
    },
    {
     "data": {
      "text/html": [
       "<div>\n",
       "<style scoped>\n",
       "    .dataframe tbody tr th:only-of-type {\n",
       "        vertical-align: middle;\n",
       "    }\n",
       "\n",
       "    .dataframe tbody tr th {\n",
       "        vertical-align: top;\n",
       "    }\n",
       "\n",
       "    .dataframe thead th {\n",
       "        text-align: right;\n",
       "    }\n",
       "</style>\n",
       "<table border=\"1\" class=\"dataframe\">\n",
       "  <thead>\n",
       "    <tr style=\"text-align: right;\">\n",
       "      <th></th>\n",
       "      <th>y</th>\n",
       "      <th>const</th>\n",
       "      <th>x1</th>\n",
       "      <th>x2</th>\n",
       "      <th>u</th>\n",
       "      <th>e</th>\n",
       "    </tr>\n",
       "  </thead>\n",
       "  <tbody>\n",
       "    <tr>\n",
       "      <th>count</th>\n",
       "      <td>1000000.000</td>\n",
       "      <td>1000000.0</td>\n",
       "      <td>1000000.000</td>\n",
       "      <td>1000000.000</td>\n",
       "      <td>1000000.000</td>\n",
       "      <td>1000000.000</td>\n",
       "    </tr>\n",
       "    <tr>\n",
       "      <th>mean</th>\n",
       "      <td>0.003</td>\n",
       "      <td>1.0</td>\n",
       "      <td>0.000</td>\n",
       "      <td>0.002</td>\n",
       "      <td>0.000</td>\n",
       "      <td>0.000</td>\n",
       "    </tr>\n",
       "    <tr>\n",
       "      <th>std</th>\n",
       "      <td>2.448</td>\n",
       "      <td>0.0</td>\n",
       "      <td>1.000</td>\n",
       "      <td>1.414</td>\n",
       "      <td>0.999</td>\n",
       "      <td>1.001</td>\n",
       "    </tr>\n",
       "    <tr>\n",
       "      <th>min</th>\n",
       "      <td>-10.983</td>\n",
       "      <td>1.0</td>\n",
       "      <td>-4.847</td>\n",
       "      <td>-6.791</td>\n",
       "      <td>-5.141</td>\n",
       "      <td>-5.003</td>\n",
       "    </tr>\n",
       "    <tr>\n",
       "      <th>25%</th>\n",
       "      <td>-1.645</td>\n",
       "      <td>1.0</td>\n",
       "      <td>-0.673</td>\n",
       "      <td>-0.953</td>\n",
       "      <td>-0.674</td>\n",
       "      <td>-0.675</td>\n",
       "    </tr>\n",
       "    <tr>\n",
       "      <th>50%</th>\n",
       "      <td>0.005</td>\n",
       "      <td>1.0</td>\n",
       "      <td>0.001</td>\n",
       "      <td>0.003</td>\n",
       "      <td>0.001</td>\n",
       "      <td>0.000</td>\n",
       "    </tr>\n",
       "    <tr>\n",
       "      <th>75%</th>\n",
       "      <td>1.652</td>\n",
       "      <td>1.0</td>\n",
       "      <td>0.675</td>\n",
       "      <td>0.955</td>\n",
       "      <td>0.673</td>\n",
       "      <td>0.675</td>\n",
       "    </tr>\n",
       "    <tr>\n",
       "      <th>max</th>\n",
       "      <td>11.789</td>\n",
       "      <td>1.0</td>\n",
       "      <td>4.488</td>\n",
       "      <td>6.485</td>\n",
       "      <td>5.120</td>\n",
       "      <td>4.742</td>\n",
       "    </tr>\n",
       "  </tbody>\n",
       "</table>\n",
       "</div>"
      ],
      "text/plain": [
       "                 y      const           x1           x2            u  \\\n",
       "count  1000000.000  1000000.0  1000000.000  1000000.000  1000000.000   \n",
       "mean         0.003        1.0        0.000        0.002        0.000   \n",
       "std          2.448        0.0        1.000        1.414        0.999   \n",
       "min        -10.983        1.0       -4.847       -6.791       -5.141   \n",
       "25%         -1.645        1.0       -0.673       -0.953       -0.674   \n",
       "50%          0.005        1.0        0.001        0.003        0.001   \n",
       "75%          1.652        1.0        0.675        0.955        0.673   \n",
       "max         11.789        1.0        4.488        6.485        5.120   \n",
       "\n",
       "                 e  \n",
       "count  1000000.000  \n",
       "mean         0.000  \n",
       "std          1.001  \n",
       "min         -5.003  \n",
       "25%         -0.675  \n",
       "50%          0.000  \n",
       "75%          0.675  \n",
       "max          4.742  "
      ]
     },
     "metadata": {},
     "output_type": "display_data"
    },
    {
     "name": "stdout",
     "output_type": "stream",
     "text": [
      "Correlations matrix:\n"
     ]
    },
    {
     "data": {
      "text/html": [
       "<div>\n",
       "<style scoped>\n",
       "    .dataframe tbody tr th:only-of-type {\n",
       "        vertical-align: middle;\n",
       "    }\n",
       "\n",
       "    .dataframe tbody tr th {\n",
       "        vertical-align: top;\n",
       "    }\n",
       "\n",
       "    .dataframe thead th {\n",
       "        text-align: right;\n",
       "    }\n",
       "</style>\n",
       "<table border=\"1\" class=\"dataframe\">\n",
       "  <thead>\n",
       "    <tr style=\"text-align: right;\">\n",
       "      <th></th>\n",
       "      <th>y</th>\n",
       "      <th>const</th>\n",
       "      <th>x1</th>\n",
       "      <th>x2</th>\n",
       "      <th>u</th>\n",
       "      <th>e</th>\n",
       "    </tr>\n",
       "  </thead>\n",
       "  <tbody>\n",
       "    <tr>\n",
       "      <th>y</th>\n",
       "      <td>1.000</td>\n",
       "      <td>NaN</td>\n",
       "      <td>0.408</td>\n",
       "      <td>0.577</td>\n",
       "      <td>0.407</td>\n",
       "      <td>-0.001</td>\n",
       "    </tr>\n",
       "    <tr>\n",
       "      <th>const</th>\n",
       "      <td>NaN</td>\n",
       "      <td>NaN</td>\n",
       "      <td>NaN</td>\n",
       "      <td>NaN</td>\n",
       "      <td>NaN</td>\n",
       "      <td>NaN</td>\n",
       "    </tr>\n",
       "    <tr>\n",
       "      <th>x1</th>\n",
       "      <td>0.408</td>\n",
       "      <td>NaN</td>\n",
       "      <td>1.000</td>\n",
       "      <td>-0.001</td>\n",
       "      <td>-0.001</td>\n",
       "      <td>-0.000</td>\n",
       "    </tr>\n",
       "    <tr>\n",
       "      <th>x2</th>\n",
       "      <td>0.577</td>\n",
       "      <td>NaN</td>\n",
       "      <td>-0.001</td>\n",
       "      <td>1.000</td>\n",
       "      <td>-0.001</td>\n",
       "      <td>0.707</td>\n",
       "    </tr>\n",
       "    <tr>\n",
       "      <th>u</th>\n",
       "      <td>0.407</td>\n",
       "      <td>NaN</td>\n",
       "      <td>-0.001</td>\n",
       "      <td>-0.001</td>\n",
       "      <td>1.000</td>\n",
       "      <td>-0.001</td>\n",
       "    </tr>\n",
       "    <tr>\n",
       "      <th>e</th>\n",
       "      <td>-0.001</td>\n",
       "      <td>NaN</td>\n",
       "      <td>-0.000</td>\n",
       "      <td>0.707</td>\n",
       "      <td>-0.001</td>\n",
       "      <td>1.000</td>\n",
       "    </tr>\n",
       "  </tbody>\n",
       "</table>\n",
       "</div>"
      ],
      "text/plain": [
       "           y  const     x1     x2      u      e\n",
       "y      1.000    NaN  0.408  0.577  0.407 -0.001\n",
       "const    NaN    NaN    NaN    NaN    NaN    NaN\n",
       "x1     0.408    NaN  1.000 -0.001 -0.001 -0.000\n",
       "x2     0.577    NaN -0.001  1.000 -0.001  0.707\n",
       "u      0.407    NaN -0.001 -0.001  1.000 -0.001\n",
       "e     -0.001    NaN -0.000  0.707 -0.001  1.000"
      ]
     },
     "metadata": {},
     "output_type": "display_data"
    }
   ],
   "source": [
    "df = simulate(n=1000000, beta=[0, 1, 2], sigma_e=1)\n",
    "print(f'Beskrivende statistik:'); display(df.describe().round(3))\n",
    "print(f'Correlations matrix:'); display(df.corr().round(3))"
   ]
  },
  {
   "cell_type": "markdown",
   "metadata": {
    "slideshow": {
     "slide_type": "slide"
    }
   },
   "source": [
    "### Simuler data og estimer model med OLS\n",
    "- Er $\\mathbf{\\hat{\\beta}}$ konsistent for $\\beta$\n",
    "- Hvad sker der når n er stor? Er $p\\lim \\mathbf{\\hat{\\beta}}=\\mathbf{\\beta}$ \n",
    "- Hvad sker der når $\\sigma_{e}=0$ (eller meget lille)"
   ]
  },
  {
   "cell_type": "markdown",
   "metadata": {
    "slideshow": {
     "slide_type": "slide"
    }
   },
   "source": [
    "### Asymptotisk bias på $\\hat{\\beta_2}$\n",
    "plim $\\hat{\\beta_2}$ =$\\beta_2 \\frac{\\sigma_{x_2^*}^2}{\\sigma_e^2 + \\sigma_{x_2^*}^2}$"
   ]
  },
  {
   "cell_type": "code",
   "execution_count": 19,
   "metadata": {},
   "outputs": [
    {
     "name": "stdout",
     "output_type": "stream",
     "text": [
      "true (beta0[2])=-2\n",
      "plim_b2hat=-1.0\n",
      "Asymptotisk bias=1.0\n"
     ]
    },
    {
     "data": {
      "text/html": [
       "<div>\n",
       "<style scoped>\n",
       "    .dataframe tbody tr th:only-of-type {\n",
       "        vertical-align: middle;\n",
       "    }\n",
       "\n",
       "    .dataframe tbody tr th {\n",
       "        vertical-align: top;\n",
       "    }\n",
       "\n",
       "    .dataframe thead th {\n",
       "        text-align: right;\n",
       "    }\n",
       "</style>\n",
       "<table border=\"1\" class=\"dataframe\">\n",
       "  <thead>\n",
       "    <tr style=\"text-align: right;\">\n",
       "      <th></th>\n",
       "      <th>Parameter</th>\n",
       "      <th>True Value</th>\n",
       "      <th>Mean Estimate</th>\n",
       "      <th>MC Standard Deviation</th>\n",
       "      <th>Average SE</th>\n",
       "    </tr>\n",
       "  </thead>\n",
       "  <tbody>\n",
       "    <tr>\n",
       "      <th>const</th>\n",
       "      <td>const</td>\n",
       "      <td>0</td>\n",
       "      <td>0.000387</td>\n",
       "      <td>0.054657</td>\n",
       "      <td>0.054788</td>\n",
       "    </tr>\n",
       "    <tr>\n",
       "      <th>x1</th>\n",
       "      <td>x1</td>\n",
       "      <td>1</td>\n",
       "      <td>0.999848</td>\n",
       "      <td>0.05464</td>\n",
       "      <td>0.054786</td>\n",
       "    </tr>\n",
       "    <tr>\n",
       "      <th>x2</th>\n",
       "      <td>x2</td>\n",
       "      <td>-2</td>\n",
       "      <td>-1.000674</td>\n",
       "      <td>0.03867</td>\n",
       "      <td>0.038776</td>\n",
       "    </tr>\n",
       "  </tbody>\n",
       "</table>\n",
       "</div>"
      ],
      "text/plain": [
       "      Parameter  True Value Mean Estimate MC Standard Deviation Average SE\n",
       "const     const           0      0.000387              0.054657   0.054788\n",
       "x1           x1           1      0.999848               0.05464   0.054786\n",
       "x2           x2          -2     -1.000674               0.03867   0.038776"
      ]
     },
     "metadata": {},
     "output_type": "display_data"
    }
   ],
   "source": [
    "sigma_e=1; \n",
    "beta0=[0,1,-2]; sigma_x0=[1,1,1]\n",
    "plim_b2hat=beta0[2]*(sigma_x0[2]**2)/(sigma_e**2 + sigma_x0[2]**2)\n",
    "print(f'true (beta0[2])={beta0[2]}')\n",
    "print(f'plim_b2hat={plim_b2hat}')\n",
    "print(f'Asymptotisk bias={plim_b2hat-beta0[2]}')\n",
    "\n",
    "simulator1 = lambda: simulate(n=1000, beta=beta0, sigma_x=sigma_x0, sigma_e=sigma_e)\n",
    "b, se = monte_carlo(simulator1, S=1000)\n",
    "summary_table(b,se, beta0)"
   ]
  },
  {
   "cell_type": "markdown",
   "metadata": {
    "slideshow": {
     "slide_type": "slide"
    }
   },
   "source": [
    "### Fordeling af OLS estimatoren"
   ]
  },
  {
   "cell_type": "code",
   "execution_count": 20,
   "metadata": {},
   "outputs": [
    {
     "data": {
      "image/png": "[encoded data removed]",
      "text/plain": [
       "<Figure size 1500x400 with 3 Axes>"
      ]
     },
     "metadata": {},
     "output_type": "display_data"
    },
    {
     "data": {
      "image/png": "[encoded data removed]",
      "text/plain": [
       "<Figure size 1500x400 with 3 Axes>"
      ]
     },
     "metadata": {},
     "output_type": "display_data"
    }
   ],
   "source": [
    "beta0=[0,1,-2]; n=1000; \n",
    "sigma_e=0; b, se = monte_carlo(lambda: simulate(n, beta=beta0, sigma_e=sigma_e), S=10000)\n",
    "histogram(stat=b, truestat=beta0, bins=100, title=f'Parameter estimater, sigma_e={n}');\n",
    "sigma_e=0.2; b, se = monte_carlo(lambda: simulate(n, beta=beta0, sigma_e=sigma_e), S=10000)\n",
    "histogram(stat=b, truestat=beta0, bins=100, title=f'Parameter estimater, sigma_e={n}');\n"
   ]
  },
  {
   "cell_type": "markdown",
   "metadata": {},
   "source": [
    "# Konklusioner\n",
    "\n",
    "- Uden målefejl (σₑ = 0): OLS er unbiased og konsistent.  \n",
    "- Med klassisk målefejl: β₂ bliver **dæmpet mod nul** (attenuation bias).  \n",
    "- Bias vokser, når σₑ stiger – følger reliabilitetsforholdet:  \n",
    "  Var(x*) / [Var(x*) + Var(e)].  \n",
    "- Større stikprøve n reducerer usikkerhed, men ikke bias → OLS er **inkonsistent**.  \n",
    "- MLR.4 brydes: x₂ korrelerer med den sande fejlled → kilde til bias.  \n",
    "- Konfidensintervaller ser “fine” ud, men dækker systematisk forkert værdi.  \n",
    "- Take-away: Målefejl i forklarende variable er alvorlig – giver systematisk bias, som ikke kan fixes med større n eller robuste SE.  "
   ]
  },
  {
   "cell_type": "markdown",
   "metadata": {
    "slideshow": {
     "slide_type": "slide"
    }
   },
   "source": [
    "# Part 2: Stikprøve udvælgelse"
   ]
  },
  {
   "cell_type": "markdown",
   "metadata": {
    "slideshow": {
     "slide_type": "slide"
    }
   },
   "source": [
    "### Simulering af stikprøveudvælgelse\n",
    "\n",
    "Den strukturelle ligning er:\n",
    "\n",
    "$$ \n",
    "y_i = \\beta_0 + \\beta_1 x_{1i} + \\beta_2 x_{2i} + u_i \\quad u_i \\sim \\mathcal{N}(0, \\sigma_u^2) \n",
    "$$\n",
    "\n",
    "Selektionsligningen er:\n",
    "\n",
    "$$ \n",
    "s^*_i = \\delta_0 + \\delta_1 x_{1i} + \\delta_2 x_{2i} + v_i \\quad v_i = e_i + \\rho_{vu} u_i \n",
    "$$\n",
    "\n",
    "Hvor $ s_i = 1 $ hvis $ s^*_i > 0 $, og ellers $ s_i = 0 $ (kun stikprøver med $ s_i = 1 $ udvælges).\n",
    "\n",
    "#### Genereringsprocessen:\n",
    "- $x_1, x_2$: Normalfordelte forklarende variable\n",
    "- $ u_i \\sim \\mathcal{N}(0, \\sigma_u^2) $: Fejlled i den strukturelle ligning\n",
    "- $ e_i \\sim \\mathcal{N}(0, \\sigma_e^2) $: Uafhængig del af fejlled i selektionsligningen\n",
    "- $ v_i = e_i + \\rho_{vu} u_i $: Fejlled i selektionsligningen korreleret med fejlleddet i den strukturelle ligning"
   ]
  },
  {
   "cell_type": "markdown",
   "metadata": {
    "slideshow": {
     "slide_type": "slide"
    }
   },
   "source": [
    "## Simulering af selektionsmodel"
   ]
  },
  {
   "cell_type": "code",
   "execution_count": 22,
   "metadata": {},
   "outputs": [],
   "source": [
    "def simulate(n=100, beta=[0, 1, 2], delta=[0, 0, 0], mu_x=[0,0], sigma_x=[1,1], sigma_u=1, sigma_e=1, rho_vu=0):\n",
    "    const = np.ones(n)\n",
    "    u = np.random.normal(0, sigma_u, size=n)  # Fejlled i strukturel ligning\n",
    "    e = np.random.normal(0, sigma_e, size=n)  # Uafhængigt fejlled i selektionsligning\n",
    "    v = e + rho_vu * u  # Fejlled i selektionsligning\n",
    "    x1 = np.random.normal(mu_x[0], sigma_x[0], size=n)  # Forklarende variabel 1\n",
    "    x2 = np.random.normal(mu_x[1], sigma_x[1], size=n)  # Forklarende variabel 2\n",
    "    y = beta[0] + beta[1] * x1 + beta[2] * x2 + u  # Strukturel ligning (output)\n",
    "    \n",
    "    # Selektionsmodel\n",
    "    s_star = delta[0] + delta[1] * x1 + delta[2] * x2 + v  # Selektionsligning\n",
    "    s = (s_star > 0).astype(int)  # Udvælg stikprøver, hvor s_star > 0\n",
    "\n",
    "    # Dataframes for udvalgte og fulde sample\n",
    "    df = pd.DataFrame({'y': y, 'const': const, 'x1': x1, 'x2': x2, 'u': u, 'e': e, 's': s})\n",
    "    df_selected = df[df[\"s\"] > 0]  # Udvalgt sample\n",
    "\n",
    "    return df_selected, df"
   ]
  },
  {
   "cell_type": "markdown",
   "metadata": {
    "slideshow": {
     "slide_type": "slide"
    }
   },
   "source": [
    "## Sammenligning af fuld og selekteret stikprøve\n",
    "\n",
    "### Er er selektion korrelerete med fejlled og de forklarende variable, og er det et problem? \n",
    "- **Tilfældig udvælgelse** ($\\delta = 0$, $\\sigma_e \\neq 0$, $\\rho_{vu} = 0$)\n",
    "- **Udvælgelse baseret på forklarende variable** ($\\delta \\neq 0$)\n",
    "- **Udvælgelse baseret på variable, vi ikke kontrollerer for som er korreleret med u** ($\\rho_{vu} \\neq 0$, $v$ korreleret med $u$):\n"
   ]
  },
  {
   "cell_type": "code",
   "execution_count": 23,
   "metadata": {},
   "outputs": [
    {
     "name": "stdout",
     "output_type": "stream",
     "text": [
      "Beskrivende statistik:\n"
     ]
    },
    {
     "data": {
      "text/html": [
       "<div>\n",
       "<style scoped>\n",
       "    .dataframe tbody tr th:only-of-type {\n",
       "        vertical-align: middle;\n",
       "    }\n",
       "\n",
       "    .dataframe tbody tr th {\n",
       "        vertical-align: top;\n",
       "    }\n",
       "\n",
       "    .dataframe thead th {\n",
       "        text-align: right;\n",
       "    }\n",
       "</style>\n",
       "<table border=\"1\" class=\"dataframe\">\n",
       "  <thead>\n",
       "    <tr style=\"text-align: right;\">\n",
       "      <th></th>\n",
       "      <th>y</th>\n",
       "      <th>const</th>\n",
       "      <th>x1</th>\n",
       "      <th>x2</th>\n",
       "      <th>u</th>\n",
       "      <th>e</th>\n",
       "      <th>s</th>\n",
       "    </tr>\n",
       "  </thead>\n",
       "  <tbody>\n",
       "    <tr>\n",
       "      <th>count</th>\n",
       "      <td>10000.000</td>\n",
       "      <td>10000.0</td>\n",
       "      <td>10000.000</td>\n",
       "      <td>10000.000</td>\n",
       "      <td>10000.000</td>\n",
       "      <td>10000.000</td>\n",
       "      <td>10000.000</td>\n",
       "    </tr>\n",
       "    <tr>\n",
       "      <th>mean</th>\n",
       "      <td>-0.030</td>\n",
       "      <td>1.0</td>\n",
       "      <td>-0.010</td>\n",
       "      <td>-0.007</td>\n",
       "      <td>-0.007</td>\n",
       "      <td>-0.004</td>\n",
       "      <td>0.501</td>\n",
       "    </tr>\n",
       "    <tr>\n",
       "      <th>std</th>\n",
       "      <td>2.448</td>\n",
       "      <td>0.0</td>\n",
       "      <td>1.007</td>\n",
       "      <td>1.000</td>\n",
       "      <td>1.003</td>\n",
       "      <td>0.992</td>\n",
       "      <td>0.500</td>\n",
       "    </tr>\n",
       "    <tr>\n",
       "      <th>min</th>\n",
       "      <td>-10.154</td>\n",
       "      <td>1.0</td>\n",
       "      <td>-3.438</td>\n",
       "      <td>-3.693</td>\n",
       "      <td>-3.671</td>\n",
       "      <td>-4.007</td>\n",
       "      <td>0.000</td>\n",
       "    </tr>\n",
       "    <tr>\n",
       "      <th>25%</th>\n",
       "      <td>-1.674</td>\n",
       "      <td>1.0</td>\n",
       "      <td>-0.692</td>\n",
       "      <td>-0.676</td>\n",
       "      <td>-0.686</td>\n",
       "      <td>-0.657</td>\n",
       "      <td>0.000</td>\n",
       "    </tr>\n",
       "    <tr>\n",
       "      <th>50%</th>\n",
       "      <td>-0.035</td>\n",
       "      <td>1.0</td>\n",
       "      <td>-0.007</td>\n",
       "      <td>-0.005</td>\n",
       "      <td>-0.010</td>\n",
       "      <td>0.003</td>\n",
       "      <td>1.000</td>\n",
       "    </tr>\n",
       "    <tr>\n",
       "      <th>75%</th>\n",
       "      <td>1.620</td>\n",
       "      <td>1.0</td>\n",
       "      <td>0.671</td>\n",
       "      <td>0.647</td>\n",
       "      <td>0.655</td>\n",
       "      <td>0.674</td>\n",
       "      <td>1.000</td>\n",
       "    </tr>\n",
       "    <tr>\n",
       "      <th>max</th>\n",
       "      <td>10.179</td>\n",
       "      <td>1.0</td>\n",
       "      <td>3.763</td>\n",
       "      <td>3.712</td>\n",
       "      <td>3.665</td>\n",
       "      <td>3.614</td>\n",
       "      <td>1.000</td>\n",
       "    </tr>\n",
       "  </tbody>\n",
       "</table>\n",
       "</div>"
      ],
      "text/plain": [
       "               y    const         x1         x2          u          e  \\\n",
       "count  10000.000  10000.0  10000.000  10000.000  10000.000  10000.000   \n",
       "mean      -0.030      1.0     -0.010     -0.007     -0.007     -0.004   \n",
       "std        2.448      0.0      1.007      1.000      1.003      0.992   \n",
       "min      -10.154      1.0     -3.438     -3.693     -3.671     -4.007   \n",
       "25%       -1.674      1.0     -0.692     -0.676     -0.686     -0.657   \n",
       "50%       -0.035      1.0     -0.007     -0.005     -0.010      0.003   \n",
       "75%        1.620      1.0      0.671      0.647      0.655      0.674   \n",
       "max       10.179      1.0      3.763      3.712      3.665      3.614   \n",
       "\n",
       "               s  \n",
       "count  10000.000  \n",
       "mean       0.501  \n",
       "std        0.500  \n",
       "min        0.000  \n",
       "25%        0.000  \n",
       "50%        1.000  \n",
       "75%        1.000  \n",
       "max        1.000  "
      ]
     },
     "metadata": {},
     "output_type": "display_data"
    },
    {
     "name": "stdout",
     "output_type": "stream",
     "text": [
      "Correlations matrix:\n"
     ]
    },
    {
     "data": {
      "text/html": [
       "<div>\n",
       "<style scoped>\n",
       "    .dataframe tbody tr th:only-of-type {\n",
       "        vertical-align: middle;\n",
       "    }\n",
       "\n",
       "    .dataframe tbody tr th {\n",
       "        vertical-align: top;\n",
       "    }\n",
       "\n",
       "    .dataframe thead th {\n",
       "        text-align: right;\n",
       "    }\n",
       "</style>\n",
       "<table border=\"1\" class=\"dataframe\">\n",
       "  <thead>\n",
       "    <tr style=\"text-align: right;\">\n",
       "      <th></th>\n",
       "      <th>y</th>\n",
       "      <th>const</th>\n",
       "      <th>x1</th>\n",
       "      <th>x2</th>\n",
       "      <th>u</th>\n",
       "      <th>e</th>\n",
       "      <th>s</th>\n",
       "    </tr>\n",
       "  </thead>\n",
       "  <tbody>\n",
       "    <tr>\n",
       "      <th>y</th>\n",
       "      <td>1.000</td>\n",
       "      <td>NaN</td>\n",
       "      <td>0.403</td>\n",
       "      <td>0.817</td>\n",
       "      <td>0.407</td>\n",
       "      <td>-0.017</td>\n",
       "      <td>-0.014</td>\n",
       "    </tr>\n",
       "    <tr>\n",
       "      <th>const</th>\n",
       "      <td>NaN</td>\n",
       "      <td>NaN</td>\n",
       "      <td>NaN</td>\n",
       "      <td>NaN</td>\n",
       "      <td>NaN</td>\n",
       "      <td>NaN</td>\n",
       "      <td>NaN</td>\n",
       "    </tr>\n",
       "    <tr>\n",
       "      <th>x1</th>\n",
       "      <td>0.403</td>\n",
       "      <td>NaN</td>\n",
       "      <td>1.000</td>\n",
       "      <td>-0.003</td>\n",
       "      <td>-0.014</td>\n",
       "      <td>-0.018</td>\n",
       "      <td>-0.010</td>\n",
       "    </tr>\n",
       "    <tr>\n",
       "      <th>x2</th>\n",
       "      <td>0.817</td>\n",
       "      <td>NaN</td>\n",
       "      <td>-0.003</td>\n",
       "      <td>1.000</td>\n",
       "      <td>0.004</td>\n",
       "      <td>-0.001</td>\n",
       "      <td>-0.002</td>\n",
       "    </tr>\n",
       "    <tr>\n",
       "      <th>u</th>\n",
       "      <td>0.407</td>\n",
       "      <td>NaN</td>\n",
       "      <td>-0.014</td>\n",
       "      <td>0.004</td>\n",
       "      <td>1.000</td>\n",
       "      <td>-0.021</td>\n",
       "      <td>-0.019</td>\n",
       "    </tr>\n",
       "    <tr>\n",
       "      <th>e</th>\n",
       "      <td>-0.017</td>\n",
       "      <td>NaN</td>\n",
       "      <td>-0.018</td>\n",
       "      <td>-0.001</td>\n",
       "      <td>-0.021</td>\n",
       "      <td>1.000</td>\n",
       "      <td>0.796</td>\n",
       "    </tr>\n",
       "    <tr>\n",
       "      <th>s</th>\n",
       "      <td>-0.014</td>\n",
       "      <td>NaN</td>\n",
       "      <td>-0.010</td>\n",
       "      <td>-0.002</td>\n",
       "      <td>-0.019</td>\n",
       "      <td>0.796</td>\n",
       "      <td>1.000</td>\n",
       "    </tr>\n",
       "  </tbody>\n",
       "</table>\n",
       "</div>"
      ],
      "text/plain": [
       "           y  const     x1     x2      u      e      s\n",
       "y      1.000    NaN  0.403  0.817  0.407 -0.017 -0.014\n",
       "const    NaN    NaN    NaN    NaN    NaN    NaN    NaN\n",
       "x1     0.403    NaN  1.000 -0.003 -0.014 -0.018 -0.010\n",
       "x2     0.817    NaN -0.003  1.000  0.004 -0.001 -0.002\n",
       "u      0.407    NaN -0.014  0.004  1.000 -0.021 -0.019\n",
       "e     -0.017    NaN -0.018 -0.001 -0.021  1.000  0.796\n",
       "s     -0.014    NaN -0.010 -0.002 -0.019  0.796  1.000"
      ]
     },
     "metadata": {},
     "output_type": "display_data"
    },
    {
     "name": "stdout",
     "output_type": "stream",
     "text": [
      "Beskrivende statistik:\n"
     ]
    },
    {
     "data": {
      "text/html": [
       "<div>\n",
       "<style scoped>\n",
       "    .dataframe tbody tr th:only-of-type {\n",
       "        vertical-align: middle;\n",
       "    }\n",
       "\n",
       "    .dataframe tbody tr th {\n",
       "        vertical-align: top;\n",
       "    }\n",
       "\n",
       "    .dataframe thead th {\n",
       "        text-align: right;\n",
       "    }\n",
       "</style>\n",
       "<table border=\"1\" class=\"dataframe\">\n",
       "  <thead>\n",
       "    <tr style=\"text-align: right;\">\n",
       "      <th></th>\n",
       "      <th>y</th>\n",
       "      <th>const</th>\n",
       "      <th>x1</th>\n",
       "      <th>x2</th>\n",
       "      <th>u</th>\n",
       "      <th>e</th>\n",
       "      <th>s</th>\n",
       "    </tr>\n",
       "  </thead>\n",
       "  <tbody>\n",
       "    <tr>\n",
       "      <th>count</th>\n",
       "      <td>5013.000</td>\n",
       "      <td>5013.0</td>\n",
       "      <td>5013.000</td>\n",
       "      <td>5013.000</td>\n",
       "      <td>5013.000</td>\n",
       "      <td>5013.000</td>\n",
       "      <td>5013.0</td>\n",
       "    </tr>\n",
       "    <tr>\n",
       "      <th>mean</th>\n",
       "      <td>-0.065</td>\n",
       "      <td>1.0</td>\n",
       "      <td>-0.020</td>\n",
       "      <td>-0.009</td>\n",
       "      <td>-0.026</td>\n",
       "      <td>0.784</td>\n",
       "      <td>1.0</td>\n",
       "    </tr>\n",
       "    <tr>\n",
       "      <th>std</th>\n",
       "      <td>2.430</td>\n",
       "      <td>0.0</td>\n",
       "      <td>1.007</td>\n",
       "      <td>0.984</td>\n",
       "      <td>1.003</td>\n",
       "      <td>0.590</td>\n",
       "      <td>0.0</td>\n",
       "    </tr>\n",
       "    <tr>\n",
       "      <th>min</th>\n",
       "      <td>-8.361</td>\n",
       "      <td>1.0</td>\n",
       "      <td>-3.438</td>\n",
       "      <td>-3.607</td>\n",
       "      <td>-3.320</td>\n",
       "      <td>0.000</td>\n",
       "      <td>1.0</td>\n",
       "    </tr>\n",
       "    <tr>\n",
       "      <th>25%</th>\n",
       "      <td>-1.691</td>\n",
       "      <td>1.0</td>\n",
       "      <td>-0.692</td>\n",
       "      <td>-0.669</td>\n",
       "      <td>-0.708</td>\n",
       "      <td>0.316</td>\n",
       "      <td>1.0</td>\n",
       "    </tr>\n",
       "    <tr>\n",
       "      <th>50%</th>\n",
       "      <td>-0.112</td>\n",
       "      <td>1.0</td>\n",
       "      <td>-0.014</td>\n",
       "      <td>-0.010</td>\n",
       "      <td>-0.037</td>\n",
       "      <td>0.672</td>\n",
       "      <td>1.0</td>\n",
       "    </tr>\n",
       "    <tr>\n",
       "      <th>75%</th>\n",
       "      <td>1.580</td>\n",
       "      <td>1.0</td>\n",
       "      <td>0.664</td>\n",
       "      <td>0.642</td>\n",
       "      <td>0.644</td>\n",
       "      <td>1.123</td>\n",
       "      <td>1.0</td>\n",
       "    </tr>\n",
       "    <tr>\n",
       "      <th>max</th>\n",
       "      <td>8.839</td>\n",
       "      <td>1.0</td>\n",
       "      <td>3.627</td>\n",
       "      <td>3.546</td>\n",
       "      <td>3.665</td>\n",
       "      <td>3.614</td>\n",
       "      <td>1.0</td>\n",
       "    </tr>\n",
       "  </tbody>\n",
       "</table>\n",
       "</div>"
      ],
      "text/plain": [
       "              y   const        x1        x2         u         e       s\n",
       "count  5013.000  5013.0  5013.000  5013.000  5013.000  5013.000  5013.0\n",
       "mean     -0.065     1.0    -0.020    -0.009    -0.026     0.784     1.0\n",
       "std       2.430     0.0     1.007     0.984     1.003     0.590     0.0\n",
       "min      -8.361     1.0    -3.438    -3.607    -3.320     0.000     1.0\n",
       "25%      -1.691     1.0    -0.692    -0.669    -0.708     0.316     1.0\n",
       "50%      -0.112     1.0    -0.014    -0.010    -0.037     0.672     1.0\n",
       "75%       1.580     1.0     0.664     0.642     0.644     1.123     1.0\n",
       "max       8.839     1.0     3.627     3.546     3.665     3.614     1.0"
      ]
     },
     "metadata": {},
     "output_type": "display_data"
    },
    {
     "name": "stdout",
     "output_type": "stream",
     "text": [
      "Correlations matrix:\n"
     ]
    },
    {
     "data": {
      "text/html": [
       "<div>\n",
       "<style scoped>\n",
       "    .dataframe tbody tr th:only-of-type {\n",
       "        vertical-align: middle;\n",
       "    }\n",
       "\n",
       "    .dataframe tbody tr th {\n",
       "        vertical-align: top;\n",
       "    }\n",
       "\n",
       "    .dataframe thead th {\n",
       "        text-align: right;\n",
       "    }\n",
       "</style>\n",
       "<table border=\"1\" class=\"dataframe\">\n",
       "  <thead>\n",
       "    <tr style=\"text-align: right;\">\n",
       "      <th></th>\n",
       "      <th>y</th>\n",
       "      <th>const</th>\n",
       "      <th>x1</th>\n",
       "      <th>x2</th>\n",
       "      <th>u</th>\n",
       "      <th>e</th>\n",
       "      <th>s</th>\n",
       "    </tr>\n",
       "  </thead>\n",
       "  <tbody>\n",
       "    <tr>\n",
       "      <th>y</th>\n",
       "      <td>1.000</td>\n",
       "      <td>NaN</td>\n",
       "      <td>0.413</td>\n",
       "      <td>0.814</td>\n",
       "      <td>0.412</td>\n",
       "      <td>0.008</td>\n",
       "      <td>NaN</td>\n",
       "    </tr>\n",
       "    <tr>\n",
       "      <th>const</th>\n",
       "      <td>NaN</td>\n",
       "      <td>NaN</td>\n",
       "      <td>NaN</td>\n",
       "      <td>NaN</td>\n",
       "      <td>NaN</td>\n",
       "      <td>NaN</td>\n",
       "      <td>NaN</td>\n",
       "    </tr>\n",
       "    <tr>\n",
       "      <th>x1</th>\n",
       "      <td>0.413</td>\n",
       "      <td>NaN</td>\n",
       "      <td>1.000</td>\n",
       "      <td>0.005</td>\n",
       "      <td>-0.012</td>\n",
       "      <td>-0.006</td>\n",
       "      <td>NaN</td>\n",
       "    </tr>\n",
       "    <tr>\n",
       "      <th>x2</th>\n",
       "      <td>0.814</td>\n",
       "      <td>NaN</td>\n",
       "      <td>0.005</td>\n",
       "      <td>1.000</td>\n",
       "      <td>0.005</td>\n",
       "      <td>0.007</td>\n",
       "      <td>NaN</td>\n",
       "    </tr>\n",
       "    <tr>\n",
       "      <th>u</th>\n",
       "      <td>0.412</td>\n",
       "      <td>NaN</td>\n",
       "      <td>-0.012</td>\n",
       "      <td>0.005</td>\n",
       "      <td>1.000</td>\n",
       "      <td>0.013</td>\n",
       "      <td>NaN</td>\n",
       "    </tr>\n",
       "    <tr>\n",
       "      <th>e</th>\n",
       "      <td>0.008</td>\n",
       "      <td>NaN</td>\n",
       "      <td>-0.006</td>\n",
       "      <td>0.007</td>\n",
       "      <td>0.013</td>\n",
       "      <td>1.000</td>\n",
       "      <td>NaN</td>\n",
       "    </tr>\n",
       "    <tr>\n",
       "      <th>s</th>\n",
       "      <td>NaN</td>\n",
       "      <td>NaN</td>\n",
       "      <td>NaN</td>\n",
       "      <td>NaN</td>\n",
       "      <td>NaN</td>\n",
       "      <td>NaN</td>\n",
       "      <td>NaN</td>\n",
       "    </tr>\n",
       "  </tbody>\n",
       "</table>\n",
       "</div>"
      ],
      "text/plain": [
       "           y  const     x1     x2      u      e   s\n",
       "y      1.000    NaN  0.413  0.814  0.412  0.008 NaN\n",
       "const    NaN    NaN    NaN    NaN    NaN    NaN NaN\n",
       "x1     0.413    NaN  1.000  0.005 -0.012 -0.006 NaN\n",
       "x2     0.814    NaN  0.005  1.000  0.005  0.007 NaN\n",
       "u      0.412    NaN -0.012  0.005  1.000  0.013 NaN\n",
       "e      0.008    NaN -0.006  0.007  0.013  1.000 NaN\n",
       "s        NaN    NaN    NaN    NaN    NaN    NaN NaN"
      ]
     },
     "metadata": {},
     "output_type": "display_data"
    }
   ],
   "source": [
    "df_selected, df_all = simulate(n=10000, delta=[0, 0, 0], beta=[0, 1, 2], sigma_e=1, rho_vu=0)\n",
    "for df in [df_all, df_selected]:\n",
    "    print(f'Beskrivende statistik:'); display(df.describe().round(3))\n",
    "    print(f'Correlations matrix:'); display(df.corr().round(3))\n"
   ]
  },
  {
   "cell_type": "markdown",
   "metadata": {
    "slideshow": {
     "slide_type": "slide"
    }
   },
   "source": [
    "## Stikprøveudvælgelse og bias\n",
    "\n",
    "Hvornår forventer vi stikprøveudvælgelsesbias, når vi estimerer modellen\n",
    "\n",
    "$$\n",
    "y_i = \\beta_0 + \\beta_1 x_{1i} + \\beta_2 x_{2i} + u_i\n",
    "$$\n",
    "\n",
    "på den udvalgte stikprøve (dvs. $s_i = 1$)?\n",
    "\n",
    "Modellens ligninger\n",
    "\n",
    "$$ \n",
    "y_i = \\beta_0 + \\beta_1 x_{1i} + \\beta_2 x_{2i} + u_i \\quad u_i \\sim \\mathcal{N}(0, \\sigma_u^2) \\\\\n",
    "s^*_i = \\delta_0 + \\delta_1 x_{1i} + \\delta_2 x_{2i} + v_i \\quad v_i = e_i + \\rho_{vu} u_i \\\\\n",
    "s_i = 1(s^*_i>0)\n",
    "$$\n",
    "### Hvornår får vi bias pga stikprøveudvælgelse?\n",
    "- **Tilfældig udvælgelse** ($\\delta = 0$, $\\sigma_e \\neq 0$, $\\rho_{vu} = 0$)\n",
    "- **Udvælgelse baseret på forklarende variable** ($\\delta \\neq 0$)\n",
    "- **Udvælgelse baseret på variable, vi ikke kontrollerer for som er korreleret med u** ($\\rho_{vu} \\neq 0$, $v$ korreleret med $u$):\n"
   ]
  },
  {
   "cell_type": "markdown",
   "metadata": {
    "slideshow": {
     "slide_type": "slide"
    }
   },
   "source": [
    "## Monte Carlo"
   ]
  },
  {
   "cell_type": "code",
   "execution_count": 29,
   "metadata": {
    "slideshow": {
     "slide_type": "-"
    }
   },
   "outputs": [
    {
     "data": {
      "text/html": [
       "<div>\n",
       "<style scoped>\n",
       "    .dataframe tbody tr th:only-of-type {\n",
       "        vertical-align: middle;\n",
       "    }\n",
       "\n",
       "    .dataframe tbody tr th {\n",
       "        vertical-align: top;\n",
       "    }\n",
       "\n",
       "    .dataframe thead th {\n",
       "        text-align: right;\n",
       "    }\n",
       "</style>\n",
       "<table border=\"1\" class=\"dataframe\">\n",
       "  <thead>\n",
       "    <tr style=\"text-align: right;\">\n",
       "      <th></th>\n",
       "      <th>Parameter</th>\n",
       "      <th>True Value</th>\n",
       "      <th>Mean Estimate</th>\n",
       "      <th>MC Standard Deviation</th>\n",
       "      <th>Average SE</th>\n",
       "    </tr>\n",
       "  </thead>\n",
       "  <tbody>\n",
       "    <tr>\n",
       "      <th>const</th>\n",
       "      <td>const</td>\n",
       "      <td>0</td>\n",
       "      <td>0.584552</td>\n",
       "      <td>0.013074</td>\n",
       "      <td>0.013628</td>\n",
       "    </tr>\n",
       "    <tr>\n",
       "      <th>x1</th>\n",
       "      <td>x1</td>\n",
       "      <td>1</td>\n",
       "      <td>0.730626</td>\n",
       "      <td>0.013522</td>\n",
       "      <td>0.013628</td>\n",
       "    </tr>\n",
       "    <tr>\n",
       "      <th>x2</th>\n",
       "      <td>x2</td>\n",
       "      <td>-2</td>\n",
       "      <td>-2.000398</td>\n",
       "      <td>0.011566</td>\n",
       "      <td>0.012098</td>\n",
       "    </tr>\n",
       "  </tbody>\n",
       "</table>\n",
       "</div>"
      ],
      "text/plain": [
       "      Parameter  True Value Mean Estimate MC Standard Deviation Average SE\n",
       "const     const           0      0.584552              0.013074   0.013628\n",
       "x1           x1           1      0.730626              0.013522   0.013628\n",
       "x2           x2          -2     -2.000398              0.011566   0.012098"
      ]
     },
     "metadata": {},
     "output_type": "display_data"
    }
   ],
   "source": [
    "def simulator1(): \n",
    "    df_selected, df_all = simulate(n=10000, delta=[0, 1, 0], beta=[0, 1, -2], sigma_e=1, rho_vu=1)\n",
    "    return df_selected\n",
    "b, se = monte_carlo(simulator1, S=1000)\n",
    "summary_table(b,se, beta0)"
   ]
  },
  {
   "cell_type": "markdown",
   "metadata": {
    "slideshow": {
     "slide_type": "slide"
    }
   },
   "source": [
    "### Hvornår får vi bias pga stikprøveudvælgelse?\n",
    "\n",
    "Stikprøveudvælgelsesbias opstår, når $E(u|x, s = 1) \\neq 0$. \n",
    "\n",
    "#### Lad os se på de forskellige scenarier:\n",
    "\n",
    "- **Tilfældig udvælgelse** ($\\delta = 0$, $\\sigma_e \\neq 0$, $\\rho_{vu} = 0$):\n",
    "  - Ingen bias, da $E(u|x, s = 1) = E(u|x) = 0$. Udvælgelsen er tilfældig og ikke korreleret med fejlleddet $u$. Estimaterne er middelrette.\n",
    "\n",
    "- **Udvælgelse baseret på forklarende variable** ($\\delta \\neq 0$):\n",
    "  - Ingen bias, fordi udvælgelsen kun afhænger af observerbare forklarende variable ($x_1$, $x_2$), som vi kontrollerer for i modellen. Da $E(u|x, s = 1) = 0$, er estimaterne middelrette.\n",
    "\n",
    "- **Udvælgelse baseret på uobserverede variable korreleret med $u$** ($\\rho_{vu} \\neq 0$):\n",
    "  - Bias opstår, fordi udvælgelsen er afhængig af uobserverede variable, der er korreleret med $u$. Dette fører til, at $E(u|x, s = 1) \\neq 0$, hvilket introducerer stikprøveudvælgelsesbias i estimaterne af $\\beta_0$, $\\beta_1$ og $\\beta_2$.\n",
    "\n"
   ]
  }
 ],
 "metadata": {
  "celltoolbar": "Slideshow",
  "date": 1602643870.398518,
  "filename": "38_optimization.rst",
  "kernelspec": {
   "display_name": "Python 3 (ipykernel)",
   "language": "python",
   "name": "python3"
  },
  "language_info": {
   "codemirror_mode": {
    "name": "ipython",
    "version": 3
   },
   "file_extension": ".py",
   "mimetype": "text/x-python",
   "name": "python",
   "nbconvert_exporter": "python",
   "pygments_lexer": "ipython3",
   "version": "3.13.5"
  },
  "title": "Foundations of Computational Economics #38"
 },
 "nbformat": 4,
 "nbformat_minor": 4
}
