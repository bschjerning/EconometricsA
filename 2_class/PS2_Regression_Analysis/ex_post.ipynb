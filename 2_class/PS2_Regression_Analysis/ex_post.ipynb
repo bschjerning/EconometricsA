{
 "cells": [
  {
   "cell_type": "markdown",
   "metadata": {},
   "source": [
    "# Problem Set 2\n"
   ]
  },
  {
   "cell_type": "markdown",
   "metadata": {},
   "source": [
    "## An econometric analysis of Engel curves for U.S. households\n",
    "In problem set 1, we undertook the initial analysis of the data and discussed regression models of Engel curves for food, clothes and alcohol. The objective of this week’s problem set is to estimate a simple regression model of the Engel curve using the OLS estimator.\n",
    "\n",
    "The starting point is a regression model with one explanatory variable. Specifically, let us consider the case where the dependent variable represents food expenditures, while the explanatory variable is total expenditure:\n",
    "\n",
    "\\begin{align}\n",
    "\\text{xfath}_i = \\beta_0 + \\beta_1 \\text{xtot}_i + u_i \\tag{1}\n",
    "\\end{align}\n",
    "\n",
    "In the consumption literature, it is common to use expenditure share, $\\text{xfath}/\\text{xtot}$, as the dependent variable instead of using total food expenditures. Furthermore, the logarithm of total expenditure deflated by an individual ”consumer price index” is often used as the explanatory variable. In this case, the regression model is:\n",
    "\n",
    "\\begin{align}\n",
    "\\frac{\\text{xfath}_i}{\\text{xtot}_i} = \\delta_0 + \\delta_1 \\log \\left(\\frac{\\text{xtot}_i}{\\text{price}_i}\n",
    "\\right) + v_i \\tag{2}\n",
    "\\end{align}"
   ]
  },
  {
   "cell_type": "markdown",
   "metadata": {},
   "source": [
    "\n",
    "## Group work: Discuss model (2)"
   ]
  },
  {
   "cell_type": "markdown",
   "metadata": {},
   "source": [
    "### Question 1\n",
    "**Task:** What is the interpretation of $\\delta_1$ when $%\n",
    "\\delta_1>0$ and $\\delta_1<0$? \n",
    "(Hint: luxury versus necessity goods)\n",
    "\n",
    "**Your answer:**"
   ]
  },
  {
   "cell_type": "markdown",
   "metadata": {},
   "source": [
    "When $\\delta_1$ is larger than 0, food constitutes a larger portion of total expenditure when total expenditure increases. In this case, food is a luxury good.\n",
    "\n",
    "On the contrary, when $\\delta_0$ is less than zero, food constitutes a smaller portion of total expenditure when total expenditure increases. In this case, food is a necessity good.\n",
    "\n",
    "The reason why we deflate total expenditure using an \"individual\" consumer price index is partially to account for regional price differences (a cucumber could be more expensive in northern regions compared to for example Toronto), and partially to account for the fact that the data is not collected on a single day, but throughout 1992 (summer prices might vary from winter prices)\n",
    "\n",
    "The reason we use the log transformation is that it turns out that this empirically yields the best numerical results. The interpretation changes since we in model (2) look at how the expenditure share for a good changes when there is a percentage change in the total expenditure (as opposed to an absolute change).\n"
   ]
  },
  {
   "cell_type": "markdown",
   "metadata": {},
   "source": [
    "### Question 2\n",
    "**Task:** What is likely to be included in the error term in model (2)?\n",
    "(Hint: What other variables may influence the dependent variable, $\\text{xfath}/\\text{xtot}$, besides the explanatory variable?)\n",
    "\n",
    "**Your answer:**"
   ]
  },
  {
   "cell_type": "markdown",
   "metadata": {},
   "source": [
    "The error term includes all information about changes in the expenditure share for food that is not explained by a constant and the percentage change in the total expenditure level. This might include differences in individual preferences, regional preferences, measurement errors, omitted variables, seasonal changes etc."
   ]
  },
  {
   "cell_type": "markdown",
   "metadata": {},
   "source": [
    "\n",
    "## Python exercises"
   ]
  },
  {
   "cell_type": "markdown",
   "metadata": {},
   "source": [
    "### Exercise 1: Estimate model (1)\n",
    "In this exercise, we are going to estimate model (1) **for men only** using OLS:\n",
    "\n",
    "\\begin{align}\n",
    "\\text{xfath}_i = \\beta_0 + \\beta_1 \\text{xtot}_i + u_i \\tag{1}\n",
    "\\end{align}\n",
    "\n",
    "To do this, revisit the lecture notebook and use the `statsmodels` approach described there.\n",
    "\n",
    "\n",
    "\n",
    "---"
   ]
  },
  {
   "cell_type": "markdown",
   "metadata": {},
   "source": [
    "**Task 1.** Load the data from PS2.dta"
   ]
  },
  {
   "cell_type": "markdown",
   "metadata": {},
   "source": [
    "**Your code:**"
   ]
  },
  {
   "cell_type": "code",
   "execution_count": 10,
   "metadata": {},
   "outputs": [],
   "source": [
    "import numpy as np\n",
    "import pandas as pd\n",
    "\n",
    "# Load the dataset\n",
    "df = pd.read_stata('PS2.dta')"
   ]
  },
  {
   "cell_type": "markdown",
   "metadata": {},
   "source": [
    "**Task 2:** Estimate model (1) **for the male participants in the survey** only using the `statsmodels` module as described in lecture."
   ]
  },
  {
   "cell_type": "markdown",
   "metadata": {},
   "source": [
    "**Your code:**"
   ]
  },
  {
   "cell_type": "code",
   "execution_count": 19,
   "metadata": {},
   "outputs": [
    {
     "name": "stdout",
     "output_type": "stream",
     "text": [
      "                            OLS Regression Results                            \n",
      "==============================================================================\n",
      "Dep. Variable:                  xfath   R-squared:                       0.049\n",
      "Model:                            OLS   Adj. R-squared:                  0.045\n",
      "Method:                 Least Squares   F-statistic:                     13.11\n",
      "Date:                Wed, 04 Sep 2024   Prob (F-statistic):           0.000354\n",
      "Time:                        12:38:56   Log-Likelihood:                -2157.0\n",
      "No. Observations:                 258   AIC:                             4318.\n",
      "Df Residuals:                     256   BIC:                             4325.\n",
      "Df Model:                           1                                         \n",
      "Covariance Type:            nonrobust                                         \n",
      "==============================================================================\n",
      "                 coef    std err          t      P>|t|      [0.025      0.975]\n",
      "------------------------------------------------------------------------------\n",
      "xtot           0.0488      0.013      3.621      0.000       0.022       0.075\n",
      "const       1443.0723    195.086      7.397      0.000    1058.895    1827.249\n",
      "==============================================================================\n",
      "Omnibus:                       30.769   Durbin-Watson:                   1.909\n",
      "Prob(Omnibus):                  0.000   Jarque-Bera (JB):               37.993\n",
      "Skew:                           0.882   Prob(JB):                     5.62e-09\n",
      "Kurtosis:                       3.649   Cond. No.                     4.36e+04\n",
      "==============================================================================\n",
      "\n",
      "Notes:\n",
      "[1] Standard Errors assume that the covariance matrix of the errors is correctly specified.\n",
      "[2] The condition number is large, 4.36e+04. This might indicate that there are\n",
      "strong multicollinearity or other numerical problems.\n"
     ]
    }
   ],
   "source": [
    "import statsmodels.api as sm\n",
    "\n",
    "# Filter the dataset to only include males\n",
    "df = df[df.dmale == 1]\n",
    "\n",
    "# Create the X DataFrame with a constant\n",
    "X = df[['xtot']].copy()  # Predictor variable (xtot)\n",
    "X['const'] = 1  # Add a constant to the model\n",
    "y = df['xfath']  # Dependent variable\n",
    "\n",
    "model = sm.OLS(y, X)\n",
    "results = model.fit()\n",
    "print(results.summary())"
   ]
  },
  {
   "cell_type": "markdown",
   "metadata": {},
   "source": [
    "\n",
    "**Task 3:** What is the interpretation of the slope $\\beta_1$ and intercept $\\beta_0$ in model (1)? \n"
   ]
  },
  {
   "cell_type": "markdown",
   "metadata": {},
   "source": [
    "**Your answer:**"
   ]
  },
  {
   "cell_type": "markdown",
   "metadata": {},
   "source": [
    "> $\\beta_1$ er ændringen i den forventede udgift til ”vare X” (i Canadiske dollar) ved en stigning i udgiften til det samlede forbrug på 1 dollar. $\\beta_0$ er en konstant som ikke rigtig har nogen fortolkning, da det i princippet er udgiften til ”vare X” når udgiften til det samlede forbrug er nul! \n",
    ">\n",
    "> Det giver dog mening at have en konstant med i regressionen (som er forskellig fra nul), da vi ser på forbrug der ligger et stykke fra nulpunktet. Her kan sammenhængen godt være lineær, mens lineariteten formentlig ikke holder nede omkring et forbrug på nul.\n",
    "\n"
   ]
  },
  {
   "cell_type": "markdown",
   "metadata": {},
   "source": [
    "**Task 4:** What is the estimate of the slope? And the intercept?\n",
    "\n"
   ]
  },
  {
   "cell_type": "markdown",
   "metadata": {},
   "source": [
    "**Your answer:**"
   ]
  },
  {
   "cell_type": "markdown",
   "metadata": {},
   "source": [
    ">  $\\beta_0$ = 1443.072 og $\\beta_1$ = 0.0488408\n",
    "\n"
   ]
  },
  {
   "cell_type": "markdown",
   "metadata": {},
   "source": [
    "**Task 5:** What is the total variation in the dependent variable, SST? The explained variation in the dependent variable, SSE? The variation in the residuals, SSR?\n",
    "\n",
    "_Hint:_ You can calculate these statistics manually using the code from the lecture. Alternatively, you can access the statistics directly as properties of your OLS results object `sm.OLS.fit()`. If you named this object `results`, you can access the SST using `results.centered_tss`, the SSR using `results.ssr` and the SSE using `results.ess`."
   ]
  },
  {
   "cell_type": "markdown",
   "metadata": {},
   "source": [
    "**Your code:**"
   ]
  },
  {
   "cell_type": "code",
   "execution_count": 3,
   "metadata": {},
   "outputs": [
    {
     "data": {
      "text/plain": [
       "(290257414.4844961, 14140148.174232662, 276117266.31026345)"
      ]
     },
     "execution_count": 3,
     "metadata": {},
     "output_type": "execute_result"
    }
   ],
   "source": [
    "results.centered_tss, results.ess, results.ssr"
   ]
  },
  {
   "cell_type": "markdown",
   "metadata": {},
   "source": [
    "**Your answer:**"
   ]
  },
  {
   "cell_type": "markdown",
   "metadata": {},
   "source": [
    "> - SST = 290,257,414 \n",
    "> - SSE = 14,140,148.2\n",
    "> - SSR = 276,117,266\n"
   ]
  },
  {
   "cell_type": "markdown",
   "metadata": {},
   "source": [
    "**Task 6:** Find the coefficient of determination, $R^2$. How can it be calculated from the three measures from the previous question? How would you interpret the calculated $R^2$?\n"
   ]
  },
  {
   "cell_type": "markdown",
   "metadata": {},
   "source": [
    "**Your answer:**"
   ]
  },
  {
   "cell_type": "markdown",
   "metadata": {},
   "source": [
    "> $R^2$ = 0.0487. \n",
    ">\n",
    "> Kan beregnes som SSE/SST. $R^2$ kan fortolkes som andelen af den samlede variation i den afhængige variabel, der kan forklares af modellen."
   ]
  },
  {
   "cell_type": "markdown",
   "metadata": {},
   "source": [
    "**Task 7:** What is the estimate of the variance of the error term, $\\hat \\sigma^2$?\n",
    "\n",
    "_Hint:_ use `results.mse_resid` to retrieve the estimated variance of the error term directly from the model object"
   ]
  },
  {
   "cell_type": "code",
   "execution_count": 4,
   "metadata": {},
   "outputs": [
    {
     "data": {
      "text/plain": [
       "1078583.0715244666"
      ]
     },
     "execution_count": 4,
     "metadata": {},
     "output_type": "execute_result"
    }
   ],
   "source": [
    "results.mse_resid"
   ]
  },
  {
   "cell_type": "markdown",
   "metadata": {},
   "source": [
    "> - $\\hat{\\sigma}^2$ = 1,078,583"
   ]
  },
  {
   "cell_type": "markdown",
   "metadata": {},
   "source": [
    "### Exercise 2: Illustrate the estimated Engel curve"
   ]
  },
  {
   "cell_type": "markdown",
   "metadata": {},
   "source": [
    "**Task 1:** Illustrate the estimated Engel curve in a graph together with a scatterplot of the actual data observations. \n",
    "\n",
    "_Hints:_ To plot the estimated Engel curve, you need the $\\hat{y}$ values (your estimated xfath values) for each of the observed $x$-values (the xtot values) in the dataset. When plotted together, these $\\hat{y}$ values form the line estimated by OLS.\n",
    "\n",
    "If your OLS results object is called `results` and your observations of xtot are called `X`, you can extract the $\\hat{y}$ values like this:\n",
    "\n",
    "```py\n",
    "y_hat = results.predict(X)\n",
    "```\n",
    "\n",
    "To do a lineplot in Seaborn, use the `sns.lineplot(x, y, data)` method.\n",
    "\n",
    "To layer two plots on top of each other, simply execute two Seaborn commands after one another in a single cell."
   ]
  },
  {
   "cell_type": "markdown",
   "metadata": {},
   "source": [
    "**Your code:**"
   ]
  },
  {
   "cell_type": "code",
   "execution_count": 5,
   "metadata": {},
   "outputs": [
    {
     "data": {
      "image/png": "[encoded data removed]",
      "text/plain": [
       "<Figure size 640x480 with 1 Axes>"
      ]
     },
     "metadata": {},
     "output_type": "display_data"
    }
   ],
   "source": [
    "import seaborn as sns\n",
    "\n",
    "y_hat = results.predict(X)\n",
    "\n",
    "sns.scatterplot(x='xtot', y='xfath', data=df)\n",
    "sns.lineplot(x='xtot', y=y_hat, data=df, color='red');\n"
   ]
  },
  {
   "cell_type": "markdown",
   "metadata": {},
   "source": [
    "**Task 2:** Perform scatterplots of the residuals from the regression against xtot and the predicted value of food consumption, separately.What shall you expect given the assumptions presented in the lectures? Should you expect the total expediture to correlate with the residuals? \n",
    "\n",
    "_Hint:_\n",
    "You can access the residuals using the `.resid` property of your results object.\n",
    "\n",
    "_Pro tip:_ You can manually change the labels of the y- and x-axis of Seaborn plots by adding `.set(ylabel=\"Residuals\", xlabel=\"xtot\")` to the end of your plot command"
   ]
  },
  {
   "cell_type": "code",
   "execution_count": 6,
   "metadata": {},
   "outputs": [
    {
     "data": {
      "image/png": "[encoded data removed]",
      "text/plain": [
       "<Figure size 640x480 with 1 Axes>"
      ]
     },
     "metadata": {},
     "output_type": "display_data"
    }
   ],
   "source": [
    "#Task 2a \n",
    "sns.scatterplot(x='xtot', y=results.resid, data=df).set(ylabel='Residuals');"
   ]
  },
  {
   "cell_type": "code",
   "execution_count": 7,
   "metadata": {},
   "outputs": [
    {
     "data": {
      "image/png": "[encoded data removed]",
      "text/plain": [
       "<Figure size 640x480 with 1 Axes>"
      ]
     },
     "metadata": {},
     "output_type": "display_data"
    }
   ],
   "source": [
    "# Task 2b\n",
    "sns.scatterplot(x=y_hat, y=results.resid).set(xlabel='Linear prediction (y_hat)', ylabel='Residuals');"
   ]
  },
  {
   "cell_type": "markdown",
   "metadata": {},
   "source": [
    "Remember the mechanical properties of the OLS estimator: The residuals sum to zero, $E(u)=0$, and are always uncorrelated with the explanatory variables, $E(x|u)=0$"
   ]
  },
  {
   "cell_type": "markdown",
   "metadata": {},
   "source": [
    "### Exercise 2: Estimate model (2)\n",
    "\n",
    "In this exercise, we are going to estimate model (2) for men and women individually:\n",
    "\n",
    "\\begin{align}\n",
    "\\frac{\\text{xfath}_i}{\\text{xtot}_i} = \\delta_0 + \\delta_1 \\log \\left(\\frac{\\text{xtot}_i}{\\text{price}_i}\n",
    "\\right) + v_i \\tag{2}\n",
    "\\end{align}\n"
   ]
  },
  {
   "cell_type": "markdown",
   "metadata": {},
   "source": [
    "**Task 1:** Construct the variables needed to estimate model (2). \n",
    "\n",
    "_Hint:_ The $\\text{price}_i$ variable is included in the dataset under the name `price`.\n"
   ]
  },
  {
   "cell_type": "markdown",
   "metadata": {},
   "source": [
    "**Your code:**"
   ]
  },
  {
   "cell_type": "code",
   "execution_count": 8,
   "metadata": {},
   "outputs": [],
   "source": [
    "import numpy as np\n",
    "\n",
    "df = pd.read_stata('PS2.dta') # Indlæs datasættet igen, da vi før ændrede det så mænd ikke længere var med\n",
    "\n",
    "df['wfath'] = df.xfath / df.xtot # Opret en ny variabel for food expenditure share\n",
    "df['wcloth'] = (df.xwcloth + df.xmcloth) / df.xtot # variabel for clothing expenditure share\n",
    "df['walc'] = df.xalc / df.xtot # variabel for alcohol expenditure share\n",
    "df ['log_xtot_adj'] = np.log(df.xtot / df.price) # variabel for deflated total expenditure\n"
   ]
  },
  {
   "cell_type": "markdown",
   "metadata": {},
   "source": [
    "**Task 2:** Estimate model (2) by OLS for the budget shares of food, clothing and alcohol for men and women, separately. For each gender and each of the three expenditure categories, print the estimated slope parameters. \n",
    "\n",
    "_Hint_: Write a nested for-loop where you estimate the model and print the parameter estimate for each of the genders and and each of the three dependant variables. \n",
    "\n",
    "To access the individual model parameters, you can use the `.params` property of the results object. For example, if you have an explanatory variable called `log_xtot_adj`, you can access the parameter estimate like this:\n",
    "\n",
    "\n",
    "```py\n",
    "model = sm.OLS(y, X)\n",
    "results = models.fit()\n",
    "delta1 = results.params['log_xtot_adj']\n",
    "```"
   ]
  },
  {
   "cell_type": "markdown",
   "metadata": {},
   "source": [
    "**Your code:**"
   ]
  },
  {
   "cell_type": "code",
   "execution_count": 9,
   "metadata": {},
   "outputs": [
    {
     "name": "stdout",
     "output_type": "stream",
     "text": [
      "0 wfath -0.11057\n",
      "0 wcloth 0.0744\n",
      "0 walc 0.00732\n",
      "1 wfath -0.11708\n",
      "1 wcloth 0.02178\n",
      "1 walc 0.01906\n"
     ]
    }
   ],
   "source": [
    "for gender in [0, 1]:\n",
    "    for var in ['wfath', 'wcloth', 'walc']:\n",
    "        data = df[df.dmale == gender] # Begræns datasættet til kun mænd eller kvinder\n",
    "        \n",
    "        X = data[['log_xtot_adj']].copy() # Sæt uafhængig variabel\n",
    "        X['const'] = 1 # Tilføj en konstant til modellen\n",
    "        y = data[var] # Sæt afhængig variabel\n",
    "\n",
    "        results = sm.OLS(y, X).fit() # Estimer modellen\n",
    "        delta1 = results.params['log_xtot_adj'] # Hent delta1\n",
    "\n",
    "        print(gender, var, delta1.round(5)) # Print køn, afhængig variabel og delta1 for hver model"
   ]
  },
  {
   "cell_type": "markdown",
   "metadata": {},
   "source": [
    "**Task 3:** Interpret the estimation results in light of the discussion on luxury versus necessity goods (see group work). Which parameter is central to the analysis? What conclusions can be drawn on the basis of the analysis?"
   ]
  },
  {
   "cell_type": "markdown",
   "metadata": {},
   "source": [
    "**Your answer:**"
   ]
  },
  {
   "cell_type": "markdown",
   "metadata": {},
   "source": [
    "> Hældningskoefficienten er den centrale parameter. Hvis positiv er det et luksusgode og negativ svarer til et nødvendigt gode. Konstanten er som tidligere nævnt svært at give en økonomisk fortolkning.\n",
    "> - Mad er et nødvendigt gode. Estimaterne er stort set ens for mænd og kvinder.\n",
    "> - Tøj er et luksusgode. Mest udpræget for kvinder\n",
    "> - Alkohol er et luksusgode, mest udpræget for mænd. For kvinder er estimatet tæt på nul.\n"
   ]
  },
  {
   "cell_type": "markdown",
   "metadata": {},
   "source": [
    "## Theoretical exercise\n",
    "Solve the following theoretical exercises (using pen and paper). Estimated time for the exam is 30\n",
    "minutes.\n",
    "\n",
    "**Task 1:**\n",
    "Write up the simple linear regression model (SLR) with a constant term and 1\n",
    "explanatory variable in matrix form for $n$ observations."
   ]
  },
  {
   "cell_type": "markdown",
   "metadata": {},
   "source": [
    "**Task 2:** Write the OLS estimator in matrix form. Show that when one\n",
    "calculates the OLS estimator, then: \n",
    "\\begin{equation*}\n",
    "\\widehat{\\beta }_{0}=\\bar{y}-\\frac{\\sum_{i=1}^{n}(x_{i}-\\bar{x})(y_{i}-\\bar{y%\n",
    "})}{\\sum_{i=1}^{n}(x_{i}-\\bar{x})^{2}}\\bar{x},\\qquad \\widehat{\\beta }_{1}=%\n",
    "\\frac{\\sum_{i=1}^{n}(x_{i}-\\bar{x})(y_{i}-\\bar{y})}{\\sum_{i=1}^{n}(x_{i}-%\n",
    "\\bar{x})^{2}}\n",
    "\\end{equation*}%\n",
    "where $\\bar{x}=\\frac{1}{n}\\sum_{i=1}^{n}x_{i}$ and $\\bar{y}=\\frac{1}{n}%\n",
    "\\sum_{i=1}^{n}y_{i}$.\n",
    "\n",
    "_Hints_: Use the following rule for inverting a matrix: \n",
    "\\begin{equation*}\n",
    "\\left[ \n",
    "\\begin{array}{cc}\n",
    "a & b \\\\ \n",
    "c & d%\n",
    "\\end{array}%\n",
    "\\right] ^{-1}=\\frac{1}{ad-bc}\\left[ \n",
    "\\begin{array}{cc}\n",
    "d & -b \\\\ \n",
    "-c & a%\n",
    "\\end{array}%\n",
    "\\right]\n",
    "\\end{equation*}\n",
    "as well rules (A.7) and (A.8) in Math Refresher A in the textbook.\n"
   ]
  },
  {
   "cell_type": "markdown",
   "metadata": {},
   "source": [
    "**Answer:**\n"
   ]
  },
  {
   "cell_type": "markdown",
   "metadata": {},
   "source": [
    "Antagelser og definitioner: \n",
    "\n",
    "\n",
    "- $n$ individer \n",
    "- afhængig variabel $y$ \n",
    "- forklarende variabel $x$ \n",
    "- fejlled $\\epsilon$ \n",
    "- parametervektor $\\beta$ \n",
    "\n",
    "Regressionsmodel på matrixform: \n",
    "\n",
    "\\begin{align*}\n",
    "&\\left[ \n",
    "\\begin{array}{c}\n",
    "y_1 \\\\ \n",
    "y_2 \\\\ \n",
    ". \\\\ \n",
    ". \\\\ \n",
    ". \\\\ \n",
    "y_n%\n",
    "\\end{array}%\n",
    "\\right] = \\left[ \n",
    "\\begin{array}{cc}\n",
    "1 & x_1 \\\\ \n",
    "1 & x_2 \\\\ \n",
    ". & . \\\\ \n",
    ". & . \\\\ \n",
    ". & . \\\\ \n",
    "1 & x_n%\n",
    "\\end{array}%\n",
    "\\right] \\left[ \n",
    "\\begin{array}{cc}\n",
    "\\beta_0 & \\beta_1%\n",
    "\\end{array}%\n",
    "\\right] + \\left[ \n",
    "\\begin{array}{c}\n",
    "\\epsilon_1 \\\\ \n",
    "\\epsilon_2 \\\\ \n",
    ". \\\\ \n",
    ". \\\\ \n",
    ". \\\\ \n",
    "\\epsilon_n%\n",
    "\\end{array}%\n",
    "\\right] \\\\\n",
    "\\\\\n",
    "&\\implies Y = X \\beta + \\epsilon\n",
    "\\end{align*}\n",
    "Note: $Y$ er en $(n\\times 1)$-matrix, $X$  er en $(n\\times 2)$-matrix, $\\beta$ er en  $%\n",
    "(2\\times 1)$-matrix, $\\epsilon$ er en $n \\times 1$-matrix.\n",
    "\n",
    "OLS estimatoren på matrixform: $\\widehat{\\beta}%\n",
    "=\\left(X^{\\prime }X\\right)^{-1}X^{\\prime }Y$\n",
    "\n",
    "Opstil relevante matricer:  \n",
    "\\begin{align*}\n",
    "(X^{\\prime }X) &= \\left[%\n",
    "\\begin{array}{cc}\n",
    "n & \\sum_i x_i \\\\ \n",
    "&  \\\\ \n",
    "\\sum_i x_i & \\sum_i x_i x_i%\n",
    "\\end{array}\n",
    "\\right] \\\\\n",
    "\\\\\n",
    "(X^{\\prime }Y) &= \\left[%\n",
    "\\begin{array}{c}\n",
    "\\sum_i y_i \\\\ \n",
    "\\\\ \n",
    "\\sum_i x_i y_i%\n",
    "\\end{array}\n",
    "\\right]\n",
    "\\end{align*}\n",
    "Inverter $(X^{\\prime }X)$ ved hjælp af regneregel:  \n",
    "\\begin{align*}\n",
    "(X'X)^{ -1} &= \\left[%\n",
    "\\begin{array}{cc}\n",
    "n & \\sum_i x_i \\\\ \n",
    "&  \\\\ \n",
    "\\sum_i x_i & \\sum_i x_i x_i%\n",
    "\\end{array}\n",
    "\\right]^{-1} = \\frac{1}{n\\sum_i x_i x_i - \\sum_i x_i \\sum_i x_i} \\left[%\n",
    "\\begin{array}{cc}\n",
    "\\sum_i x_i x_i & -\\sum_i x_i \\\\ \n",
    "&  \\\\ \n",
    "-\\sum_i x_i & n%\n",
    "\\end{array}\n",
    "\\right] \\\\\n",
    "\\\\\n",
    "&=\\frac{1}{n\\sum_i x_i x_i - n \\sum_i x_i \\bar{x}} \\left[%\n",
    "\\begin{array}{cc}\n",
    "\\sum_i x_i x_i & -\\sum_i x_i \\\\ \n",
    "&  \\\\ \n",
    "-\\sum_i x_i & n%\n",
    "\\end{array}\n",
    "\\right] \\quad \\text{(omskriv sum til gennemsnit)} \\\\\n",
    "\\\\\n",
    "&=\\frac{1}{n\\sum_i x_i(x_i - \\bar{x})} \\left[%\n",
    "\\begin{array}{cc}\n",
    "\\sum_i x_i x_i & -\\sum_i x_i \\\\ \n",
    "&  \\\\ \n",
    "-\\sum_i x_i & n%\n",
    "\\end{array}\n",
    "\\right] \\quad \\text{(omskriv nævner i br\\o k)} \\\\\n",
    "\\\\\n",
    "&=\\frac{1}{n\\sum_i (x_i - \\bar{x})^2} \\left[%\n",
    "\\begin{array}{cc}\n",
    "\\sum_i x_i x_i & -\\sum_i x_i \\\\ \n",
    "&  \\\\ \n",
    "-\\sum_i x_i & n%\n",
    "\\end{array}\n",
    "\\right] \\quad \\text{(omskriv nævner vha. (A.7) og (A.8))} \\\\\n",
    "\\\\\n",
    "&=\\frac{1}{\\sum_i (x_i - \\bar{x})^2} \\left[%\n",
    "\\begin{array}{cc}\n",
    "\\frac{\\sum_i x_i x_i}{n} & -\\bar{x} \\\\ \n",
    "&  \\\\ \n",
    "-\\bar{x} & 1%\n",
    "\\end{array}\n",
    "\\right] \\quad \\text{(divider igennem med } n)\n",
    "\\end{align*}\n",
    "OLS estimatoren kan derfor opskrives som:  \n",
    "\\begin{align*}\n",
    "\\widehat{\\beta}=\\frac{1}{\\sum_i (x_i - \\bar{x})^2} \\underbrace{ \\left[%\n",
    "\\begin{array}{cc}\n",
    "\\frac{\\sum_i x_i x_i}{n} & -\\bar{x} \\\\ \n",
    "&  \\\\ \n",
    "-\\bar{x} & 1%\n",
    "\\end{array}\n",
    "\\right]\\left[%\n",
    "\\begin{array}{c}\n",
    "\\sum_i y_i \\\\ \n",
    "\\\\ \n",
    "\\sum_i x_i y_i%\n",
    "\\end{array}\n",
    "\\right] }_{(\\star)}\n",
    "\\end{align*}\n",
    "Lad os fokusere på \n",
    "$(\\star)$ som skal manipuleres yderligere for at vise det ønskede resultat.\n",
    "\n",
    "\\begin{align*}\n",
    "(\\star) &= \\left[%\n",
    "\\begin{array}{cc}\n",
    "\\frac{\\sum_i x_i x_i}{n} & -\\bar{x} \\\\ \n",
    "&  \\\\ \n",
    "-\\bar{x} & 1%\n",
    "\\end{array}\n",
    "\\right]\\left[%\n",
    "\\begin{array}{c}\n",
    "\\sum_i y_i \\\\ \n",
    "\\\\ \n",
    "\\sum_i x_i y_i%\n",
    "\\end{array}\n",
    "\\right] \\\\\n",
    "\\\\\n",
    "&= \\left[%\n",
    "\\begin{array}{c}\n",
    "\\frac{1}{n} \\sum_i y_i \\sum_i x_i x_i -\\bar{x}\\sum_i x_i y_i \\\\ \n",
    "\\\\ \n",
    "-\\bar{x} \\sum_i y_i+ \\sum_i x_i y_i%\n",
    "\\end{array}\n",
    "\\right] \\quad \\text{(gang matricerne sammen)} \\\\\n",
    "\\\\\n",
    "&=\\left[%\n",
    "\\begin{array}{c}\n",
    "\\bar{y} \\sum_i x_i x_i -\\bar{x}\\sum_i x_i y_i +\\left( \\bar{y} \\bar{x} \\sum_i\n",
    "x_i - \\bar{y} \\bar{x} \\sum_i x_i \\right) \\\\ \n",
    "\\\\ \n",
    "\\sum_i y_i(x_i -\\bar{x})%\n",
    "\\end{array}\n",
    "\\right] \\quad \\text{(trick: læg nul til)} \\\\\n",
    "\\\\\n",
    "&=\\left[%\n",
    "\\begin{array}{c}\n",
    "\\bar{y} \\sum_i x_i (x_i-\\bar{x}) -\\bar{x}\\sum_i x_i (y_i-\\bar{y}) \\\\ \n",
    "\\\\ \n",
    "\\sum_i y_i(x_i -\\bar{x})%\n",
    "\\end{array}\n",
    "\\right] \\quad \\text{(diverse omskrivninger)} \\\\\n",
    "\\\\\n",
    "&=\\left[%\n",
    "\\begin{array}{c}\n",
    "\\bar{y} \\sum_i (x_i-\\bar{x})^2 -\\bar{x}\\sum_i (x_i-\\bar{x}) (y_i-\\bar{y}) \\\\ \n",
    "\\\\ \n",
    "\\sum_i (y_i-\\bar{y})(x_i -\\bar{x})%\n",
    "\\end{array}\n",
    "\\right] \\quad \\text{(brug (A.7) og (A.8))}\n",
    "\\end{align*}\n",
    "Ergo opskrives OLS estimatoren som:  \n",
    "\\begin{align*}\n",
    "\\widehat{\\beta}&=\\frac{1}{\\sum_i (x_i - \\bar{x})^2} \\left[%\n",
    "\\begin{array}{c}\n",
    "\\bar{y} \\sum_i (x_i-\\bar{x})^2 -\\bar{x}\\sum_i (x_i-\\bar{x}) (y_i-\\bar{y}) \\\\ \n",
    "\\\\ \n",
    "\\sum_i (y_i-\\bar{y})(x_i -\\bar{x})%\n",
    "\\end{array}\n",
    "\\right] \\\\\n",
    "\\\\\n",
    "&= \\left[%\n",
    "\\begin{array}{c}\n",
    "\\bar{y} -\\bar{x}\\frac{\\sum_i (x_i-\\bar{x}) (y_i-\\bar{y})}{\\sum_i (x_i-\\bar{x}%\n",
    ")^2} \\\\ \n",
    "\\\\ \n",
    "\\frac{\\sum_i (y_i-\\bar{y})(x_i -\\bar{x})}{\\sum_i(x_-\\bar{x})^2}%\n",
    "\\end{array}\n",
    "\\right]\n",
    "\\end{align*}\n"
   ]
  }
 ],
 "metadata": {
  "kernelspec": {
   "display_name": "base",
   "language": "python",
   "name": "python3"
  },
  "language_info": {
   "codemirror_mode": {
    "name": "ipython",
    "version": 3
   },
   "file_extension": ".py",
   "mimetype": "text/x-python",
   "name": "python",
   "nbconvert_exporter": "python",
   "pygments_lexer": "ipython3",
   "version": "3.11.7"
  }
 },
 "nbformat": 4,
 "nbformat_minor": 2
}
