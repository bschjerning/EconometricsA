{
 "cells": [
  {
   "cell_type": "code",
   "execution_count": null,
   "metadata": {},
   "outputs": [],
   "source": [
    "import pandas as pd\n",
    "import numpy as np\n",
    "import statsmodels.api as sm\n",
    "import matplotlib.pyplot as plt\n",
    "\n",
    "np.set_printoptions(legacy='1.25')\n"
   ]
  },
  {
   "cell_type": "markdown",
   "metadata": {},
   "source": [
    "# Problem Set 3: Implementer manuelt OLS-estimatoren"
   ]
  },
  {
   "cell_type": "markdown",
   "metadata": {},
   "source": [
    "I dette Problem Set skal vi udvide vores forståelse af OLS-estimatoren ved selv at implementere den i Python. Til sidst vil vi stå med en hjemmelavet implementering, som i princippet kan anvendes (og udvides) i resten af kurset i stedet for at bruge `statsmodels`. \n",
    "\n",
    "Ugens opgaver kan løses ved blot at implementere de formler, der forsynes undervejs (og som I har udledt og studeret i forelæsningerne).\n",
    "\n",
    "Går man i stå, kan man kigge i forelæsningskoden, hvor OLS-estimatoren også implementeres manuelt – men der er et stort læringsudbytte i at prøve at implementere den selv."
   ]
  },
  {
   "cell_type": "markdown",
   "metadata": {},
   "source": [
    "Undervejs i opgaverne kan du tjekke, at din implementering fungerer korrekt ved at køre din funktion på følgende simple testdata for $n=8$ observationer:"
   ]
  },
  {
   "cell_type": "code",
   "execution_count": null,
   "metadata": {},
   "outputs": [],
   "source": [
    "x = np.array([0.67, 0.03, -0.78,  0.95,  0.7,  -1.05, -0.37, -1.14])\n",
    "y = np.array([-2.31, 2.6, -3.25, 2.24, 1.05, -2.98, -3.82, -5.29])"
   ]
  },
  {
   "cell_type": "markdown",
   "metadata": {},
   "source": [
    "---"
   ]
  },
  {
   "cell_type": "markdown",
   "metadata": {},
   "source": [
    "## Del 1: OLS i SLR-tilfældet (en enkelt forklarende variabel)\n"
   ]
  },
  {
   "cell_type": "markdown",
   "metadata": {},
   "source": [
    "Når vi kun har 1 forklarende variabel og en konstant (SLR-tilfældet) arbejder vi med denne model:\n",
    "\n",
    "$$ y_i = \\beta_0 + \\beta_1 x_i + u_i $$\n",
    "\n",
    "hvor $y_i$ er den afhængige variabel, $x_i$ er den forklarende variabel, $u_i$ er fejlledet, og $\\beta_0$ og $\\beta_1$ er modelparametre. Vi observerer kun $x$ og $y$, mens fejlledet og parametrene er ukendte.\n",
    "\n",
    "Såfremt vores model er korrekt specificeret, da ved vi fra den økonometriske teori, at den sande værdi af $\\beta_1$ er givet ved:\n",
    "\n",
    "$$ \\beta_1 = \\frac{{\\text{Cov}}(x, y)} {\\text{Var}(x)}  $$\n",
    "\n",
    "Vi ved også fra forelæsningerne, at vi med en stikprøve at $x,y$ observationer kan estimere kovariansen og variansen sådan her:\n",
    "\n",
    "\\begin{align*}\n",
    "\\widehat{\\text{Cov}}(x,y)  = \\frac{1}{n} \\sum (x_i - \\bar{x})(y_i - \\bar{y}) \\\\\n",
    "\\widehat{\\text{Var}}(x) = \\frac{1}{n} \\sum (x_i - \\bar{x})^2\n",
    "\\end{align*}\n",
    "\n",
    "hvor $\\bar{x}$ og $\\bar{y}$ er de empiriske gennemsnit af $x, y$ i vores datasæt.  Sætter vi alt dette sammen ved hjælp af Analogi-princippet, betyder det at vi kan estimere $\\hat{\\beta}_1$ med formlen:\n",
    "$$\n",
    "\\hat{\\beta}_1 = \\frac{{\\widehat{\\text{Cov}}}(x, y)} {\\widehat {\\text{Var}}(x)}  = \\frac{\\sum (x_i - \\bar{x})(y_i - \\bar{y}) }{ \\sum (x_i - \\bar{x})^2} \\tag{1}\n",
    "$$\n",
    "\n",
    "Dette er OLS-estimatoren for $\\hat{\\beta}_1$ i SLR-tilfældet.\n",
    "\n"
   ]
  },
  {
   "cell_type": "markdown",
   "metadata": {},
   "source": [
    "### Opgave 1.1\n",
    "Skriv en funktion `OLS_SLR()`, hvor du manuelt implementerer OLS-estimatoren for $\\hat{\\beta}_1$ i SLR-tilfældet. Brug NumPy i din implementering. Funktionen skal tage $x$ og $y$ som argumenter, hvor $x$ er et $(n \\times 1)$ NumPy-array og $y$ er et $(n \\times 1)$ NumPy-array. Funktionen skal returnere skalar-værdien $\\hat \\beta_1$. \n",
    "\n",
    "Når du kører din funktion på testdataen, bør du få estimatet $\\hat\\beta_1 = 2.68...$\n",
    "\n",
    "_Hints:_ \n",
    "- Du kan bruge NumPy-funktionen `np.mean()` til at beregne gennemsnittet af et NumPy-array og `np.sum()` til at beregne summen over et NumPy-array.\n",
    "\n"
   ]
  },
  {
   "cell_type": "markdown",
   "metadata": {},
   "source": [
    "**Din kode**"
   ]
  },
  {
   "cell_type": "code",
   "execution_count": null,
   "metadata": {},
   "outputs": [],
   "source": [
    "def OLS_SLR(x,y):\n",
    "    x_bar = ...\n",
    "    y_bar = ...\n",
    "\n",
    "    cov_xy = ...\n",
    "    var_x  = ...\n",
    "\n",
    "    beta1hat = ...\n",
    "\n",
    "    return beta1hat\n",
    "\n",
    "OLS_SLR(x,y)"
   ]
  },
  {
   "cell_type": "markdown",
   "metadata": {},
   "source": [
    "---"
   ]
  },
  {
   "cell_type": "markdown",
   "metadata": {},
   "source": [
    "\n",
    "Fra den økonometriske teori ved vi også, at vi kan estimere interceptet $\\beta_0$ med formlen:\n",
    "$$ \\hat{\\beta}_0 = \\bar{y} - \\hat{\\beta}_1 \\bar{x} $$\n",
    "\n",
    "Reflekter et øjeblik over formlen:  Interceptet $\\hat \\beta_0$ er skæringspunktet på $y$-aksen, dvs. vores forventning til $y$ når $x$ er lig 0. Vi finder interceptet ved at tage gennemsnittet over vores $y$-observationer, dvs. $\\overline y$, og så fratrække den estimerede effekt af den gennemsnitlige $x$-observation, dvs. $\\hat \\beta_1 \\overline x$. \n",
    "\n",
    "Hvis du virkelig vil overbevise dig selv om intuitionen i formlen, så tegn et tilfældigt scatter plot på et stykke papir, tegn den bedste lige linje (en OLS-linje) igennem observationerne og se selv hvor linjen skærer $y$-aksen."
   ]
  },
  {
   "cell_type": "markdown",
   "metadata": {},
   "source": [
    "### Opgave 1.2"
   ]
  },
  {
   "cell_type": "markdown",
   "metadata": {},
   "source": [
    "\n",
    "Udvid din `OLS_SLR()` funktion så den returnerer ikke bare $\\hat{\\beta}_1$, men en tuple der indeholder ${(\\hat\\beta_0, \\hat\\beta_1)}$. Når du kører din udvidede funktion på samme testdata som før, bør du få estimaterne ${(\\hat\\beta_0 = -1.13..., \\hat\\beta_1 = 2.68...)}$"
   ]
  },
  {
   "cell_type": "code",
   "execution_count": null,
   "metadata": {},
   "outputs": [],
   "source": [
    "def OLS_SLR(x,y):\n",
    "   ...\n",
    "\n",
    "OLS_SLR(x,y)"
   ]
  },
  {
   "cell_type": "markdown",
   "metadata": {},
   "source": [
    "---"
   ]
  },
  {
   "cell_type": "markdown",
   "metadata": {},
   "source": [
    "### Opgave 1.3"
   ]
  },
  {
   "cell_type": "markdown",
   "metadata": {},
   "source": [
    "Vi skal nu beregne de prædikterede værdier $\\hat y$ på baggrund af vores parameterestimater. Udvid din funktion, så den også returnerer et $(n \\times 1)$-NumPy indeholdene $\\hat y$, dvs:\n",
    "\n",
    "$$ \\hat{y} = \\hat \\beta_0 + \\hat \\beta_1 x $$\n",
    "\n",
    "Funktionen skal altså returnere tuplen $(\\hat \\beta_0, \\hat \\beta_1, \\hat y)$, hvor $\\hat \\beta_0$ er en skalar, $\\hat \\beta_1$ er en skalar og $\\hat y$ er en vektor (siden der hører én prædikteret værdi til hver observation af $x$). Hvis du har implementeret funktionen korrekt, skulle du gerne få at \n",
    "$${\\hat\\beta_0 = -1.13..., \\quad  \\hat\\beta_1 = 2.68...}$$\n",
    "$$\\hat y = (-0.65..., -1.05..., -3.22...,  1.40..., 0.73...,\n",
    "        -3.95..., -2.13..., -4.19...)$$"
   ]
  },
  {
   "cell_type": "markdown",
   "metadata": {},
   "source": [
    "**Din kode her**\n"
   ]
  },
  {
   "cell_type": "code",
   "execution_count": null,
   "metadata": {},
   "outputs": [],
   "source": [
    "def OLS_SLR(x,y):\n",
    "    ...\n",
    "\n",
    "OLS_SLR(x,y)"
   ]
  },
  {
   "cell_type": "markdown",
   "metadata": {},
   "source": [
    "---"
   ]
  },
  {
   "cell_type": "markdown",
   "metadata": {},
   "source": [
    "Siden OLS-linjen er defineret ved vores prædiktioner $\\hat y$, har vi nu  alt, hvad vi behøver for at kunne tegne vores OLS-linje i et scatter plot af vores (x,y)-observationer.\n",
    "\n",
    "Kør nedenstående celle for at se resultatet. \n",
    "\n",
    "(Bemærk, at vi udpakker outputtet fra funktion med koden `beta0hat, beta1hat, yhat = OLS_SLR(X,Y)`)\n"
   ]
  },
  {
   "cell_type": "code",
   "execution_count": null,
   "metadata": {},
   "outputs": [],
   "source": [
    "beta0hat, beta1hat, yhat = OLS_SLR(x,y)\n",
    "\n",
    "plt.scatter(x,y)\n",
    "plt.plot(x, yhat, color='red', marker='.');"
   ]
  },
  {
   "cell_type": "markdown",
   "metadata": {},
   "source": [
    "### Opgave 1.4"
   ]
  },
  {
   "cell_type": "markdown",
   "metadata": {},
   "source": [
    "Betragt ovenstående plot og tjek, at du har styr på den basale intuition. Hvor på figuren kan du aflæse $\\hat y$? Hvad med $\\hat \\beta_0$ og $\\hat \\beta_1$? Hvor er residualerne $\\hat u_i$?"
   ]
  },
  {
   "cell_type": "markdown",
   "metadata": {},
   "source": [
    "**Dit svar her**\n"
   ]
  },
  {
   "cell_type": "markdown",
   "metadata": {},
   "source": []
  },
  {
   "cell_type": "markdown",
   "metadata": {},
   "source": [
    "---"
   ]
  },
  {
   "cell_type": "markdown",
   "metadata": {},
   "source": [
    "### Opgave 1.5"
   ]
  },
  {
   "cell_type": "markdown",
   "metadata": {},
   "source": [
    "Vi kan implicit aflæse residualerne af figuren fra forrige opgave, men lad os udvide vores funktion, så den også beregner og returnerer residualerne. Residualerne skal vi senere bruge til at beregne modellens forklaringsgrad og til at beregne standardfejl til vores parameterestimater.\n",
    "\n",
    "Residualerne er den del af $y$, som vores model ikke forklarer, dvs:\n",
    "\n",
    "\\begin{align*} \n",
    "\\hat u &= y - \\hat y \\\\\n",
    "&=  y - \\hat \\beta_0 - \\hat \\beta_1 x\n",
    "\\end{align*}"
   ]
  },
  {
   "cell_type": "markdown",
   "metadata": {},
   "source": [
    " Husk, at der er én residual til hver $(x,y)$ observation, så outputtet af din funktion skal nu rumme et ekstra NumPy-array bestående af $(n \\times 1)$-elementer.\n",
    "\n",
    "Hvis du har løst opgaven korrekt, skal du få residualerne\n",
    "$$\n",
    "\\hat u = (-2.96...,  3.65... , -0.02...,  0.83...,  0.31...,\n",
    "         0.97..., -1.68..., -1.09...)\n",
    "$$"
   ]
  },
  {
   "cell_type": "markdown",
   "metadata": {},
   "source": [
    "**Din kode:**\n"
   ]
  },
  {
   "cell_type": "code",
   "execution_count": null,
   "metadata": {},
   "outputs": [],
   "source": [
    "def OLS_SLR(x,y):\n",
    "    x_bar = np.mean(x)\n",
    "    y_bar = np.mean(y)\n",
    "    n = len(x)\n",
    "\n",
    "    cov_xy = np.sum((x - x_bar)*(y - y_bar)) / n\n",
    "    var_x  = np.sum((x - x_bar)**2) / n\n",
    "\n",
    "    beta1hat = cov_xy / var_x\n",
    "    beta0hat = y_bar - beta1hat*x_bar\n",
    "\n",
    "    yhat = beta0hat + beta1hat*x\n",
    "    uhat = y - yhat\n",
    "    \n",
    "    return (beta0hat, beta1hat, yhat, uhat)\n",
    "\n",
    "OLS_SLR(x,y)"
   ]
  },
  {
   "cell_type": "markdown",
   "metadata": {},
   "source": [
    "---"
   ]
  },
  {
   "cell_type": "markdown",
   "metadata": {},
   "source": [
    "### Opgave 1.6:\n",
    "Det begynder at blive lidt svært at holde styr på alt det output, som vores funktion returnerer. Udvid din funktion, så den pænt printer hvert resultat med en deskriptiv titel, og gerne afrundet til et fornuftigt antal decimaler. Når du kører din funktion på testdataen, skal du gerne få et output i stil med:\n",
    "\n",
    "```plain\n",
    "beta0hat = -1.1383\n",
    "beta1hat = 2.6804\n",
    "yhat = [ 0.66 -1.06 -3.23  1.41  0.74 -3.95 -2.13 -4.19]\n",
    "uhat = [-2.97  3.66 -0.02  0.83  0.31  0.97 -1.69 -1.1 ]\n",
    "```\n",
    "\n",
    "_Hint:_ Her kan det være en god ide at bruge en f-string i Python. Se fx følgende eksempel på, hvordan du let kan printe og formatere variable ved hjælp af f-strings:\n"
   ]
  },
  {
   "cell_type": "markdown",
   "metadata": {},
   "source": [
    "```py\n",
    "abc = 123.456789\n",
    "\n",
    "print(f'Min variabels værdi er: {abc}')\n",
    ">> Min variabels værdi er: 123.456789\n",
    "\n",
    "print(f'Min variabels navn og værdi er: {abc = }')\n",
    ">> Min variabels navn og værdi er: abc = 123.456789\n",
    "\n",
    "print(f'Min variabels navn og afrundede værdi er: {abc = :.2f}')\n",
    ">> Min variabels navn og afrundede værdi er: abc = 123.46\n",
    "```"
   ]
  },
  {
   "cell_type": "markdown",
   "metadata": {},
   "source": [
    "**Din kode:**"
   ]
  },
  {
   "cell_type": "code",
   "execution_count": null,
   "metadata": {},
   "outputs": [],
   "source": [
    "def OLS_SLR(x,y):\n",
    "    ...\n",
    "\n",
    "OLS_SLR(x,y)"
   ]
  },
  {
   "cell_type": "markdown",
   "metadata": {},
   "source": [
    "---"
   ]
  },
  {
   "cell_type": "markdown",
   "metadata": {},
   "source": [
    "### Opgave 1.7\n",
    "Udvid din funktion, så den også beregner modellens forklaringsgrad $R^2$. Forklaringsgraden $R^2$ er defineret som den forklarede del af den totale variation i $y$:\n",
    "\n",
    "\\begin{align*} \n",
    "    R^2 &\\equiv \\frac{SSE}{SST} \\\\ \n",
    "        &= 1 - \\frac{SSR}{SST}\n",
    "\\end{align*}\n",
    "\n",
    "hvor _Total Sum of Squares_ er\n",
    "\n",
    "$$\n",
    "SST = \\sum_{i=1}^n (y_i - \\overline{y})^2,\n",
    "$$\n",
    "\n",
    "mens _Explained Sum of Squares_ er\n",
    "\n",
    "$$\n",
    "SSE = \\sum_{i=1}^n (\\hat y_i - \\overline{y})^2,\n",
    "$$\n",
    "\n",
    "og _Sum of Squared Residuals_ er\n",
    "\n",
    "$$\n",
    "SSR = \\sum_{i=1}^n \\hat u_i^2. \\\\\n",
    "$$\n",
    "\n",
    "Læg mærke til, at per definition er $SSE \\leq SST$, og derfor er $R^2 \\in [0,1]$. Intutionen bag dette forhold er, at modellen aldrig kan forklare mere af variationen i $y$ end den totale variation.\n",
    "\n",
    "Du skulle gerne få resultatet\n",
    "\n",
    "$$\n",
    "R^2 = 0.5555\n",
    "$$"
   ]
  },
  {
   "cell_type": "markdown",
   "metadata": {},
   "source": [
    "**Din kode:**\n"
   ]
  },
  {
   "cell_type": "code",
   "execution_count": null,
   "metadata": {},
   "outputs": [],
   "source": [
    "def OLS_SLR(x,y):\n",
    "   ...\n",
    "\n",
    "OLS_SLR(x,y)"
   ]
  },
  {
   "cell_type": "markdown",
   "metadata": {},
   "source": [
    "---"
   ]
  },
  {
   "cell_type": "markdown",
   "metadata": {},
   "source": [
    "Det sidste trin er at beregne standardfejlene for vores OLS-estimater. \n",
    "\n",
    "Vi bruger først residualerne til at beregne residualvariansen $\\hat \\sigma^2$:\n",
    "\n",
    "$$\n",
    "\\hat{\\sigma}^2 = \\frac{1}{n-2} \\cdot SSR = \\frac{1}{n-2} \\sum_{i=1}^{n} \\hat{u}_i^2\n",
    "$$\n",
    "\n",
    "som vi kan bruge til at beregne variansen af OLS-estimatorerne:\n",
    "$$\n",
    "\\text{Var}(\\hat{\\beta}_1 \\mid X) = \\frac{\\hat{\\sigma}^2}{\\sum_{i=1}^{n} (x_i - \\bar{x})^2}\n",
    "$$\n",
    "$$\n",
    "\\text{Var}(\\hat{\\beta}_0 \\mid X) = \\frac{\\hat{\\sigma}^2 \\cdot \\frac{1}{n}\\sum_{i=1}^{n}x_{i}^{2}}{\\sum_{i=1}^{n}(x_i - \\bar{x})^2}\n",
    "$$\n",
    "\n",
    "Standardfejlene er ganske enkelt kvadratrødderne af disse varianser:\n",
    "$$\n",
    "\\text{se}(\\hat{\\beta}_1) = \\sqrt{\\text{Var}(\\hat{\\beta}_1 \\mid X)}\n",
    "$$\n",
    "$$\n",
    "\\text{se}(\\hat{\\beta}_0) = \\sqrt{\\text{Var}(\\hat{\\beta}_0 \\mid X)}\n",
    "$$\n",
    "\n",
    "Hvis du har brug for en genopfriskning af, hvad standardfejlene betyder, og hvorfor de beregnes på denne måde, så er dette et godt tidspunkt at genbesøge ugens forelæsningsslides.\n",
    "\n",
    "(Bemærk, at vi her antager _homoskedasticitet_ (SLR.5). Vi antager altså, at residualvariansen er konstant og ikke fx er større, når $x$ er stor. Senere i kurset vil vi lære at estimere robuste standardfejl, som tager højde for eventuel heteroskedasticitet ved at anvende en udvidet formel for standardfejlene)."
   ]
  },
  {
   "cell_type": "markdown",
   "metadata": {},
   "source": [
    "### Opgave 1.8\n",
    "Udvid din `OLS_SLR()` funktion så den også returnerer standardfejlene af koefficienterne. Når du kører funktionen på samme testdata som før, skulle du gerne få:\n",
    "\n",
    "$$ \\text{se}(\\hat \\beta_0) = 1.98997..., \\quad \\text{se}(\\hat \\beta_1) = 0.6  $$\n",
    "\n",
    "_Hint_: Du kan finde $n$ ved at bruge kommandoen `len(x)`.\n",
    "\n",
    "_Hint_: Brug funktionen `np.sqrt()` til at tage kvadratroden.\n",
    "\n",
    "_Hint_: Siden vi skal bruge størrelsen $\\sum_{i=1}^n (x_i - \\bar{x})^2$ flere gange undervejs, kan du med fordel gemme den som en variabel, som du fx kan kalde `SSTx`\n"
   ]
  },
  {
   "cell_type": "markdown",
   "metadata": {},
   "source": [
    "**Din kode:**"
   ]
  },
  {
   "cell_type": "code",
   "execution_count": null,
   "metadata": {},
   "outputs": [],
   "source": [
    "def OLS_SLR(x,y):\n",
    "    ...\n",
    "    \n",
    "OLS_SLR(x,y)"
   ]
  },
  {
   "cell_type": "markdown",
   "metadata": {},
   "source": [
    "---"
   ]
  },
  {
   "cell_type": "markdown",
   "metadata": {},
   "source": [
    "### Opgave 1.9"
   ]
  },
  {
   "cell_type": "markdown",
   "metadata": {},
   "source": [
    "Tilpas afslutningsvist din funktion, så den i stedet for at printe alle resultaterne i stedet returnerer en dictionary, som indeholder alle de størrelser, vi har arbejdet med i delopgave 1 – dvs. parameterestimaterne, deres standardfejl, de prædikterede værdier, residualerne, $R^2$ samt SST, SSE og SSR.\n",
    "\n",
    "Ved at samle resultaterne i en dictionary kan man nemt slå op i outputtet og tilgå det element, man skal bruge."
   ]
  },
  {
   "cell_type": "markdown",
   "metadata": {},
   "source": [
    "**Din kode her**\n"
   ]
  },
  {
   "cell_type": "code",
   "execution_count": null,
   "metadata": {},
   "outputs": [],
   "source": [
    "def OLS_SLR(x,y):\n",
    "    ...\n",
    "\n",
    "\n",
    "OLS_SLR(x,y)"
   ]
  },
  {
   "cell_type": "markdown",
   "metadata": {},
   "source": [
    "---"
   ]
  },
  {
   "cell_type": "markdown",
   "metadata": {},
   "source": [
    "### Opgave 1.10\n",
    "Brug `sm.OLS()` funktionen fra statsmodels-pakken til at estimere samme model på testdataen og bekræft at dine koefficienter, standardfejl og forklaringsgraden stemmer overens med dine egne resultater."
   ]
  },
  {
   "cell_type": "code",
   "execution_count": null,
   "metadata": {},
   "outputs": [],
   "source": [
    "X = sm.add_constant(x)\n",
    "model = sm.OLS(y,X)\n",
    "results = model.fit()\n",
    "print(results.summary())"
   ]
  },
  {
   "cell_type": "markdown",
   "metadata": {},
   "source": [
    "---"
   ]
  },
  {
   "cell_type": "markdown",
   "metadata": {},
   "source": [
    "\n",
    "## Del 2: OLS i MLR-tilfældet (Når vi har flere forklarende variable)\n"
   ]
  },
  {
   "cell_type": "markdown",
   "metadata": {},
   "source": [
    "I det generelle tilfælde hvor vi har flere forklarende variable (MLR), ser modellen sådan her ud:\n",
    "\n",
    "$$y_i = \\beta_0 + \\beta_1 x_{1 i}+ \\beta_2 x_{2 i} +  \\dots + \\beta_k x_{k i} + u_i$$\n",
    "\n",
    "Da ved vi at OLS-estimatoren kan skrives på matrix-form ved følgende formel, som nok er den vigtigste formel at kunne i hele det her kursus:\n",
    "\n",
    "$$ {\\hat {\\beta}} = (X' X)^{-1} {X'} y $$\n",
    "\n",
    "Her gælder at:\n",
    "- $n$ er antallet af observationer. \n",
    "- $k$ er antallet af forklarende variable.\n",
    "- ${\\hat{\\beta}}$ er en $ (k+1) \\times 1 $ **vektor** af koefficientestimater (vi plusser $k$ med 1 for at gøre plads til konstantleddet)\n",
    "- $X$ er en $ n \\times (k+1) $ matrix indeholdende vores observationer af forklarende variable, hvor den første søjle er fyldt med 1-taller for at fange konstantledet.\n",
    "- $y$ er en $ n \\times 1 $ vektor som indeholder vores observationer af de afhængige variable\n",
    "\n",
    "\n",
    "\n"
   ]
  },
  {
   "cell_type": "markdown",
   "metadata": {},
   "source": [
    "### Opgave 1.1 "
   ]
  },
  {
   "cell_type": "markdown",
   "metadata": {},
   "source": [
    "Sammenlign OLS-estimatoren for $\\hat \\beta_1$ i SLR-tilfældet og for $ {\\hat \\beta}$ i MLR-tilfældet. Kig på tælleren og nævneren i de to formler. Kan du  genkende et mønster?"
   ]
  },
  {
   "cell_type": "markdown",
   "metadata": {},
   "source": [
    "SLR:\n",
    "$$ \\hat \\beta_1 = \\frac{{\\widehat {\\text{Cov}}}(x, y)} {\\widehat{\\text{Var}}(x)}  $$\n",
    "\n",
    "MLR:\n",
    "$$ \\hat {\\beta} = (X'X)^{-1} {X'} y $$\n"
   ]
  },
  {
   "cell_type": "markdown",
   "metadata": {},
   "source": [
    "**Dit svar:**"
   ]
  },
  {
   "cell_type": "markdown",
   "metadata": {},
   "source": []
  },
  {
   "cell_type": "markdown",
   "metadata": {},
   "source": [
    "---"
   ]
  },
  {
   "cell_type": "markdown",
   "metadata": {},
   "source": [
    "I de følgende opgaver får vi brug for noget ny data at teste vores funktion på, som rummer flere forklarende variable. Kør derfor nedenstående celle for at generere testdataen. Du behøver ikke at kunne forstå, hvad der foregår her:"
   ]
  },
  {
   "cell_type": "code",
   "execution_count": null,
   "metadata": {},
   "outputs": [],
   "source": [
    "np.random.seed(42)\n",
    "n = 8\n",
    "cov = np.array([\n",
    "    [1,.5,.25],\n",
    "    [.5,1,-.1],\n",
    "    [.25,-.1,1]]\n",
    ")\n",
    "\n",
    "X = np.random.multivariate_normal((0,.5,1), cov,n)\n",
    "ones = np.ones(n).reshape((n,1))\n",
    "X = np.hstack((ones, X))\n",
    "\n",
    "u = np.random.normal(0, 1, n)\n",
    "\n",
    "beta = np.random.normal(1, 1, 4)\n",
    "\n",
    "y = X @ beta + u\n",
    "# y = y.reshape((n,1))\n",
    "\n",
    "print('X = ')\n",
    "print(f'{X.round(2)}')\n",
    "\n",
    "print('y = ')\n",
    "print(f'{y.round(2)}')"
   ]
  },
  {
   "cell_type": "markdown",
   "metadata": {},
   "source": [
    "### Opgave 1.2\n",
    "Skriv en funktion `OLS()`, hvor du manuelt implementerer OLS estimatoren i MLR-tilfældet ved hjælp af NumPy. Funktionen skal tage $X$ og $y$ som argumenter, hvor $X$ er et $n \\times (k+1)$ NumPy-array og $y$ er et $n \\times 1$ NumPy-array. Funktionen skal returnere et $(k+1) \\times 1$ NumPy-array $\\hat{\\beta}$.\n",
    "\n",
    "_Hints:_ \n",
    "- Du kan gange matricer sammen i NumPy ved hjælp af @ operatoren. Hvis du for eksempel har to kompatible matricer A og B, kan du bruge koden `A @ B` til at beregne matrix-produktet. @ operatoren fungerer også til matrix-vektor produkter.\n",
    "\n",
    "- Du kan transponere en matrix i NumPy ved at tilføje `.T` til sidst. For eksempel returnerer `A.T` den transpose af matricen A.\n",
    "- Du kan invertere en matrix med `np.linalg.inv()` metoden. For eksempel returnerer `np.linalg.inv(A)` den inverse af matricen A."
   ]
  },
  {
   "cell_type": "markdown",
   "metadata": {},
   "source": [
    "Hvis du løser opgaven korrekt, skulle du gerne få estimaterne"
   ]
  },
  {
   "cell_type": "markdown",
   "metadata": {},
   "source": [
    "$$ \\hat \\beta = \\begin{pmatrix} 0.86... \\\\ -0.23... \\\\ 3.05...\\\\  -0.31... \\end{pmatrix}$$"
   ]
  },
  {
   "cell_type": "markdown",
   "metadata": {},
   "source": [
    "**Din kode:** "
   ]
  },
  {
   "cell_type": "code",
   "execution_count": null,
   "metadata": {},
   "outputs": [],
   "source": [
    "def OLS(X,y):\n",
    "    betahat = ...\n",
    "    return betahat\n",
    "\n",
    "OLS(X,y)"
   ]
  },
  {
   "cell_type": "markdown",
   "metadata": {},
   "source": [
    "### Opgave 1.3\n",
    "Lad os ligesom før formatere funktionens output med nogle deskriptive titler, sådan at vi let kan aflæse, hvilken værdi der hører til $\\hat \\beta_0, \\hat \\beta_1$ og $\\hat \\beta_2$.\n",
    "\n",
    "_Hint:_ Du kan gøre dette ved at loope over indholdet af din `beta_hat`-vektor og printe hvert element med en f-string."
   ]
  },
  {
   "cell_type": "markdown",
   "metadata": {},
   "source": [
    "**Din kode:**"
   ]
  },
  {
   "cell_type": "code",
   "execution_count": null,
   "metadata": {},
   "outputs": [],
   "source": [
    "def OLS(X,Y):\n",
    "    ...\n"
   ]
  },
  {
   "cell_type": "markdown",
   "metadata": {},
   "source": [
    "---"
   ]
  },
  {
   "cell_type": "markdown",
   "metadata": {},
   "source": [
    "I MLR tilfældet kan $(n \\times 1)$-vektoren af prædikterede værdier $\\hat y$ beregnes ved formlen"
   ]
  },
  {
   "cell_type": "markdown",
   "metadata": {},
   "source": [
    "\\begin{align*} \n",
    "\\hat{y} &\\equiv  \\hat \\beta_0 + \\hat \\beta_1 x_1 + \\hat \\beta_2 x_2 + ... + \\hat \\beta_k x_k \n",
    "\\\\ &= X {\\hat{\\beta}},\n",
    "\\end{align*}"
   ]
  },
  {
   "cell_type": "markdown",
   "metadata": {},
   "source": [
    "hvor $X \\hat \\beta$ er et matrix-vektor produkt, idet $X$ er en matrix og $\\hat \\beta$ er en vektor.\n",
    "\n",
    "Vi kan også let beregne  $(n \\times 1)$-vektoren af residualer $\\hat u$ beregnes ved formlen"
   ]
  },
  {
   "cell_type": "markdown",
   "metadata": {},
   "source": [
    "\n",
    "\n",
    "\\begin{align*} \n",
    "\\hat{u} &\\equiv  y - \\hat \\beta_0 - \\hat \\beta_1 x_1 - \\hat \\beta_2 x_2 - ... - \\hat \\beta_k x_k \n",
    "\\\\ &= y - X {\\hat{\\beta}},\n",
    "\\end{align*}"
   ]
  },
  {
   "cell_type": "markdown",
   "metadata": {},
   "source": [
    "### Opgave 1.4\n",
    "Udvid din funktion, så den også beregner de prædikterede værdier og residualerne. Du skulle gerne få:\n",
    "\n",
    "$$\n",
    "\\hat y = (-0.02..., -1.31...,  0.54...,  0.69...,  0.43...,  1.18..., -0.15...,  4.41...)'\n",
    "$$\n",
    "og\n",
    "$$\n",
    " \\hat u = (-0.10...,  0.96..., -1.03...,  0.47..., -0.46..., -0.30..., -0.00...,  0.46...)'\n",
    "$$\n"
   ]
  },
  {
   "cell_type": "code",
   "execution_count": null,
   "metadata": {},
   "outputs": [],
   "source": [
    "def OLS(X,y):\n",
    "    ...\n",
    "\n",
    "OLS(X,y)\n"
   ]
  },
  {
   "cell_type": "markdown",
   "metadata": {},
   "source": [
    "---"
   ]
  },
  {
   "cell_type": "markdown",
   "metadata": {},
   "source": [
    "### Opgave 1.5"
   ]
  },
  {
   "cell_type": "markdown",
   "metadata": {},
   "source": [
    "Udvid nu modellen, så den kan beregne forklaringsgraden $R^2$ samt SST, SSE og SSR. Alle disse formler de samme som i SLR-tilfældet (se opgave 1.7). \n",
    "\n",
    "Du skulle gerne få\n",
    "\n",
    "\\begin{align*}\n",
    "\n",
    "SST &= 22.25... \\\\\n",
    "SSE &= 19.48... \\\\\n",
    "SSR &= 2.76... \\\\\n",
    "R^2 &= 0.87... \\\\\n",
    "\n",
    "\\end{align*}"
   ]
  },
  {
   "cell_type": "code",
   "execution_count": null,
   "metadata": {},
   "outputs": [],
   "source": [
    "def OLS(X,y):\n",
    "    ...\n",
    "\n",
    "OLS(X,y)\n"
   ]
  },
  {
   "cell_type": "markdown",
   "metadata": {},
   "source": [
    "---"
   ]
  },
  {
   "cell_type": "markdown",
   "metadata": {},
   "source": [
    "For at beregne koefficientestimaternes standardfejl skal vi bruge residualvariansen $\\sigma^2$. Residualvariansen beregnes i MLR-tilfældet med formlen\n",
    "\n",
    "\\begin{align*}\n",
    "\\hat \\sigma^2 &\\equiv \\frac{\\sum_{i=1}^n \\hat u_i^2}{n-(k+1)} \\\\\n",
    "&= \\frac {1}{n-k-1} \\hat u ' \\hat u.\n",
    "\\end{align*}\n",
    "\n",
    "Læg her mærke til det smart trick at $\\sum_{i=1}^n \\hat u_i^2$ svarer til prikproduktet $\\hat u ' \\hat u$."
   ]
  },
  {
   "cell_type": "markdown",
   "metadata": {},
   "source": [
    "### Opgave 1.6"
   ]
  },
  {
   "cell_type": "markdown",
   "metadata": {},
   "source": [
    "Udvid din funktion, så den også beregner residualvariansen $\\hat \\sigma^2$. Du skulle gerne få at\n",
    "\n",
    "$$\n",
    "\\hat \\sigma^2 = 0.6922...\n",
    "$$"
   ]
  },
  {
   "cell_type": "markdown",
   "metadata": {},
   "source": [
    "_Hint:_ Du skal bruge $n$ og $k$. Du finder $n$ som det første element i tuplen `X.shape`, mens $k + 1$ er det andet element. Vi husker nemlig at $X$ har dimensionerne $n \\times (k+1$) ."
   ]
  },
  {
   "cell_type": "markdown",
   "metadata": {},
   "source": [
    "**Din kode**"
   ]
  },
  {
   "cell_type": "code",
   "execution_count": null,
   "metadata": {},
   "outputs": [],
   "source": [
    "def OLS(X,y):\n",
    "    ...\n",
    "\n",
    "OLS(X,y)\n"
   ]
  },
  {
   "cell_type": "markdown",
   "metadata": {},
   "source": [
    "---"
   ]
  },
  {
   "cell_type": "markdown",
   "metadata": {},
   "source": [
    "Standardfejlene $\\text{se}(\\hat \\beta)$ findes ved at tage kvadratroden af diagonalelementerne i kovariansmatricen $\\text{var}(\\widehat{\\beta} | X)$. Kovariansmatricen er givet ved\n",
    "\n",
    "$$\n",
    "\\text{var}(\\widehat{\\beta} | X) = \\hat \\sigma^2 (X'X)^{-1}\n",
    "$$\n",
    "\n",
    "Og standardfejlene beregnes altså så som:\n",
    "\n",
    "$$ \\text{se}(\\hat \\beta) = \\begin{pmatrix} \\text{se}(\\hat \\beta_0) \\\\ \\text{se}(\\hat \\beta_1) \\\\ \\vdots \\\\ \\text{se}(\\hat \\beta_k) \\end{pmatrix}\n",
    "$$\n",
    "hvor\n",
    "\n",
    "$$\\text{se}(\\hat \\beta_i) = \\sqrt{\\text{var}(\\widehat{\\beta} | X)_{i,i}} $$\n",
    "\n",
    "\n",
    "> Her er det måske en god ide at genbesøge hvad en kovariansmatrix er. Når vi har $k$ forklarende variable, kan koefficientestimaterne til hver variabel være korreleret med hinanden på forskellig vis. Fx kan det være, at $\\text{Cov}(\\hat \\beta_1, \\hat \\beta_2) >0$, $\\text{Cov}(\\hat \\beta_1,\\hat \\beta_3) < 0$ og $\\text{Cov}(\\hat \\beta_2, \\hat \\beta_3) = 0$. Alle disse kovarianser er indeholdt i kovariansmatricen, som  har dimensionerne $(k+1) \\times (k+1$). Skriver vi hele matricen op, får vi:\n",
    ">\n",
    "> $$\n",
    "\\text{var}(\\widehat{\\beta} | X) = \\hat \\sigma^2 (X'X)^{-1} = \n",
    "\\hat \\sigma^2\n",
    "\\begin{bmatrix}\n",
    "\\mathrm{Var}(\\hat{\\beta}_0) & \\mathrm{Cov}(\\hat{\\beta}_0,\\hat{\\beta}_1) & \\cdots & \\mathrm{Cov}(\\hat{\\beta}_0,\\hat{\\beta}_k) \\\\\n",
    "\\mathrm{Cov}(\\hat{\\beta}_1,\\hat{\\beta}_0) & \\mathrm{Var}(\\hat{\\beta}_1) & \\cdots & \\mathrm{Cov}(\\hat{\\beta}_1,\\hat{\\beta}_k) \\\\\n",
    "\\vdots & \\vdots & \\ddots & \\vdots \\\\\n",
    "\\mathrm{Cov}(\\hat{\\beta}_k,\\hat{\\beta}_0) & \\mathrm{Cov}(\\hat{\\beta}_k,\\hat{\\beta}_1) & \\cdots & \\mathrm{Var}(\\hat{\\beta}_k)\n",
    "\\end{bmatrix}\n",
    "$$\n",
    "\n",
    "\n",
    "\n",
    "\n",
    "\n",
    " På diagonalen ligger variansen af hver koefficient, og tager vi kvadratroden af den, får vi standardfejlen."
   ]
  },
  {
   "cell_type": "markdown",
   "metadata": {},
   "source": [
    "### Opgave 1.7"
   ]
  },
  {
   "cell_type": "markdown",
   "metadata": {},
   "source": [
    "Udvid din funktion, så den også beregner standardfejlene der hører til hvert parameterestimat. Du skulle gerne få\n"
   ]
  },
  {
   "cell_type": "markdown",
   "metadata": {},
   "source": [
    "$$ \n",
    "\\text{se}(\\hat \\beta) = \\begin{pmatrix} \\text{se}(\\hat \\beta_0) \\\\ \\text{se}(\\hat \\beta_1) \\\\ \\text{se}(\\hat \\beta_2) \\\\ \\text{se}(\\hat \\beta_3) \\end{pmatrix} \n",
    "\n",
    "= \\begin{pmatrix} 0.69... \\\\ 0.34... \\\\ 0.57... \\\\ 0.38... \\end{pmatrix} \n",
    "$$\n",
    "\n",
    "\n"
   ]
  },
  {
   "cell_type": "markdown",
   "metadata": {},
   "source": [
    "_Hint:_ Du skal først beregne kovariansmatricen, og derefter tage kvadratroden af diagonalelementerne.\n",
    "\n",
    "_Hint:_ For at tilgå diagonalelementerne af en matrix kan du bruge `np.diag()`."
   ]
  },
  {
   "cell_type": "markdown",
   "metadata": {},
   "source": [
    "**Din kode**"
   ]
  },
  {
   "cell_type": "code",
   "execution_count": null,
   "metadata": {},
   "outputs": [],
   "source": [
    "def OLS(X, y):\n",
    "    ...\n",
    "    \n",
    "OLS(X,y)"
   ]
  },
  {
   "cell_type": "markdown",
   "metadata": {},
   "source": [
    "#### Opgave 1.8"
   ]
  },
  {
   "cell_type": "markdown",
   "metadata": {},
   "source": [
    "Tilpas din funktion, så, den returnerer alt sit output i en dictionary."
   ]
  },
  {
   "cell_type": "markdown",
   "metadata": {},
   "source": [
    "**Din kode**"
   ]
  },
  {
   "cell_type": "code",
   "execution_count": null,
   "metadata": {},
   "outputs": [],
   "source": [
    "def OLS(X, y):\n",
    "    ...\n",
    "    return {...}\n",
    "\n",
    "OLS(X,y)"
   ]
  },
  {
   "cell_type": "markdown",
   "metadata": {},
   "source": [
    "#### Opgave 1.9\n",
    "\n",
    "Tjek nu, at din `OLS()` funktionen fra MLR-tilfældet returnerer de samme koefficienter som i SLR-tilfældet når du kører den på SLR-testdataen. Kør bare de to celler  nedenfor."
   ]
  },
  {
   "cell_type": "code",
   "execution_count": null,
   "metadata": {},
   "outputs": [],
   "source": [
    "# SLR testdata\n",
    "x = np.array([0.67, 0.03, -0.78,  0.95,  0.7,  -1.05, -0.37, -1.14])\n",
    "y = np.array([-2.31, 2.6, -3.25, 2.24, 1.05, -2.98, -3.82, -5.29])\n",
    "\n",
    "OLS_SLR(x,y)"
   ]
  },
  {
   "cell_type": "code",
   "execution_count": null,
   "metadata": {},
   "outputs": [],
   "source": [
    "# Add constant\n",
    "ones = np.ones(n).reshape(n,1)\n",
    "X = np.hstack((ones, x.reshape(n,1)))\n",
    "\n",
    "OLS(X, y)"
   ]
  }
 ],
 "metadata": {
  "kernelspec": {
   "display_name": "base",
   "language": "python",
   "name": "python3"
  },
  "language_info": {
   "codemirror_mode": {
    "name": "ipython",
    "version": 3
   },
   "file_extension": ".py",
   "mimetype": "text/x-python",
   "name": "python",
   "nbconvert_exporter": "python",
   "pygments_lexer": "ipython3",
   "version": "3.13.5"
  }
 },
 "nbformat": 4,
 "nbformat_minor": 2
}
