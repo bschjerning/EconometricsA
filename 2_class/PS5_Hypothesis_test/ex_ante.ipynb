{
 "cells": [
  {
   "cell_type": "code",
   "execution_count": null,
   "metadata": {},
   "outputs": [],
   "source": [
    "import pandas as pd\n",
    "import numpy as np\n",
    "import statsmodels.api as sm"
   ]
  },
  {
   "cell_type": "markdown",
   "metadata": {},
   "source": [
    "# Fra strukturel model til økonometrisk analyse\n",
    "I dette problem set  skal vi arbejde med et eksempel på, hvordan man kan bruge  økonometriske værktøjer til empirisk at teste økonomisk teori. Konkret skal vi arbejde med en strukturel model, som beskriver optimal firmaadfærd når efterspørgslen kan påvirkes gennem reklame (annoncering) og prissætning.\n"
   ]
  },
  {
   "cell_type": "markdown",
   "metadata": {},
   "source": [
    "# Del 1: Teoretiske opgaver"
   ]
  },
  {
   "cell_type": "markdown",
   "metadata": {},
   "source": [
    "Nedenfor vil vi først beskrive en simpel strukturel model for, hvordan virksomheder sætter priser og vælger deres annoncebudget. Vi transformerer derefter modellen så vi opnår en lineær specifikation, således at modelparametrene kan estimeres empirisk ved hjælp af OLS. Vi formulerer herefter nogle nulhypoteser, således at vi kan teste den strukturelle models prædiktioner. Til sidst estimerer vi modellen empirisk (i del 2) og kigger på en udvidet model med flere annoncekategorier (i del 3)"
   ]
  },
  {
   "cell_type": "markdown",
   "metadata": {},
   "source": [
    "## 1.1: Efterspørgselsfunktionen\n",
    "Antag, at virksomhederne ved, at forbrugernes efterspørgsel efter virksomhedens varer er givet ved følgende multiplikative efterspørgselsfunktion med konstante elasticiteter (dvs. Cobb-Douglas form):\n",
    "\n",
    "\n",
    "$$ Q(P,A) = K P^{-\\beta} A^{\\gamma} \\varepsilon, \\tag{1}\n",
    " $$\n",
    "\n",
    "hvor:\n",
    "- $Q$ = Mængde efterspurgt  \n",
    "- $K$ = En konstant\n",
    "- $P$ = Virksomhedens pris\n",
    "- $A$ = Virksomhedens annonceforbrug  \n",
    "- $\\beta > 0$ = priselasticitet  \n",
    "- $\\gamma \\geq 0$ = annonceelasticitet  \n",
    "- $\\varepsilon$ = stokastisk efterspørgselsstød "
   ]
  },
  {
   "cell_type": "markdown",
   "metadata": {},
   "source": [
    "**Opgave 1.1:**\n",
    "\n",
    "Vis, at de marginale efterspørgselsfunktioner er\n",
    "\n",
    "\\begin{align*}\n",
    "\\frac{\\partial Q}{\\partial P} &= - \\frac{\\beta}{P} Q(P,A),\n",
    "\\\\\n",
    "\\frac{\\partial Q}{\\partial A} &= \\frac{\\gamma}{A} Q(P,A).\n",
    "\n",
    "\\end{align*}"
   ]
  },
  {
   "cell_type": "markdown",
   "metadata": {},
   "source": [
    "**Dit svar:** "
   ]
  },
  {
   "cell_type": "markdown",
   "metadata": {},
   "source": []
  },
  {
   "cell_type": "markdown",
   "metadata": {},
   "source": [
    "Fortolk på fortegnene. Er de som du forventer?\n"
   ]
  },
  {
   "cell_type": "markdown",
   "metadata": {},
   "source": [
    "**Dit svar:** "
   ]
  },
  {
   "cell_type": "markdown",
   "metadata": {},
   "source": []
  },
  {
   "cell_type": "markdown",
   "metadata": {},
   "source": [
    "---"
   ]
  },
  {
   "cell_type": "markdown",
   "metadata": {},
   "source": [
    "\n",
    "## 1.2. Profitmaksimering og Dorfman–Steiner reglen\n",
    "\n",
    "Firmaet vælger prisen $P$ og annoncebudgettet $A$ sådan at deres profit maksimeres. Profitfunktionen er:\n",
    "\n",
    "$$\n",
    "\\pi = P \\cdot Q(P,A) - c \\cdot Q(P,A) - A - F, \\tag{2}\n",
    "$$\n",
    "\n",
    "med marginalomkostninger $c$ og faste omkostninger $F$.\n",
    "\n",
    "\n",
    "**Opgave 1.2:**\n",
    "\n",
    "Vis, at profitmaksimering medfører førsteordensbetingelserne:\n",
    "\n",
    "1. **Prissætning (Lerner betingelsen):**\n",
    "$$\n",
    "\\frac{P-c}{P} = \\frac{1}{\\beta} \\equiv L, \\tag{3}\n",
    "$$\n",
    "\n",
    "2. **Annoncering (Dorfman–Steiner betingelsen):**\n",
    "$$\n",
    "\\frac{A}{P \\cdot Q} = \\gamma \\frac{P-c}{P} = \\gamma L. \\tag{4}\n",
    "$$"
   ]
  },
  {
   "cell_type": "markdown",
   "metadata": {},
   "source": [
    "(Hint: Brug produktreglen samt de marginale efterspørgselsfunktioner fra opgave 1 i din udledning)\n",
    "\n",
    "**Dit svar:** "
   ]
  },
  {
   "cell_type": "markdown",
   "metadata": {},
   "source": []
  },
  {
   "cell_type": "markdown",
   "metadata": {},
   "source": [
    "\n",
    "PS:\n",
    "$L \\equiv \\frac{1}{\\beta}$ kaldes Lerner indekset (eller markup'en). De udledte førsteordensbetingelser illustrerer den såkaldte **Dorfman–Steiner regel**: optimal annonceringsintensitet (dvs. annonceandelen af salget, venstresiden i ligning 4) er proportional med annonceelasticiteten $\\gamma$ og markup'en $L \\equiv \\frac{P-c}{P}$ (højresiden).\n"
   ]
  },
  {
   "cell_type": "markdown",
   "metadata": {},
   "source": [
    "---"
   ]
  },
  {
   "cell_type": "markdown",
   "metadata": {},
   "source": [
    "## 1.3. Fra teori til empirisk specifikation\n",
    "\n",
    "Vi ønsker empirisk at undersøge, om virksomhederne følger Dorfman-Steiner reglen; dvs. om virksomhedernes valg af priser og annoncebudgetter stemmer overens med de teoretiske forudsigelser om optimal profitmaksimerende adfærd.\n",
    "\n",
    "For at kunne bruge lineær regressionsanalyse skal vores model være lineær i parametrene. Det kan vi opnå ved at bruge logaritmetransformationen.\n"
   ]
  },
  {
   "cell_type": "markdown",
   "metadata": {},
   "source": [
    "\n",
    "**Opgave 1.3:** \n",
    "\n",
    "Vis, at vi ved at tage logaritmen i efterspørgselsfunktionen (ligning 1) og Dorfman-Steiner-betingelsen (ligning 4) kan få følgende lineære specifikationer: \n",
    "\n",
    "\n",
    "**Log efterspørgsel:**\n",
    "$$\n",
    "\\log Q = \\alpha - \\beta \\log P + \\gamma \\log A + u, \\tag{5}\n",
    "$$\n",
    "hvor $u \\equiv \\log \\varepsilon$ og $\\alpha \\equiv \\log K$\n",
    "\n",
    "og \n",
    "\n",
    "**Log Dorfman-Steiner:**\n",
    "$$\n",
    "\\log \\left(\\frac{A}{P \\cdot Q} \\right) = \\delta + \\log L. \\tag{6}\n",
    "$$\n",
    "\n",
    "hvor $ \\delta \\equiv \\log \\gamma $ og $L = \\frac{P-C}{P}$\n"
   ]
  },
  {
   "cell_type": "markdown",
   "metadata": {},
   "source": [
    "**Dit svar:** "
   ]
  },
  {
   "cell_type": "markdown",
   "metadata": {},
   "source": []
  },
  {
   "cell_type": "markdown",
   "metadata": {},
   "source": [
    "---"
   ]
  },
  {
   "cell_type": "markdown",
   "metadata": {},
   "source": [
    "## 1.4. Nul- og alternativhypoteser "
   ]
  },
  {
   "cell_type": "markdown",
   "metadata": {},
   "source": [
    "Antag, at du har et datasæt til rådighed, hvor vi observerer $N$ virksomheder der hver sælger et enkelt produkt. For hver virksomhed $i$ observeres virksomhedens solgte mængde $Q_i$, pris $P_i$, annoncebudget $A_i$ og marginalomkostninger $c_i$. Med udgangspunkt i de lineære specifikationer i ligning (5) og (6) vil det da være muligt at estimere parametrene $\\alpha$, $\\beta$, $\\gamma$, $\\delta$ og $\\theta$ i følgende regressionsspecifikationer"
   ]
  },
  {
   "cell_type": "markdown",
   "metadata": {},
   "source": [
    "\\begin{align*}\n",
    "\\log Q_i &= \\alpha + \\eta \\log P_i + \\gamma \\log A_i + u_i \\tag{7} \\\\\n",
    "\\log Adv\\_share_i &= \\delta + \\theta \\log L_i + \\epsilon_i \\tag{8}\n",
    "\\end{align*}\n",
    "\n",
    "hvor: \n",
    "- $\\eta \\equiv -\\beta$\n",
    "- $Adv\\_share_i \\equiv  \\left(\\frac{A_i}{P_i Q_i} \\right)$\n",
    "- $L_i = \\frac{P_i - c_i}{P_i}$"
   ]
  },
  {
   "cell_type": "markdown",
   "metadata": {},
   "source": [
    "**Opgave 1.4a:**\n",
    "\n",
    "Hvordan kan du teste Dorfman-Steiner hypotesen? Er der en parameterrestriktion på $\\theta$, som kan hjælpe os med at teste om firmaernes adfærd stemmer overens med teorien? Formulér formelt den relevante nul- og alternativhypotese."
   ]
  },
  {
   "cell_type": "markdown",
   "metadata": {},
   "source": [
    "**Dit svar:**"
   ]
  },
  {
   "cell_type": "markdown",
   "metadata": {},
   "source": []
  },
  {
   "cell_type": "markdown",
   "metadata": {},
   "source": [
    "**Opgave 1.4b:**\n",
    "\n",
    "Vi kan også bruge datasættet og vores lineære specifikationer til at teste andre, simplere hypoteser. Lad os eksempelvis antage, at prisen er ligegyldig for efterspørgslen. Hvad er den relevante nul- og alternativhypotese da? Og hvad er den relevante nul- og alternativhypotese for, at annoncering er ligegyldig for efterspørgslen?\n",
    "\n"
   ]
  },
  {
   "cell_type": "markdown",
   "metadata": {},
   "source": []
  },
  {
   "cell_type": "markdown",
   "metadata": {},
   "source": [
    "## Del 2: Regressionsanalyse i Python"
   ]
  },
  {
   "cell_type": "markdown",
   "metadata": {},
   "source": [
    "Vi skal nu teste, om de teoretiske forudsigelser understøttes af empirien. Til det formål anvender vi datasættet `advertising.dta`. \n",
    "\n",
    "Bemærk at der er tale om simuleret data, og at der derfor **ikke** kan drages konklusioner om faktisk firmaadfærd på baggrund af analysen.\n",
    "\n",
    "Datasættet rummer 500 observationer af virksomheders salg, priser, marginalomkostninger og annoncebudgetter. Variablene er defineret således:\n",
    "\n",
    "| Variabel       | Beskrivelse                                                                 |\n",
    "|----------------|-----------------------------------------------------------------------------|\n",
    "| `sales`        | Antallet af solgte enheder                                                  |\n",
    "| `price`        | Virksomhedens valgte enhedspris                                             |\n",
    "| `costs`        | Marginalomkostningerne                                                      |\n",
    "| `adv`          | Det totale annoncebudget                                                    |\n",
    "| `adv_trad`     | Annoncebudgettet til traditionelle kanaler (avis, TV, radio etc.)           |\n",
    "| `adv_infl`     | Annoncebudgettet til influencer-markedsføring                               |\n",
    "| `adv_podcasts` | Annoncebudgettet til podcast-reklamer                                       |"
   ]
  },
  {
   "cell_type": "markdown",
   "metadata": {},
   "source": [
    "**Opgave 2.1**\n",
    "\n",
    "Indlæs datasættet og estimer først den simple specifikation\n",
    "\n",
    "$$\\log Q_i = \\alpha + \\eta \\log P_i + u_i$$\n",
    "\n",
    "Sammenlign specifikationen med ligning 7. Hvad har vi implicit antaget om $\\gamma$ (dvs. effekten af annoncering)? \n",
    "\n",
    "Rapporter og fortolk parameterestimaterne, standardfejlene og konfidensintervallerne for $\\eta$ og $\\gamma$.\n",
    "\n",
    "_Hint:_ Husk at tilføje et konstantled.\n",
    "\n",
    "_Hint:_ Husk at du skal logaritmetransformere dine variable med `np.log()`"
   ]
  },
  {
   "cell_type": "markdown",
   "metadata": {},
   "source": [
    "**Din kode:**"
   ]
  },
  {
   "cell_type": "code",
   "execution_count": null,
   "metadata": {},
   "outputs": [],
   "source": [
    "# Indlæs datasættet\n",
    "df = ...\n",
    "\n",
    "# Tilføj et konstantled\n",
    "df['const'] = ...\n",
    "\n",
    "# Transformer dine variable\n",
    "df['log_Q'] = ...\n",
    "df['log_P'] = ...\n",
    "df['log_A'] = ...\n",
    "df['log_c'] = ...\n",
    "\n",
    "# Estimer med OLS (brug enten din egen implementation af OLS, koden fra forelæsningen eller statsmodels).\n",
    "y = ...\n",
    "X = ...\n",
    "\n",
    "..."
   ]
  },
  {
   "cell_type": "markdown",
   "metadata": {},
   "source": [
    "**Dit svar:** (Fortolk dine resultater)"
   ]
  },
  {
   "cell_type": "markdown",
   "metadata": {},
   "source": []
  },
  {
   "cell_type": "markdown",
   "metadata": {},
   "source": [
    "---"
   ]
  },
  {
   "cell_type": "markdown",
   "metadata": {},
   "source": [
    "**Opgave 2.2**\n",
    "\n",
    "Estimer nu den fulde specifikation fra ligning 7, hvor vi medtager effekten af annoncering:\n",
    "\n",
    "$$\\log Q_i = \\alpha + \\eta \\log P_i + \\gamma \\log A_i + u_i$$\n",
    "\n",
    "Rapporter og fortolk parameterestimaterne, standardfejlene og konfidensintervallerne for $\\eta$ og $\\gamma$. Sammenlign estimatet af priselasticiteten med resultatet fra forrige opgave.\n"
   ]
  },
  {
   "cell_type": "markdown",
   "metadata": {},
   "source": [
    "**Din kode:** "
   ]
  },
  {
   "cell_type": "code",
   "execution_count": null,
   "metadata": {},
   "outputs": [],
   "source": [
    "y = ...\n",
    "X = ...\n",
    "\n",
    "..."
   ]
  },
  {
   "cell_type": "markdown",
   "metadata": {},
   "source": [
    "**Dit svar:** (Fortolk dine resultater)"
   ]
  },
  {
   "cell_type": "markdown",
   "metadata": {},
   "source": []
  },
  {
   "cell_type": "markdown",
   "metadata": {},
   "source": [
    "---"
   ]
  },
  {
   "cell_type": "markdown",
   "metadata": {},
   "source": [
    "**Opgave 2.3**\n",
    "Vi skal nu undersøge, om virksomhederne overholder Dorfman-Steiner betingelsen for profitmaksimering under annoncering.\n",
    "\n",
    "Konstruer først de to variable $Adv\\_share_i \\equiv  \\left(\\frac{A_i}{P_i Q_i} \\right)$ og $L_i = \\frac{P_i - C_i}{P_i}$.\n",
    "\n",
    "Estimer herefter ligning 8 med OLS (husk, at du igen skal bruge en log-transformation):\n",
    "\n",
    "$$\n",
    "\\log Adv\\_share_i = \\delta + \\theta \\log L_i + \\epsilon_i\n",
    "$$\n",
    "\n",
    "Rapporter og fortolk parameterestimaterne, standardfejlene og konfidensintervallerne $\\delta$ og $\\theta$.\n",
    "\n",
    "Test formelt din nulhypotese fra opgave 1.4 vedr. Dorfman-Steiner hypotesen. Hvilket test skal du bruge? (_Hint:_ Der er tale om en enkelt parameterrestriktion). Hvad er resultatet af dit test?"
   ]
  },
  {
   "cell_type": "markdown",
   "metadata": {},
   "source": [
    "**Din kode:**"
   ]
  },
  {
   "cell_type": "code",
   "execution_count": null,
   "metadata": {},
   "outputs": [],
   "source": [
    "# Konstruer og transformer de nødvendige variable\n",
    "...\n",
    "\n",
    "# Estimer med OLS\n",
    "..."
   ]
  },
  {
   "cell_type": "code",
   "execution_count": null,
   "metadata": {},
   "outputs": [],
   "source": [
    "# Test om Dorfman-Steiner betingelsen holder ved hjælp af det relevante test\n",
    "..."
   ]
  },
  {
   "cell_type": "markdown",
   "metadata": {},
   "source": [
    "**Dit svar:** (Fortolk dine resultater)"
   ]
  },
  {
   "cell_type": "markdown",
   "metadata": {},
   "source": []
  },
  {
   "cell_type": "markdown",
   "metadata": {},
   "source": [
    "## Del 3: Flere annoncekategorier\n",
    "Betragt nu følgende udvidede teoretiske model, hvor der indgår $m$ annoncekategorier (fx TV, bannerannoncer, influencers, avisreklamer, busreklamer, radio, podcasts, sponsorering af sportshold osv.). Hver kategori $j \\in \\{1,2,...,m\\}$ har sit eget annoncebudget $A_j$ og sin egen annonceelasticitet $\\gamma_j$. Under antagelse af, at annoncekategorierne er multiplikative komplementer, får vi følgende efterspørgselsfunktion:\n",
    "\n",
    "\\begin{align*}\n",
    "Q(P,A_1, A_2, ..., A_m) &= K P^{-\\beta} A_1^{\\gamma_1} A_2^{\\gamma_2} \\cdots A_m^{\\gamma_m}  \\varepsilon \\\\\n",
    "                        &= K P^{-\\beta} \\prod_{j=1}^m A_j^{\\gamma_i}  \\varepsilon \\tag{9}\n",
    "\\end{align*}\n",
    "\n",
    "mens profitfunktionen er\n",
    "\n",
    "\\begin{align*}\n",
    "\\pi &= P Q - c Q - A_1 - A_2 - ... - A_m - F \\\\\n",
    "    &= P Q - c Q - \\sum_{j=1}^m A_j - F \\tag{10}\n",
    "\\end{align*}\n",
    "\n",
    "hvor $Q = Q(P, A_1, A_2, ..., A_m)$."
   ]
  },
  {
   "cell_type": "markdown",
   "metadata": {},
   "source": [
    "Profitmaksimering medfører samme førsteordensbetingelser som i opgave 1.2, blot hører der nu en Dorfman-Steiner betingelse til hver af de $m$ annoncekategorier på formen:\n",
    "\n",
    "$$\n",
    "\\frac{A_j}{P \\cdot Q} = \\gamma_j  \\frac{P-c}{P} = \\gamma_j  L, \\quad \\forall j \\leq m\n",
    "$$\n",
    "\n",
    "(Vis evt. selv dette; brug samme fremgangsmåde som i opgave 1.2, men profitmaksimer blot mht. $P$ og $A_j$)."
   ]
  },
  {
   "cell_type": "markdown",
   "metadata": {},
   "source": [
    "**Opgave 3.1**"
   ]
  },
  {
   "cell_type": "markdown",
   "metadata": {},
   "source": [
    "Vores datasæt rummer tre variable, som angiver annoncebudgettet fordelt på specifikke kategorier. Estimer med udgangspunkt i ligning (5) følgende lineære specifikation:"
   ]
  },
  {
   "cell_type": "markdown",
   "metadata": {},
   "source": [
    "\n",
    "$$\n",
    "\\log Q_i = \\alpha + \\eta \\log P_i + \\gamma_1 \\log A_{1i} + \\gamma_2 \\log A_{2i} + \\gamma_3 \\log A_{3i} + u_i \\tag{11}\n",
    "$$ \n",
    "\n",
    "hvor\n",
    "- $A_1$ er annonceforbrug på traditionelle markedsføringskanaler (_adv\\_trad_)\n",
    "- $A_2$ er annonceforbrug på influencers (_adv\\_infl_)\n",
    "- $A_3$ er annonceforbrug på podcasts (_adv\\_podcasts_)\n",
    "\n",
    "Rapporter og fortolk dine resultater. "
   ]
  },
  {
   "cell_type": "markdown",
   "metadata": {},
   "source": [
    "**Din kode**"
   ]
  },
  {
   "cell_type": "code",
   "execution_count": null,
   "metadata": {},
   "outputs": [],
   "source": [
    "# Transformer de relevante variable\n",
    "...\n",
    "\n",
    "# Estimer med OLS\n",
    "..."
   ]
  },
  {
   "cell_type": "markdown",
   "metadata": {},
   "source": [
    "**Dit svar** (Fortolk dine resultater)"
   ]
  },
  {
   "cell_type": "markdown",
   "metadata": {},
   "source": []
  },
  {
   "cell_type": "markdown",
   "metadata": {},
   "source": [
    "---"
   ]
  },
  {
   "cell_type": "markdown",
   "metadata": {},
   "source": [
    "Vi skal nu bruge et F-test til at undersøge hypotesen\n",
    "\n",
    "\\begin{align*}\n",
    "H_0: &\\quad \\gamma_1 = \\gamma_2 = \\gamma_3 \\\\\n",
    "\\iff & \\quad \\gamma_1 - \\gamma_2 = 0 \\land \\gamma_2 - \\gamma_3 = 0 \\\\ \\\\\n",
    "H_A: &\\quad \\gamma_1 - \\gamma_2 \\neq 0 \\lor \\gamma_2 - \\gamma_3 \\neq 0\n",
    "\\end{align*}"
   ]
  },
  {
   "cell_type": "markdown",
   "metadata": {},
   "source": [
    "**Opgave 3.2a**\n",
    "Hvad er den økonomiske fortolkning af denne hypotese?\n"
   ]
  },
  {
   "cell_type": "markdown",
   "metadata": {},
   "source": [
    "**Dit svar**"
   ]
  },
  {
   "cell_type": "markdown",
   "metadata": {},
   "source": []
  },
  {
   "cell_type": "markdown",
   "metadata": {},
   "source": [
    "For at beregne F-test-statistikken skal vi estimere en urestrikteret model og en restrikteret model. \n",
    "\n",
    "_Den urestrikterede model_ har vi estimeret ovenfor i opgave 3.1. Denne model er urestrikteret, fordi vi her estimerer $\\gamma_1, \\gamma_2$ og $\\gamma_3$ separat og altså tillader, at parameterne varierer frit. \n",
    "\n",
    "Udfordringen er at estimere _den restrikterede model_. Det kræver en omformulering af vores regressionsspecifikation."
   ]
  },
  {
   "cell_type": "markdown",
   "metadata": {},
   "source": [
    "**Opgave 3.2b**\n",
    "Vis, at vi under nulhypotesen kan omskrive ligning 11 til følgende lineære form:\n",
    "$$\n",
    "\\log Q_i = \\alpha + \\eta \\log P_i + \\gamma_1 (\\log A_{1i} + \\log A_{2i} + \\log A_{3i}) + u_i \\tag{12}\n",
    "$$ "
   ]
  },
  {
   "cell_type": "markdown",
   "metadata": {},
   "source": [
    "**Dit Svar:**"
   ]
  },
  {
   "cell_type": "markdown",
   "metadata": {},
   "source": []
  },
  {
   "cell_type": "markdown",
   "metadata": {},
   "source": [
    "**Opgave 3.2c** Konstruer variablen $(\\log A_{1i} + \\log A_{2i} + \\log A_{3i})$ og estimér den restrikterede model i ligning 12 med OLS"
   ]
  },
  {
   "cell_type": "code",
   "execution_count": null,
   "metadata": {},
   "outputs": [],
   "source": [
    "# Konstruer variablen\n",
    "...\n",
    "\n",
    "# Estimer med OLS\n",
    "..."
   ]
  },
  {
   "cell_type": "markdown",
   "metadata": {},
   "source": [
    "**Opgave 3.2d** Udfør nu dit F-test ved at bruge formlen:\n",
    "\n",
    "1. **F-statistik**:\n",
    "   $$\n",
    "   F = \\frac{(RSS_r - RSS_{ur}) / q}{RSS_{ur} / (n - k_{ur})} \\sim F(q, n - k_{ur})\n",
    "   $$\n",
    "   hvor:\n",
    "   - $RSS_r$: RSS for den restrikterede model\n",
    "   - $RSS_{ur}$: RSS for den fulde model\n",
    "   - $q$: antal restriktioner\n",
    "   - $n$: antal observationer\n",
    "   - $k_{ur}$: antal parametre i den urestrikterede model, inklusive konstantledet\n",
    "2. **P-værdi**:\n",
    "   P-værdien beregnes som:\n",
    "   $$\n",
    "   p = 1 - F_{\\text{cdf}}(F_{\\text{stat}}, q, n - k_{ur})\n",
    "   $$\n",
    "   hvor $F_{\\text{cdf}}$ er kumulativ fordelingsfunktion for F-fordelingen, og $F_{\\text{stat}}$ er den beregnede F-statistik.\n",
    "\n",
    "- _Hint_: Der er $q=2$ lineære restriktioner, hvilket kan ses af omformuleringen af nul- og alternativhypotesen over opgave 3.2a\n",
    "- _Hint_: Hvis du bruger statsmodels, kan du tilgå RRS i dit modelresultat-objekt med kommandoen `results.ssr`\n",
    "- _Hint_: Du kan finde $F_{\\text{cdf}} ( F_\\text{stat}, q, n - k_{ur})$ med følgende kode:\n",
    "```py\n",
    "from scipy import stats\n",
    "stats.f.cdf(F_stat, q, n - k_ur)\n",
    "```"
   ]
  },
  {
   "cell_type": "markdown",
   "metadata": {},
   "source": [
    "**Din kode:** "
   ]
  },
  {
   "cell_type": "code",
   "execution_count": null,
   "metadata": {},
   "outputs": [],
   "source": [
    "RSSr = ... \n",
    "RSSur = ...\n",
    "q = ...\n",
    "n = ...\n",
    "k_ur = ...\n",
    "\n",
    "F_stat = ...\n",
    "\n",
    "p = ...\n",
    "\n",
    "print(f'{F_stat = :.4f}')\n",
    "print(f'{p = :.4f}')"
   ]
  },
  {
   "cell_type": "markdown",
   "metadata": {},
   "source": [
    "**Opgave 3.2e** Fortolk dine resultater. Kan vi afvise nulhypotesen eller ej? Hvad er den økonomiske fortolkning?"
   ]
  },
  {
   "cell_type": "markdown",
   "metadata": {},
   "source": [
    "**Dit svar:**"
   ]
  },
  {
   "cell_type": "markdown",
   "metadata": {},
   "source": []
  },
  {
   "cell_type": "markdown",
   "metadata": {},
   "source": [
    "(Det bemærkes for en god ordens skyld igen, at der er tale om simuleret data, og at der derfor ikke kan drages konklusioner om faktisk firmaadfærd eller efterspørgsel på baggrund den empiriske analyse i disse øvelser)."
   ]
  },
  {
   "cell_type": "markdown",
   "metadata": {},
   "source": [
    "---"
   ]
  },
  {
   "cell_type": "markdown",
   "metadata": {},
   "source": [
    "#### Bonusopgave\n",
    "I denne opgave vil du lære hvordan du let kan eksportere output fra statsmodels og fra pandas DataFrames til LaTeX, sådan at du kan bruge output fra Python i pæne tabeller, der er korrekt sat op i dine afleveringsopgaver.\n",
    "\n",
    "\n",
    "- Brug denne kommando i Python til at printe dit regression summary som LaTeX kode:\n",
    "```py\n",
    "print(results.summary().as_latex())\n",
    "```\n",
    "\n",
    "- Opret et LaTeX-dokument (fx i Overleaf).\n",
    "\n",
    "- Kopier koden ind i dit LaTeX dokument og se, hvordan tabellen ser ud.\n",
    "\n",
    "Tilsvarende kan du konvertere ethvert Pandas DataFrame (fx deskriptiv statistik) til LaTeX med metoden `.to_latex()`. Bemærk at navngivningen af de to metoder er lidt forskellig i statsmodels og i pandas.\n",
    "\n",
    "Prøv fx at køre koden:\n",
    "```py\n",
    "print(df.describe().to_latex())\n",
    "```\n",
    "\n",
    "*Tip:* Hvis du vil afrunde dit LaTeX output til fx to decimaler, kan du bruge argumentet `float_format=\"%.2f\"` i `.to_latex()` metoden\n",
    "\n",
    "*Tip:* Din tabel bliver automatisk flottere i LaTeX hvis du importerer LaTeX-pakken booktabs:\n",
    "```\\usepackage{booktabs}```"
   ]
  },
  {
   "cell_type": "markdown",
   "metadata": {},
   "source": [
    "**Din kode:**"
   ]
  },
  {
   "cell_type": "code",
   "execution_count": null,
   "metadata": {},
   "outputs": [],
   "source": []
  },
  {
   "cell_type": "markdown",
   "metadata": {},
   "source": [
    "Du vil måske opleve, at det kræver lidt mere arbejde at få tabellen til at se godt ud i LaTeX. Blandt andet fordi statsmodels faktisk spytter flere tabeller af forskellig størrelse ud, når man printer et summary.\n",
    "\n",
    "Du kan bede statsmodels om at printe tabellerne enkeltvist sådan her her. Så kan du fx vælge kun at bruge tabellen der indeholder koefficientestimaterne.\n",
    "\n",
    "```py\n",
    "print(results.summary().tables[0])\n",
    "print(results.summary().tables[1])\n",
    "print(results.summary().tables[2])\n",
    "```\n",
    "\n",
    "**Sidste tip til de \"dovne\":** Hvis du har travlt og ikke har lyst til at rode med at sætte LaTeX-tabellerne pænt op, kan du også bare kopiere de rå tekstoutput fra Python og indsætte i et verbatim miljø i LaTeX – det ser OK ud. Du skriver følgende i LaTeX:\n",
    "\n",
    "```LaTeX\n",
    "\\begin{verbatim}\n",
    "<Dit rå textoutput her>\n",
    "\\end{verbatim}\n",
    "```"
   ]
  }
 ],
 "metadata": {
  "kernelspec": {
   "display_name": "base",
   "language": "python",
   "name": "python3"
  },
  "language_info": {
   "codemirror_mode": {
    "name": "ipython",
    "version": 3
   },
   "file_extension": ".py",
   "mimetype": "text/x-python",
   "name": "python",
   "nbconvert_exporter": "python",
   "pygments_lexer": "ipython3",
   "version": "3.13.2"
  }
 },
 "nbformat": 4,
 "nbformat_minor": 2
}
