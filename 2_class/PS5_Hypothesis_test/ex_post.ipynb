{
 "cells": [
  {
   "cell_type": "code",
   "execution_count": 1,
   "metadata": {},
   "outputs": [],
   "source": [
    "import pandas as pd\n",
    "import numpy as np\n",
    "import statsmodels.api as sm"
   ]
  },
  {
   "cell_type": "markdown",
   "metadata": {},
   "source": [
    "# Fra strukturel model til økonometrisk analyse\n",
    "I dette problem set  skal vi arbejde med et eksempel på, hvordan man kan bruge  økonometriske værktøjer til empirisk at teste økonomisk teori. Konkret skal vi arbejde med en strukturel model, som beskriver optimal firmaadfærd når efterspørgslen kan påvirkes gennem reklame (annoncering) og prissætning.\n"
   ]
  },
  {
   "cell_type": "markdown",
   "metadata": {},
   "source": [
    "# Del 1: Teoretiske opgaver"
   ]
  },
  {
   "cell_type": "markdown",
   "metadata": {},
   "source": [
    "Nedenfor vil vi først beskrive en simpel strukturel model for, hvordan virksomheder sætter priser og vælger deres annoncebudget. Vi transformerer derefter modellen så vi opnår en lineær specifikation, således at modelparametrene kan estimeres empirisk ved hjælp af OLS. Vi formulerer herefter nogle nulhypoteser, således at vi kan teste den strukturelle models prædiktioner. Til sidst estimerer vi modellen empirisk (i del 2) og kigger på en udvidet model med flere annoncekategorier (i del 3)"
   ]
  },
  {
   "cell_type": "markdown",
   "metadata": {},
   "source": [
    "## 1.1: Efterspørgselsfunktionen\n",
    "Antag, at virksomhederne ved, at forbrugernes efterspørgsel efter virksomhedens varer er givet ved følgende multiplikative efterspørgselsfunktion med konstante elasticiteter (dvs. Cobb-Douglas form):\n",
    "\n",
    "\n",
    "$$ Q(P,A) = K P^{-\\beta} A^{\\gamma} \\varepsilon, \\tag{1}\n",
    " $$\n",
    "\n",
    "hvor:\n",
    "- $Q$ = Mængde efterspurgt  \n",
    "- $K$ = En konstant\n",
    "- $P$ = Virksomhedens pris\n",
    "- $A$ = Virksomhedens annonceforbrug  \n",
    "- $\\beta > 0$ = priselasticitet  \n",
    "- $\\gamma \\geq 0$ = annonceelasticitet  \n",
    "- $\\varepsilon$ = stokastisk efterspørgselsstød "
   ]
  },
  {
   "cell_type": "markdown",
   "metadata": {},
   "source": [
    "**Opgave 1.1:**\n",
    "\n",
    "Vis, at de marginale efterspørgselsfunktioner er\n",
    "\n",
    "\\begin{align*}\n",
    "\\frac{\\partial Q}{\\partial P} &= - \\frac{\\beta}{P} Q(P,A),\n",
    "\\\\\n",
    "\\frac{\\partial Q}{\\partial A} &= \\frac{\\gamma}{A} Q(P,A).\n",
    "\n",
    "\\end{align*}"
   ]
  },
  {
   "cell_type": "markdown",
   "metadata": {},
   "source": [
    "**Dit svar:** "
   ]
  },
  {
   "cell_type": "markdown",
   "metadata": {},
   "source": [
    "> Løses ved at differentiere efterspørgselsfunktionen (ligning 1) med hensyn til $P$ og $A$: \n",
    "> \n",
    ">\\begin{align*} \\frac {\\partial Q}{\\partial P} &= - \\beta K P^{-\\beta-1} A^\\gamma \\epsilon \\\\\n",
    "&= - \\frac{\\beta}{P}  K  P^{-\\beta}  A^\\gamma  \\epsilon \\\\\n",
    "&= - \\frac{\\beta}{P} Q(P,A)\n",
    "\\end{align*}\n",
    ">\n",
    ">\\begin{align*} \\frac {\\partial Q}{\\partial A} &= \\gamma  K  P^{-\\beta}  A^{\\gamma-1}  \\epsilon \\\\\n",
    "&= \\frac{\\gamma}{A}  K  P^{-\\beta}  A^\\gamma  \\epsilon \\\\\n",
    "&= \\frac{\\gamma}{A} Q(P,A)\n",
    "\\end{align*}"
   ]
  },
  {
   "cell_type": "markdown",
   "metadata": {},
   "source": [
    "Fortolk på fortegnene. Er de som du forventer?\n"
   ]
  },
  {
   "cell_type": "markdown",
   "metadata": {},
   "source": [
    "**Dit svar:** "
   ]
  },
  {
   "cell_type": "markdown",
   "metadata": {},
   "source": [
    "> Fortegnet til $\\frac{\\partial Q}{\\partial P}$ er negativt. Det betyder, at efterspørgslen falder, når prisen stiger. Altså er efterspørgselsfunktionen aftagende i prisen, hvilken er en standardantagelse (The Law of Demand).\n",
    ">\n",
    "> Fortegnet til $\\frac{\\partial Q}{\\partial A}$ er positivt. Altså stiger efterspørgslen når virksomhedens annonceforbrug stiger. Det er forventet, hvis vi tror på at reklame har en effekt."
   ]
  },
  {
   "cell_type": "markdown",
   "metadata": {},
   "source": [
    "---"
   ]
  },
  {
   "cell_type": "markdown",
   "metadata": {},
   "source": [
    "\n",
    "## 1.2. Profitmaksimering og Dorfman–Steiner reglen\n",
    "\n",
    "Firmaet vælger prisen $P$ og annoncebudgettet $A$ sådan at deres profit maksimeres. Profitfunktionen er:\n",
    "\n",
    "$$\n",
    "\\pi = P \\cdot Q(P,A) - c \\cdot Q(P,A) - A - F, \\tag{2}\n",
    "$$\n",
    "\n",
    "med marginalomkostninger $c$ og faste omkostninger $F$.\n",
    "\n",
    "\n",
    "**Opgave 1.2:**\n",
    "\n",
    "Vis, at profitmaksimering medfører førsteordensbetingelserne:\n",
    "\n",
    "1. **Prissætning (Lerner betingelsen):**\n",
    "$$\n",
    "\\frac{P-c}{P} = \\frac{1}{\\beta} \\equiv L, \\tag{3}\n",
    "$$\n",
    "\n",
    "2. **Annoncering (Dorfman–Steiner betingelsen):**\n",
    "$$\n",
    "\\frac{A}{P \\cdot Q} = \\gamma \\frac{P-c}{P} = \\gamma L. \\tag{4}\n",
    "$$"
   ]
  },
  {
   "cell_type": "markdown",
   "metadata": {},
   "source": [
    "(Hint: Brug produktreglen samt de marginale efterspørgselsfunktioner fra opgave 1 i din udledning)\n",
    "\n",
    "**Dit svar:** "
   ]
  },
  {
   "cell_type": "markdown",
   "metadata": {},
   "source": [
    "> For at få førsteordensbetingelse 1 skal vi differentiere profitfunktionen mht. $P$ og sætte lig med nul. Det gør vi nedenfor, hvor vi starter med at bruge produktreglen (linje 1), så faktoriserer vi (linje 2), indsætter vores resultat fra opgave 1 (linje 3), flytter lidt rundt og simplificerer (linje 4-6):\n",
    ">\n",
    "> \\begin{align*}\n",
    "\\frac{\\partial \\pi}{\\partial P} = 1 \\cdot Q(P,A) + P \\frac{\\partial Q}{\\partial P} - c \\frac{\\partial Q}{\\partial P}  &= 0 \\\\\n",
    "  Q(P,A) + (P - c) \\cdot \\frac{\\partial Q}{\\partial P}  &= 0 \\\\\n",
    "  Q(P,A) + (P - c) \\cdot \\left[- \\frac{\\beta}{P} Q(P,A) \\right]  &= 0 \\\\\n",
    "  Q(P,A) &= (P - c) \\cdot \\frac{\\beta}{P} Q(P,A)  \\\\\n",
    "  1 &= (P - c) \\cdot \\frac{\\beta}{P}\\\\\n",
    "  \\frac{1}{\\beta} &= \\frac{P - c}{P} \\\\ \n",
    "\\end{align*}\n",
    ">\n",
    ">Nu gør vi det samme for førsteordensbetingelse 2, hvor vi differentierer profitfunktionen mht. $A$ og sætter lig nul. I linje 2 faktoriserer vi, i linje 3 indsætter vi resultatet fra opg. 1, i linje 4-5 omrokerer vi og dividerer igennem med $P$ for at få det ønskede udtryk.\n",
    ">\n",
    ">\\begin{align*}\n",
    "\\frac{\\partial \\pi}{\\partial A} \n",
    "= P \\frac{\\partial Q}{\\partial A} - c \\frac{\\partial Q}{\\partial A} - 1  &= 0 \\\\\n",
    "(P-c) \\frac{\\partial Q}{\\partial A}  &= 1 \\\\\n",
    "(P-c) \\left[\\frac{\\gamma}{A} Q(P,A)\\right]   &= 1 \\\\\n",
    "(P-c) \\cdot \\gamma  &= \\frac{A}{Q(P,A)} \\\\\n",
    "\\gamma \\cdot \\frac{P-c}{P}   &= \\frac{A}{P \\cdot Q} \\\\\n",
    "\\end{align*}"
   ]
  },
  {
   "cell_type": "markdown",
   "metadata": {},
   "source": [
    "\n",
    "PS:\n",
    "$L \\equiv \\frac{1}{\\beta}$ kaldes Lerner indekset (eller markup'en). De udledte førsteordensbetingelser illustrerer den såkaldte **Dorfman–Steiner regel**: optimal annonceringsintensitet (dvs. annonceandelen af salget, venstresiden i ligning 4) er proportional med annonceelasticiteten $\\gamma$ og markup'en $L \\equiv \\frac{P-c}{P}$ (højresiden).\n"
   ]
  },
  {
   "cell_type": "markdown",
   "metadata": {},
   "source": [
    "---"
   ]
  },
  {
   "cell_type": "markdown",
   "metadata": {},
   "source": [
    "## 1.3. Fra teori til empirisk specifikation\n",
    "\n",
    "Vi ønsker empirisk at undersøge, om virksomhederne følger Dorfman-Steiner reglen; dvs. om virksomhedernes valg af priser og annoncebudgetter stemmer overens med de teoretiske forudsigelser om optimal profitmaksimerende adfærd.\n",
    "\n",
    "For at kunne bruge lineær regressionsanalyse skal vores model være lineær i parametrene. Det kan vi opnå ved at bruge logaritmetransformationen.\n"
   ]
  },
  {
   "cell_type": "markdown",
   "metadata": {},
   "source": [
    "\n",
    "**Opgave 1.3:** \n",
    "\n",
    "Vis, at vi ved at tage logaritmen i efterspørgselsfunktionen (ligning 1) og Dorfman-Steiner-betingelsen (ligning 4) kan få følgende lineære specifikationer: \n",
    "\n",
    "\n",
    "**Log efterspørgsel:**\n",
    "$$\n",
    "\\log Q = \\alpha - \\beta \\log P + \\gamma \\log A + u, \\tag{5}\n",
    "$$\n",
    "hvor $u \\equiv \\log \\varepsilon$ og $\\alpha \\equiv \\log K$\n",
    "\n",
    "og \n",
    "\n",
    "**Log Dorfman-Steiner:**\n",
    "$$\n",
    "\\log \\left(\\frac{A}{P \\cdot Q} \\right) = \\delta + \\log L. \\tag{6}\n",
    "$$\n",
    "\n",
    "hvor $ \\delta \\equiv \\log \\gamma $ og $L = \\frac{P-C}{P}$\n"
   ]
  },
  {
   "cell_type": "markdown",
   "metadata": {},
   "source": [
    "**Dit svar:** "
   ]
  },
  {
   "cell_type": "markdown",
   "metadata": {},
   "source": [
    "> Vi tager først logaritmen af efterspørgselsfunktionen fra ligning 1 og husker vores logaritmeregneregler:\n",
    "> \\begin{align*} \n",
    "\\log Q(P,A) &= \\log \\left[  K \\cdot P^{-\\beta} \\cdot A^\\gamma \\cdot \\varepsilon  \\right] \\\\\n",
    "            &= \\log K + \\log \\left (P^{-\\beta} \\right) + \\log \\left(A^\\gamma \\right) + \\log \\varepsilon \\\\\n",
    "            &= \\alpha -\\beta \\log P + \\gamma \\log A + u \\\\\n",
    "\\end{align*}\n",
    "> hvor vi har defineret $u \\equiv \\log \\varepsilon$ og $\\alpha \\equiv \\log K$.\n",
    ">\n",
    "> Vi tager nu logaritmen af Dorfman-Steiner betingelsen i ligning 4:\n",
    "> \\begin{align*}\n",
    "\\log \\left(\\frac{A}{P \\cdot Q} \\right) \n",
    "&= \\log \\left(\\gamma \\cdot \\frac{P-c}{P} \\right) \\\\\n",
    "&= \\log \\gamma + \\log \\frac{P-c}{P} \\\\\n",
    "&= \\delta + \\log L \\\\\n",
    "\\end{align*}\n",
    "> hvor vi har defineret $ \\delta \\equiv \\log \\gamma $, og hvor vi har brugt prissætningsbetingelsen fra ligning 3:  $L \\equiv \\frac{1}{\\beta} =  \\frac{P-C}{P}$."
   ]
  },
  {
   "cell_type": "markdown",
   "metadata": {},
   "source": [
    "---"
   ]
  },
  {
   "cell_type": "markdown",
   "metadata": {},
   "source": [
    "## 1.4. Nul- og alternativhypoteser "
   ]
  },
  {
   "cell_type": "markdown",
   "metadata": {},
   "source": [
    "Antag, at du har et datasæt til rådighed, hvor vi observerer $N$ virksomheder der hver sælger et enkelt produkt. For hver virksomhed $i$ observeres virksomhedens solgte mængde $Q_i$, pris $P_i$, annoncebudget $A_i$ og marginalomkostninger $c_i$. Med udgangspunkt i de lineære specifikationer i ligning (5) og (6) vil det da være muligt at estimere parametrene $\\alpha$, $\\beta$, $\\gamma$, $\\delta$ og $\\theta$ i følgende regressionsspecifikationer"
   ]
  },
  {
   "cell_type": "markdown",
   "metadata": {},
   "source": [
    "\\begin{align*}\n",
    "\\log Q_i &= \\alpha + \\eta \\log P_i + \\gamma \\log A_i + u_i \\tag{7} \\\\\n",
    "\\log Adv\\_share_i &= \\delta + \\theta \\log L_i + \\epsilon_i \\tag{8}\n",
    "\\end{align*}\n",
    "\n",
    "hvor: \n",
    "- $\\eta \\equiv -\\beta$\n",
    "- $Adv\\_share_i \\equiv  \\left(\\frac{A_i}{P_i Q_i} \\right)$\n",
    "- $L_i = \\frac{P_i - c_i}{P_i}$"
   ]
  },
  {
   "cell_type": "markdown",
   "metadata": {},
   "source": [
    "**Opgave 1.4a:**\n",
    "\n",
    "Hvordan kan du teste Dorfman-Steiner hypotesen? Er der en parameterrestriktion på $\\theta$, som kan hjælpe os med at teste om firmaernes adfærd stemmer overens med teorien? Formulér formelt den relevante nul- og alternativhypotese."
   ]
  },
  {
   "cell_type": "markdown",
   "metadata": {},
   "source": [
    "**Dit svar:**"
   ]
  },
  {
   "cell_type": "markdown",
   "metadata": {},
   "source": [
    ">\n",
    "> Hvis Dorfman-Steiner betingelsen skal være overholdt, skal følgende nulhypotese holde:\n",
    ">\n",
    "> \\begin{align*} H_0: \\theta &= 1. \\quad H_A: \\theta \\neq 1\n",
    ">\\end{align*}\n",
    ">\n",
    "> Betingelsen er nødvendig for at ligning 8 stemmer overens med ligning 6 (Tjek dette og vær sikker på, at du kan se sammenhængen!)\n",
    "> Hvis $\\theta$ er større end 1, så har markup'en større indflydelse på annoncebudgettet end hvad er optimalt - og vice versa hvis $\\theta$ er mindre end 1."
   ]
  },
  {
   "cell_type": "markdown",
   "metadata": {},
   "source": [
    "**Opgave 1.4b:**\n",
    "\n",
    "Vi kan også bruge datasættet og vores lineære specifikationer til at teste andre, simplere hypoteser. Lad os eksempelvis antage, at prisen er ligegyldig for efterspørgslen. Hvad er den relevante nul- og alternativhypotese da? Og hvad er den relevante nul- og alternativhypotese for, at annoncering er ligegyldig for efterspørgslen?\n",
    "\n"
   ]
  },
  {
   "cell_type": "markdown",
   "metadata": {},
   "source": [
    ">\n",
    "> Pris:\n",
    ">\n",
    "> \\begin{align*} H_0: \\eta &= 0. \\quad H_A: \\eta \\neq 0\n",
    "> \\end{align*}\n",
    ">  \n",
    "> Annoncering:\n",
    "> \\begin{align*} H_0: \\gamma &= 0. \\quad H_A: \\gamma \\neq 0\n",
    ">\\end{align*}\n",
    "> Det følger direkte af ligning 7 at hvis $\\eta = 0$, så har prisen ingen indflydelse på efterspørgslen. Tilsvarende, hvis $\\gamma = 0$, så har annoncering ingen indflydelse på efterspørgslen.\n"
   ]
  },
  {
   "cell_type": "markdown",
   "metadata": {},
   "source": [
    "## Del 2: Regressionsanalyse i Python"
   ]
  },
  {
   "cell_type": "markdown",
   "metadata": {},
   "source": [
    "Vi skal nu teste, om de teoretiske forudsigelser understøttes af empirien. Til det formål anvender vi datasættet `advertising.dta`. \n",
    "\n",
    "Bemærk at der er tale om simuleret data, og at der derfor **ikke** kan drages konklusioner om faktisk firmaadfærd på baggrund af analysen.\n",
    "\n",
    "Datasættet rummer 500 observationer af virksomheders salg, priser, marginalomkostninger og annoncebudgetter. Variablene er defineret således:\n",
    "\n",
    "| Variabel       | Beskrivelse                                                                 |\n",
    "|----------------|-----------------------------------------------------------------------------|\n",
    "| `sales`        | Antallet af solgte enheder                                                  |\n",
    "| `price`        | Virksomhedens valgte enhedspris                                             |\n",
    "| `costs`        | Marginalomkostningerne                                                      |\n",
    "| `adv`          | Det totale annoncebudget                                                    |\n",
    "| `adv_trad`     | Annoncebudgettet til traditionelle kanaler (avis, TV, radio etc.)           |\n",
    "| `adv_infl`     | Annoncebudgettet til influencer-markedsføring                               |\n",
    "| `adv_podcasts` | Annoncebudgettet til podcast-reklamer                                       |"
   ]
  },
  {
   "cell_type": "markdown",
   "metadata": {},
   "source": [
    "**Opgave 2.1**\n",
    "\n",
    "Indlæs datasættet og estimer først den simple specifikation\n",
    "\n",
    "$$\\log Q_i = \\alpha + \\eta \\log P_i + u_i$$\n",
    "\n",
    "Sammenlign specifikationen med ligning 7. Hvad har vi implicit antaget om $\\gamma$ (dvs. effekten af annoncering)? \n",
    "\n",
    "Rapporter og fortolk parameterestimaterne, standardfejlene og konfidensintervallerne for $\\eta$ og $\\gamma$.\n",
    "\n",
    "_Hint:_ Husk at tilføje et konstantled.\n",
    "\n",
    "_Hint:_ Husk at du skal logaritmetransformere dine variable med `np.log()`"
   ]
  },
  {
   "cell_type": "markdown",
   "metadata": {},
   "source": [
    "**Din kode:**"
   ]
  },
  {
   "cell_type": "code",
   "execution_count": 2,
   "metadata": {},
   "outputs": [
    {
     "name": "stdout",
     "output_type": "stream",
     "text": [
      "                            OLS Regression Results                            \n",
      "==============================================================================\n",
      "Dep. Variable:                  log_Q   R-squared:                       0.452\n",
      "Model:                            OLS   Adj. R-squared:                  0.451\n",
      "Method:                 Least Squares   F-statistic:                     410.9\n",
      "Date:                Fri, 26 Sep 2025   Prob (F-statistic):           4.58e-67\n",
      "Time:                        13:42:36   Log-Likelihood:                -256.73\n",
      "No. Observations:                 500   AIC:                             517.5\n",
      "Df Residuals:                     498   BIC:                             525.9\n",
      "Df Model:                           1                                         \n",
      "Covariance Type:            nonrobust                                         \n",
      "==============================================================================\n",
      "                 coef    std err          t      P>|t|      [0.025      0.975]\n",
      "------------------------------------------------------------------------------\n",
      "const          9.5901      0.295     32.458      0.000       9.010      10.171\n",
      "log_P         -1.8286      0.090    -20.271      0.000      -2.006      -1.651\n",
      "==============================================================================\n",
      "Omnibus:                      412.836   Durbin-Watson:                   1.967\n",
      "Prob(Omnibus):                  0.000   Jarque-Bera (JB):             7449.462\n",
      "Skew:                           3.603   Prob(JB):                         0.00\n",
      "Kurtosis:                      20.483   Cond. No.                         58.4\n",
      "==============================================================================\n",
      "\n",
      "Notes:\n",
      "[1] Standard Errors assume that the covariance matrix of the errors is correctly specified.\n"
     ]
    }
   ],
   "source": [
    "# Indlæs datasættet\n",
    "df = pd.read_stata('advertising.dta')\n",
    "\n",
    "# Tilføj et konstantled\n",
    "df['const'] = 1\n",
    "\n",
    "# Transformer dine variable\n",
    "df['log_Q'] = np.log(df.sales)\n",
    "df['log_P'] = np.log(df.price)\n",
    "df['log_A'] = np.log(df.adv)\n",
    "df['log_c'] = np.log(df.costs)\n",
    "\n",
    "# Estimer med OLS (brug enten statsmodels, din egen implementation af OLS eller kode fra forelæsningen).\n",
    "y = df['log_Q']\n",
    "X = df[['const', 'log_P']]\n",
    "\n",
    "model21 = sm.OLS(y, X)\n",
    "results21 = model21.fit()\n",
    "print(results21.summary())"
   ]
  },
  {
   "cell_type": "markdown",
   "metadata": {},
   "source": [
    "**Dit svar:** (Fortolk dine resultater)"
   ]
  },
  {
   "cell_type": "markdown",
   "metadata": {},
   "source": [
    "> - Ved at udelade annoncering antager vi implicit, at $\\gamma = 0$; altså at annoncering ikke har nogen indflydelse på efterspørgslen.\n",
    "> - Fortegnet af den estimerede priselasticitet stemmer overens med teorien. Når prisen stiger, falder efterspørslen. Størrelsen på estimatet indikerer, at efterspørgslen er meget elastisk. Når prisen stiger med 1%, falder efterspørgslen med -1.83% ifølge modellen. Standardfejlen er ikke synderligt stor, og konfidensintervallet indikerer, at estimatet med 95% sikkerhed ligger mellem -2.0 og -1.65."
   ]
  },
  {
   "cell_type": "markdown",
   "metadata": {},
   "source": [
    "---"
   ]
  },
  {
   "cell_type": "markdown",
   "metadata": {},
   "source": [
    "**Opgave 2.2**\n",
    "\n",
    "Estimer nu den fulde specifikation fra ligning 7, hvor vi medtager effekten af annoncering:\n",
    "\n",
    "$$\\log Q_i = \\alpha + \\eta \\log P_i + \\gamma \\log A_i + u_i$$\n",
    "\n",
    "Rapporter og fortolk parameterestimaterne, standardfejlene og konfidensintervallerne for $\\eta$ og $\\gamma$. Sammenlign estimatet af priselasticiteten med resultatet fra forrige opgave.\n"
   ]
  },
  {
   "cell_type": "markdown",
   "metadata": {},
   "source": [
    "**Din kode:** "
   ]
  },
  {
   "cell_type": "code",
   "execution_count": 3,
   "metadata": {},
   "outputs": [
    {
     "name": "stdout",
     "output_type": "stream",
     "text": [
      "                            OLS Regression Results                            \n",
      "==============================================================================\n",
      "Dep. Variable:                  log_Q   R-squared:                       0.468\n",
      "Model:                            OLS   Adj. R-squared:                  0.466\n",
      "Method:                 Least Squares   F-statistic:                     218.9\n",
      "Date:                Fri, 26 Sep 2025   Prob (F-statistic):           6.74e-69\n",
      "Time:                        13:42:36   Log-Likelihood:                -249.23\n",
      "No. Observations:                 500   AIC:                             504.5\n",
      "Df Residuals:                     497   BIC:                             517.1\n",
      "Df Model:                           2                                         \n",
      "Covariance Type:            nonrobust                                         \n",
      "==============================================================================\n",
      "                 coef    std err          t      P>|t|      [0.025      0.975]\n",
      "------------------------------------------------------------------------------\n",
      "const          6.4874      0.849      7.642      0.000       4.819       8.155\n",
      "log_P         -1.5661      0.112    -14.031      0.000      -1.785      -1.347\n",
      "log_A          0.4057      0.104      3.891      0.000       0.201       0.610\n",
      "==============================================================================\n",
      "Omnibus:                      411.765   Durbin-Watson:                   1.975\n",
      "Prob(Omnibus):                  0.000   Jarque-Bera (JB):             7326.755\n",
      "Skew:                           3.596   Prob(JB):                         0.00\n",
      "Kurtosis:                      20.320   Cond. No.                         313.\n",
      "==============================================================================\n",
      "\n",
      "Notes:\n",
      "[1] Standard Errors assume that the covariance matrix of the errors is correctly specified.\n"
     ]
    }
   ],
   "source": [
    "y = df['log_Q']\n",
    "X = df[['const', 'log_P', 'log_A']]\n",
    "\n",
    "model22 = sm.OLS(y, X)\n",
    "results22 = model22.fit()\n",
    "print(results22.summary())"
   ]
  },
  {
   "cell_type": "markdown",
   "metadata": {},
   "source": [
    "**Dit svar:** (Fortolk dine resultater)"
   ]
  },
  {
   "cell_type": "markdown",
   "metadata": {},
   "source": [
    "> - Punktestimatet af priselasticiteten $\\hat \\eta$ er faldet sammenlignet med den første specifikation. Det indikerer, at vi altså overvurderede priseffekten før vi tog højde for annonceeffekten (omitted variable bias). Priselasticiteten estimeres dog stadig til at være ret høj.\n",
    "> - Estimatet af annonceelasticiteten $\\hat \\gamma$ er positiv og signifikant forskelligt fra 0. Annoncering har altså en signifikant effekt på efterspørgslen. Dog er den absolutte størrelse af priselasticiteten meget højere end annonceelasticiteten ifølge vores estimater.\n"
   ]
  },
  {
   "cell_type": "markdown",
   "metadata": {},
   "source": [
    "---"
   ]
  },
  {
   "cell_type": "markdown",
   "metadata": {},
   "source": [
    "**Opgave 2.3**\n",
    "Vi skal nu undersøge, om virksomhederne overholder Dorfman-Steiner betingelsen for profitmaksimering under annoncering.\n",
    "\n",
    "Konstruer først de to variable $Adv\\_share_i \\equiv  \\left(\\frac{A_i}{P_i Q_i} \\right)$ og $L_i = \\frac{P_i - C_i}{P_i}$.\n",
    "\n",
    "Estimer herefter ligning 8 med OLS (husk, at du igen skal bruge en log-transformation):\n",
    "\n",
    "$$\n",
    "\\log Adv\\_share_i = \\delta + \\theta \\log L_i + \\epsilon_i\n",
    "$$\n",
    "\n",
    "Rapporter og fortolk parameterestimaterne, standardfejlene og konfidensintervallerne $\\delta$ og $\\theta$.\n",
    "\n",
    "Test formelt din nulhypotese fra opgave 1.4 vedr. Dorfman-Steiner hypotesen. Hvilket test skal du bruge? (_Hint:_ Der er tale om en enkelt parameterrestriktion). Hvad er resultatet af dit test?"
   ]
  },
  {
   "cell_type": "markdown",
   "metadata": {},
   "source": [
    "**Din kode:**"
   ]
  },
  {
   "cell_type": "code",
   "execution_count": 4,
   "metadata": {},
   "outputs": [
    {
     "name": "stdout",
     "output_type": "stream",
     "text": [
      "                            OLS Regression Results                            \n",
      "==============================================================================\n",
      "Dep. Variable:          log_adv_share   R-squared:                       0.022\n",
      "Model:                            OLS   Adj. R-squared:                  0.020\n",
      "Method:                 Least Squares   F-statistic:                     11.38\n",
      "Date:                Fri, 26 Sep 2025   Prob (F-statistic):           0.000799\n",
      "Time:                        13:42:36   Log-Likelihood:                -261.38\n",
      "No. Observations:                 500   AIC:                             526.8\n",
      "Df Residuals:                     498   BIC:                             535.2\n",
      "Df Model:                           1                                         \n",
      "Covariance Type:            nonrobust                                         \n",
      "==============================================================================\n",
      "                 coef    std err          t      P>|t|      [0.025      0.975]\n",
      "------------------------------------------------------------------------------\n",
      "const         -0.7707      0.172     -4.482      0.000      -1.109      -0.433\n",
      "log_L          1.2214      0.362      3.374      0.001       0.510       1.933\n",
      "==============================================================================\n",
      "Omnibus:                      366.605   Durbin-Watson:                   1.964\n",
      "Prob(Omnibus):                  0.000   Jarque-Bera (JB):             5000.298\n",
      "Skew:                          -3.134   Prob(JB):                         0.00\n",
      "Kurtosis:                      17.168   Cond. No.                         24.2\n",
      "==============================================================================\n",
      "\n",
      "Notes:\n",
      "[1] Standard Errors assume that the covariance matrix of the errors is correctly specified.\n"
     ]
    }
   ],
   "source": [
    "df[\"adv_share\"] = df.adv/(df.price * df.sales) # Udfyld\n",
    "df[\"L\"] = (df.price - df.costs) / df.price # Udfyld\n",
    "df['log_adv_share'] = np.log(df.adv_share)\n",
    "df['log_L'] = np.log(df.L)\n",
    "\n",
    "# Estimer med OLS (brug enten statsmodels, din egen implementation af OLS eller kode fra forelæsningen).\n",
    "y = df['log_adv_share']\n",
    "X = df[['const', 'log_L']]\n",
    "model23 = sm.OLS(y, X)\n",
    "results23 = model23.fit()\n",
    "print(results23.summary())"
   ]
  },
  {
   "cell_type": "code",
   "execution_count": 5,
   "metadata": {},
   "outputs": [
    {
     "name": "stdout",
     "output_type": "stream",
     "text": [
      "beta1hat = 1.221\n",
      "std_error = 0.362\n",
      "hypothesis = 1.000\n",
      "ttest = 0.612\n",
      "crit = 1.965\n",
      "reject = np.False_\n"
     ]
    }
   ],
   "source": [
    "# Test Dorfman-Steiner hypotesen\n",
    "\n",
    "# Do it manually using the t-test formula (See the slides from lecture 4 or check Wooldridge sec 4-2):\n",
    "beta1hat = results23.params.iloc[1]    # beta1hat\n",
    "std_error = results23.bse.iloc[1]      # standard error of beta1hat\n",
    "hypothesis = 1                       # hypothesized true value of theta\n",
    "\n",
    "print(f\"{beta1hat = :.3f}\")\n",
    "print(f\"{std_error = :.3f}\")\n",
    "print(f\"{hypothesis = :.3f}\")\n",
    "\n",
    "ttest = (beta1hat - hypothesis) / std_error\n",
    "print(f\"{ttest = :.3f}\")\n",
    "\n",
    "# Critical value:\n",
    "from scipy import stats\n",
    "deg_f = model23.df_resid               # degrees of freedom\n",
    "alpha = 0.05                         # Confidence level\n",
    "crit = stats.t.ppf(1-alpha/2, deg_f) # Two-tailed test\n",
    "\n",
    "print(f'{crit = :.3f}')\n",
    "\n",
    "reject = ttest > crit\n",
    "print(f'{reject = }')\n"
   ]
  },
  {
   "cell_type": "code",
   "execution_count": 6,
   "metadata": {},
   "outputs": [
    {
     "name": "stdout",
     "output_type": "stream",
     "text": [
      "                             Test for Constraints                             \n",
      "==============================================================================\n",
      "                 coef    std err          t      P>|t|      [0.025      0.975]\n",
      "------------------------------------------------------------------------------\n",
      "c0             1.2214      0.362      0.612      0.541       0.510       1.933\n",
      "==============================================================================\n"
     ]
    }
   ],
   "source": [
    "# Or do it with statsmodels:\n",
    "hypothesis = \"log_L = 1\"\n",
    "ttest = results23.t_test(hypothesis)\n",
    "\n",
    "print(ttest)\n"
   ]
  },
  {
   "cell_type": "markdown",
   "metadata": {},
   "source": [
    "**Dit svar:** (Fortolk dine resultater)"
   ]
  },
  {
   "cell_type": "markdown",
   "metadata": {},
   "source": [
    "> Vores punktestimat er $\\hat \\theta = 1.2214$. Punktestimatet er større end den teoretiske forudsigelse $\\theta = 1$. Tager vi punktestimatet for gode varer, så lægger virksomhederne for stor vægt på deres markup, når de fastsætter deres annoncebudgetter, og der vil være rum for at optimere profitten ved at mindske denne følsomhed. Dog er standardfejlen meget stor;  vores 95% konfidensinterval spænder fra 0.510 til 1.933.\n",
    ">\n",
    "> Hvis Dorfman-Steiner betingelsen skal være overholdt, skal den sande populationsparameter være $\\theta = 1$. Vi tester derfor, hvorvidt vi kan afvise nulhypotesen $\\theta = 1$. Da der er tale om en enkelt parameterrestriktion anvender vi et $t$-test.\n",
    "> Vi beregner t-teststatistikken til at være $|t| = 0.612$. Dette overstiger ikke den kritiske værdi, som er $\\approx 1.96$. Vi kan derfor ikke forkaste nulhypotesen."
   ]
  },
  {
   "cell_type": "markdown",
   "metadata": {},
   "source": [
    "## Del 3: Flere annoncekategorier\n",
    "Betragt nu følgende udvidede teoretiske model, hvor der indgår $m$ annoncekategorier (fx TV, bannerannoncer, influencers, avisreklamer, busreklamer, radio, podcasts, sponsorering af sportshold osv.). Hver kategori $j \\in \\{1,2,...,m\\}$ har sit eget annoncebudget $A_j$ og sin egen annonceelasticitet $\\gamma_j$. Under antagelse af, at annoncekategorierne er multiplikative komplementer, får vi følgende efterspørgselsfunktion:\n",
    "\n",
    "\\begin{align*}\n",
    "Q(P,A_1, A_2, ..., A_m) &= K P^{-\\beta} A_1^{\\gamma_1} A_2^{\\gamma_2} \\cdots A_m^{\\gamma_m}  \\varepsilon \\\\\n",
    "                        &= K P^{-\\beta} \\prod_{j=1}^m A_j^{\\gamma_i}  \\varepsilon \\tag{9}\n",
    "\\end{align*}\n",
    "\n",
    "mens profitfunktionen er\n",
    "\n",
    "\\begin{align*}\n",
    "\\pi &= P Q - c Q - A_1 - A_2 - ... - A_m - F \\\\\n",
    "    &= P Q - c Q - \\sum_{j=1}^m A_j - F \\tag{10}\n",
    "\\end{align*}\n",
    "\n",
    "hvor $Q = Q(P, A_1, A_2, ..., A_m)$."
   ]
  },
  {
   "cell_type": "markdown",
   "metadata": {},
   "source": [
    "Profitmaksimering medfører samme førsteordensbetingelser som i opgave 1.2, blot hører der nu en Dorfman-Steiner betingelse til hver af de $m$ annoncekategorier på formen:\n",
    "\n",
    "$$\n",
    "\\frac{A_j}{P \\cdot Q} = \\gamma_j  \\frac{P-c}{P} = \\gamma_j  L, \\quad \\forall j \\leq m\n",
    "$$\n",
    "\n",
    "(Vis evt. selv dette; brug samme fremgangsmåde som i opgave 1.2, men profitmaksimer blot mht. $P$ og $A_j$)."
   ]
  },
  {
   "cell_type": "markdown",
   "metadata": {},
   "source": [
    "**Opgave 3.1**"
   ]
  },
  {
   "cell_type": "markdown",
   "metadata": {},
   "source": [
    "Vores datasæt rummer tre variable, som angiver annoncebudgettet fordelt på specifikke kategorier. Estimer med udgangspunkt i ligning (5) følgende lineære specifikation:"
   ]
  },
  {
   "cell_type": "markdown",
   "metadata": {},
   "source": [
    "\n",
    "$$\n",
    "\\log Q_i = \\alpha + \\eta \\log P_i + \\gamma_1 \\log A_{1i} + \\gamma_2 \\log A_{2i} + \\gamma_3 \\log A_{3i} + u_i \\tag{11}\n",
    "$$ \n",
    "\n",
    "hvor\n",
    "- $A_1$ er annonceforbrug på traditionelle markedsføringskanaler (_adv\\_trad_)\n",
    "- $A_2$ er annonceforbrug på influencers (_adv\\_infl_)\n",
    "- $A_3$ er annonceforbrug på podcasts (_adv\\_podcasts_)\n",
    "\n",
    "Rapporter og fortolk dine resultater. "
   ]
  },
  {
   "cell_type": "markdown",
   "metadata": {},
   "source": [
    "**Din kode**"
   ]
  },
  {
   "cell_type": "code",
   "execution_count": 7,
   "metadata": {},
   "outputs": [
    {
     "name": "stdout",
     "output_type": "stream",
     "text": [
      "                            OLS Regression Results                            \n",
      "==============================================================================\n",
      "Dep. Variable:                  log_Q   R-squared:                       0.465\n",
      "Model:                            OLS   Adj. R-squared:                  0.461\n",
      "Method:                 Least Squares   F-statistic:                     107.6\n",
      "Date:                Fri, 26 Sep 2025   Prob (F-statistic):           6.43e-66\n",
      "Time:                        13:42:36   Log-Likelihood:                -250.72\n",
      "No. Observations:                 500   AIC:                             511.4\n",
      "Df Residuals:                     495   BIC:                             532.5\n",
      "Df Model:                           4                                         \n",
      "Covariance Type:            nonrobust                                         \n",
      "==============================================================================\n",
      "                 coef    std err          t      P>|t|      [0.025      0.975]\n",
      "------------------------------------------------------------------------------\n",
      "const          7.5282      0.668     11.266      0.000       6.215       8.841\n",
      "log_P         -1.6216      0.108    -15.066      0.000      -1.833      -1.410\n",
      "log_A1         0.0553      0.026      2.090      0.037       0.003       0.107\n",
      "log_A2         0.2130      0.065      3.272      0.001       0.085       0.341\n",
      "log_A3         0.0361      0.030      1.189      0.235      -0.024       0.096\n",
      "==============================================================================\n",
      "Omnibus:                      408.636   Durbin-Watson:                   1.971\n",
      "Prob(Omnibus):                  0.000   Jarque-Bera (JB):             7116.969\n",
      "Skew:                           3.564   Prob(JB):                         0.00\n",
      "Kurtosis:                      20.053   Cond. No.                         293.\n",
      "==============================================================================\n",
      "\n",
      "Notes:\n",
      "[1] Standard Errors assume that the covariance matrix of the errors is correctly specified.\n"
     ]
    }
   ],
   "source": [
    "df['log_A1'] = np.log(df.adv_trad)\n",
    "df['log_A2'] = np.log(df.adv_infl)\n",
    "df['log_A3'] = np.log(df.adv_podcasts)\n",
    "\n",
    "y = df.log_Q\n",
    "X = df[['const', 'log_P', 'log_A1', 'log_A2', 'log_A3']]\n",
    "\n",
    "model31 = sm.OLS(y,X)\n",
    "results31 = model31.fit()\n",
    "\n",
    "print(results31.summary())"
   ]
  },
  {
   "cell_type": "markdown",
   "metadata": {},
   "source": [
    "**Dit svar** (Fortolk dine resultater)"
   ]
  },
  {
   "cell_type": "markdown",
   "metadata": {},
   "source": [
    "> Koefficienten til $\\log A_2$ (influencers) er størst. Det peger på, at influencermarkedsføring er mere effektivt end traditionelle kanaler og podcasts. Traditionelle kanaler er har en statistisk signifikant – men måske økonomisk insignifikant – effekt på efterspørgslen, mens effekten af podcastmarkedsføring ikke er statistisk signifikant ifl. modellen."
   ]
  },
  {
   "cell_type": "markdown",
   "metadata": {},
   "source": [
    "---"
   ]
  },
  {
   "cell_type": "markdown",
   "metadata": {},
   "source": [
    "Vi skal nu bruge et F-test til at undersøge hypotesen\n",
    "\n",
    "\\begin{align*}\n",
    "H_0: &\\quad \\gamma_1 = \\gamma_2 = \\gamma_3 \\\\\n",
    "\\iff & \\quad \\gamma_1 - \\gamma_2 = 0 \\land \\gamma_2 - \\gamma_3 = 0 \\\\ \\\\\n",
    "H_A: &\\quad \\gamma_1 - \\gamma_2 \\neq 0 \\lor \\gamma_2 - \\gamma_3 \\neq 0\n",
    "\n",
    "\\end{align*}"
   ]
  },
  {
   "cell_type": "markdown",
   "metadata": {},
   "source": [
    "**Opgave 3.2a**\n",
    "Hvad er den økonomiske fortolkning af denne hypotese?\n"
   ]
  },
  {
   "cell_type": "markdown",
   "metadata": {},
   "source": [
    "**Dit svar**"
   ]
  },
  {
   "cell_type": "markdown",
   "metadata": {},
   "source": [
    "> Hvis nulhypotesen er sand, så er annonceelasticiteten for de tre annoncekategorier den samme; altså er der ingen forskel i effektiviteten af de tre kategorier."
   ]
  },
  {
   "cell_type": "markdown",
   "metadata": {},
   "source": [
    "For at beregne F-test-statistikken skal vi estimere en urestrikteret model og en restrikteret model. \n",
    "\n",
    "_Den urestrikterede model_ har vi estimeret ovenfor i opgave 3.1. Denne model er urestrikteret, fordi vi her estimerer $\\gamma_1, \\gamma_2$ og $\\gamma_3$ separat og altså tillader, at parameterne varierer frit. \n",
    "\n",
    "Udfordringen er at estimere _den restrikterede model_. Det kræver en omformulering af vores regressionsspecifikation."
   ]
  },
  {
   "cell_type": "markdown",
   "metadata": {},
   "source": [
    "**Opgave 3.2b**\n",
    "Vis, at vi under nulhypotesen kan omskrive ligning 11 til følgende lineære form:\n",
    "$$\n",
    "\\log Q_i = \\alpha + \\eta \\log P_i + \\gamma_1 (\\log A_{1i} + \\log A_{2i} + \\log A_{3i}) + u_i \\tag{12}\n",
    "$$ "
   ]
  },
  {
   "cell_type": "markdown",
   "metadata": {},
   "source": [
    "**Dit Svar:**"
   ]
  },
  {
   "cell_type": "markdown",
   "metadata": {},
   "source": [
    "> Vi starter med ligning 11, og bruger nulhypotesen $\\gamma_1 = \\gamma_2 = \\gamma_3$ til at substituere $\\gamma_1$ ind på $\\gamma_2$ og $\\gamma_3$'s pladser: \n",
    ">\n",
    ">\\begin{align*}\n",
    "\\log Q_i &= \\alpha + \\eta \\log P_i + \\gamma_1 \\log A_{1i} + \\gamma_2 \\log A_{2i} + \\gamma_3 \\log A_{3i} + u_i \\\\\n",
    " &= \\alpha + \\eta \\log P_i + \\gamma_1 \\log A_{1i} + \\gamma_1 \\log A_{2i} + \\gamma_1 \\log A_{3i} + u_i\n",
    "\\end{align*}\n",
    ">\n",
    ">Nu kan vi faktorisere for at få det ønskede udtryk i ligning 12:\n",
    ">\n",
    ">\\begin{align*}\n",
    "\\log Q_i &= \\alpha + \\eta \\log P_i + \\gamma_1 (\\log A_{1i} + \\log A_{2i} + \\log A_{3i}) + u_i\n",
    "\\end{align*}\n"
   ]
  },
  {
   "cell_type": "markdown",
   "metadata": {},
   "source": [
    "**Opgave 3.2c** Konstruer variablen $(\\log A_{1i} + \\log A_{2i} + \\log A_{3i})$ og estimér den restrikterede model i ligning 12 med OLS"
   ]
  },
  {
   "cell_type": "code",
   "execution_count": 8,
   "metadata": {},
   "outputs": [
    {
     "name": "stdout",
     "output_type": "stream",
     "text": [
      "                            OLS Regression Results                            \n",
      "==============================================================================\n",
      "Dep. Variable:                  log_Q   R-squared:                       0.455\n",
      "Model:                            OLS   Adj. R-squared:                  0.453\n",
      "Method:                 Least Squares   F-statistic:                     207.9\n",
      "Date:                Fri, 26 Sep 2025   Prob (F-statistic):           2.49e-66\n",
      "Time:                        13:42:36   Log-Likelihood:                -255.18\n",
      "No. Observations:                 500   AIC:                             516.4\n",
      "Df Residuals:                     497   BIC:                             529.0\n",
      "Df Model:                           2                                         \n",
      "Covariance Type:            nonrobust                                         \n",
      "==============================================================================\n",
      "                 coef    std err          t      P>|t|      [0.025      0.975]\n",
      "------------------------------------------------------------------------------\n",
      "const          9.0069      0.444     20.303      0.000       8.135       9.878\n",
      "log_P         -1.7658      0.097    -18.238      0.000      -1.956      -1.576\n",
      "log_Aj_sum     0.0324      0.018      1.760      0.079      -0.004       0.069\n",
      "==============================================================================\n",
      "Omnibus:                      417.136   Durbin-Watson:                   1.969\n",
      "Prob(Omnibus):                  0.000   Jarque-Bera (JB):             7744.830\n",
      "Skew:                           3.648   Prob(JB):                         0.00\n",
      "Kurtosis:                      20.847   Cond. No.                         305.\n",
      "==============================================================================\n",
      "\n",
      "Notes:\n",
      "[1] Standard Errors assume that the covariance matrix of the errors is correctly specified.\n"
     ]
    }
   ],
   "source": [
    "df['log_Aj_sum'] = df.log_A1 + df.log_A2 + df.log_A3\n",
    "\n",
    "y = df.log_Q\n",
    "X = df[['const', 'log_P', 'log_Aj_sum']]\n",
    "\n",
    "model32 = sm.OLS(y, X)\n",
    "results32 = model32.fit()\n",
    "\n",
    "print(results32.summary())"
   ]
  },
  {
   "cell_type": "markdown",
   "metadata": {},
   "source": [
    "**Opgave 3.2d** Udfør nu dit F-test ved at bruge formlen:\n",
    "\n",
    "1. **F-statistik**:\n",
    "   $$\n",
    "   F = \\frac{(RSS_r - RSS_{ur}) / q}{RSS_{ur} / (n - k_{ur})} \\sim F(q, n - k_{ur})\n",
    "   $$\n",
    "   hvor:\n",
    "   - $RSS_r$: RSS for den restrikterede model\n",
    "   - $RSS_{ur}$: RSS for den fulde model\n",
    "   - $q$: antal restriktioner\n",
    "   - $n$: antal observationer\n",
    "   - $k_{ur}$: antal parametre i den urestrikterede model, inklusive konstantledet\n",
    "2. **P-værdi**:\n",
    "   P-værdien beregnes som:\n",
    "   $$\n",
    "   p = 1 - F_{\\text{cdf}}(F_{\\text{stat}}, q, n - k_{ur})\n",
    "   $$\n",
    "   hvor $F_{\\text{cdf}}$ er kumulativ fordelingsfunktion for F-fordelingen, og $F_{\\text{stat}}$ er den beregnede F-statistik.\n",
    "\n",
    "- _Hint_: Der er $q=2$ lineære restriktioner, hvilket kan ses af omformuleringen af nul- og alternativhypotesen over opgave 3.2a\n",
    "- _Hint_: Hvis du bruger statsmodels, kan du tilgå RRS i dit modelresultat-objekt med kommandoen `results.ssr`\n",
    "- _Hint_: Du kan finde $F_{\\text{cdf}} ( F_\\text{stat}, q, n - k_{ur})$ med følgende kode:\n",
    "```py\n",
    "from scipy import stats\n",
    "stats.f.cdf(F_stat, q, n - k_ur)\n",
    "```"
   ]
  },
  {
   "cell_type": "markdown",
   "metadata": {},
   "source": [
    "**Din kode:** "
   ]
  },
  {
   "cell_type": "code",
   "execution_count": 9,
   "metadata": {},
   "outputs": [
    {
     "name": "stdout",
     "output_type": "stream",
     "text": [
      "F_stat = 4.4555\n",
      "p = 0.0121\n"
     ]
    }
   ],
   "source": [
    "RSSr = results32.ssr\n",
    "RSSur = results31.ssr\n",
    "q = 2\n",
    "n = 500\n",
    "k_ur = 5\n",
    "\n",
    "F_stat = ((RSSr - RSSur)/q)  /  ((RSSur)/(n-k_ur))\n",
    "\n",
    "from scipy import stats\n",
    "p = 1 - stats.f.cdf(F_stat, q, n-k_ur)\n",
    "\n",
    "print(f'{F_stat = :.4f}')\n",
    "print(f'{p = :.4f}')"
   ]
  },
  {
   "cell_type": "code",
   "execution_count": 10,
   "metadata": {},
   "outputs": [
    {
     "name": "stdout",
     "output_type": "stream",
     "text": [
      "<F test: F=4.455535975174263, p=0.012083598588868575, df_denom=495, df_num=2>\n"
     ]
    }
   ],
   "source": [
    "# The entire F-test can also be calculated in one step using statsmodels:\n",
    "\n",
    "hypotheses = 'log_A1 = log_A2 = log_A3'\n",
    "ftest = results31.f_test(hypotheses)\n",
    "\n",
    "print(ftest)"
   ]
  },
  {
   "cell_type": "markdown",
   "metadata": {},
   "source": [
    "**Opgave 3.2e** Fortolk dine resultater. Kan vi afvise nulhypotesen eller ej? Hvad er den økonomiske fortolkning?"
   ]
  },
  {
   "cell_type": "markdown",
   "metadata": {},
   "source": [
    "**Dit svar:**"
   ]
  },
  {
   "cell_type": "markdown",
   "metadata": {},
   "source": [
    "> $p$-værdien er $0.01208$, hvilket betyder at udfaldet er mindre end 5% sandsynligt under nulhypotesen. Altså forkaster vi nulhypotesen på et 5% konfidensniveau.\n",
    ">\n",
    "> Den økonomiske implikation er, at annonceelasticiteten ikke lader til at være den samme på tværs af de tre annoncekategorier. Det betyder, at virksomhederne ikke bør spendere det samme på hver kategori, men snarere bør fordele deres annoncebudget under hensyntagen til de enkelte elasticiteter for at maksimere deres profit."
   ]
  },
  {
   "cell_type": "markdown",
   "metadata": {},
   "source": [
    "(Det bemærkes for en god ordens skyld igen, at der er tale om simuleret data, og at der derfor ikke kan drages konklusioner om faktisk firmaadfærd eller efterspørgsel på baggrund den empiriske analyse i disse øvelser)."
   ]
  },
  {
   "cell_type": "markdown",
   "metadata": {},
   "source": [
    "---"
   ]
  },
  {
   "cell_type": "markdown",
   "metadata": {},
   "source": [
    "#### Bonusopgave\n",
    "I denne opgave vil du lære hvordan du let kan eksportere output fra statsmodels og fra pandas DataFrames til LaTeX, sådan at du kan bruge output fra Python i pæne tabeller, der er korrekt sat op i dine afleveringsopgaver.\n",
    "\n",
    "\n",
    "- Brug denne kommando i Python til at printe dit regression summary som LaTeX kode:\n",
    "```py\n",
    "print(results.summary().as_latex())\n",
    "```\n",
    "\n",
    "- Opret et LaTeX-dokument (fx i Overleaf).\n",
    "\n",
    "- Kopier koden ind i dit LaTeX dokument og se, hvordan tabellen ser ud.\n",
    "\n",
    "Tilsvarende kan du konvertere ethvert Pandas DataFrame (fx deskriptiv statistik) til LaTeX med metoden `.to_latex()`. Bemærk at navngivningen af de to metoder er lidt forskellig i statsmodels og i pandas.\n",
    "\n",
    "Prøv fx at køre koden:\n",
    "```py\n",
    "print(df.describe().to_latex())\n",
    "```\n",
    "\n",
    "*Tip:* Hvis du vil afrunde dit LaTeX output til fx to decimaler, kan du bruge argumentet `float_format=\"%.2f\"` i `.to_latex()` metoden\n",
    "\n",
    "*Tip:* Din tabel bliver automatisk flottere i LaTeX hvis du importerer LaTeX-pakken booktabs:\n",
    "```\\usepackage{booktabs}```"
   ]
  },
  {
   "cell_type": "markdown",
   "metadata": {},
   "source": [
    "**Din kode:**"
   ]
  },
  {
   "cell_type": "code",
   "execution_count": null,
   "metadata": {},
   "outputs": [],
   "source": []
  },
  {
   "cell_type": "markdown",
   "metadata": {},
   "source": [
    "Du vil måske opleve, at det kræver lidt mere arbejde at få tabellen til at se godt ud i LaTeX. Blandt andet fordi statsmodels faktisk spytter flere tabeller af forskellig størrelse ud, når man printer et summary.\n",
    "\n",
    "Du kan bede statsmodels om at printe tabellerne enkeltvist sådan her her. Så kan du fx vælge kun at bruge tabellen der indeholder koefficientestimaterne.\n",
    "\n",
    "```py\n",
    "print(results.summary().tables[0])\n",
    "print(results.summary().tables[1])\n",
    "print(results.summary().tables[2])\n",
    "```\n",
    "\n",
    "**Sidste tip til de \"dovne\":** Hvis du har travlt og ikke har lyst til at rode med at sætte LaTeX-tabellerne pænt op, kan du også bare kopiere de rå tekstoutput fra Python og indsætte i et verbatim miljø i LaTeX – det ser OK ud. Du skriver følgende i LaTeX:\n",
    "\n",
    "```LaTeX\n",
    "\\begin{verbatim}\n",
    "<Dit rå textoutput her>\n",
    "\\end{verbatim}\n",
    "```"
   ]
  }
 ],
 "metadata": {
  "kernelspec": {
   "display_name": "base",
   "language": "python",
   "name": "python3"
  },
  "language_info": {
   "codemirror_mode": {
    "name": "ipython",
    "version": 3
   },
   "file_extension": ".py",
   "mimetype": "text/x-python",
   "name": "python",
   "nbconvert_exporter": "python",
   "pygments_lexer": "ipython3",
   "version": "3.13.5"
  }
 },
 "nbformat": 4,
 "nbformat_minor": 2
}
