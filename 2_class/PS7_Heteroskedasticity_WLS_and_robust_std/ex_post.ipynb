{
 "cells": [
  {
   "cell_type": "code",
   "execution_count": null,
   "metadata": {},
   "outputs": [],
   "source": [
    "import numpy as np\n",
    "import pandas as pd\n",
    "import statsmodels.formula.api as smf\n",
    "import seaborn as sns\n"
   ]
  },
  {
   "cell_type": "markdown",
   "metadata": {},
   "source": [
    "# Økonometri A\n"
   ]
  },
  {
   "cell_type": "markdown",
   "metadata": {},
   "source": [
    "\n",
    "## Problem Set 7\n"
   ]
  },
  {
   "cell_type": "markdown",
   "metadata": {},
   "source": [
    "\n",
    "### Hedonic price regressions\n"
   ]
  },
  {
   "cell_type": "markdown",
   "metadata": {},
   "source": [
    "\n",
    "In this problem set, we examine if there is heteroskedasticity in the hedonic price model and implement methods to correct for it. If heteroskedasticity is present, the variance of the error terms is different across observations and conventional $t$ and $F$ tests are invalid.\n",
    "\n",
    "For the analysis, we use graphical and formal tests of heteroskedasticity and implement the method of Weighted Least Squares (WLS) that estimates the model parameters efficiently.\n",
    "\n",
    "In problem set 6, one of the hedonic price models we worked with was:\n",
    "\n",
    "$$\n",
    "\\log(\\text{price}_i) = \\beta_0 + \\delta_1 \\text{KbhK}_i + \\delta_2 \\text{KbhN}_i + \\delta_3 \\text{KbhV}_i + \\beta_1 \\text{m2}_i + \\beta_2 \\text{m2}^2_i + \\beta_3 \\text{rooms}_i + \\beta_4 \\text{toilets}_i + u_i \\tag{1}\n",
    "$$\n",
    "\n",
    "We will examine a modified version of the model, where the dependent variable is price measured in DKK (without taking the log):\n",
    "\n",
    "$$\n",
    "\\text{price}_i = \\beta_0 + \\delta_1 \\text{KbhK}_i + \\delta_2 \\text{KbhN}_i + \\delta_3 \\text{KbhV}_i + \\beta_1 \\text{m2}_i + \\beta_2 \\text{m2}^2_i + \\beta_3 \\text{rooms}_i + \\beta_4 \\text{toilets}_i + u_i \\tag{2}\n",
    "$$\n",
    "\n",
    "The problem of heteroskedasticity may in some cases be reduced — and even removed — by taking the log of the dependent variable. This was one motivation for estimating model (1) in the previous problem set. In problem set 7, we start by analyzing model (2) to see if it indeed suffers from heteroskedasticity.\n"
   ]
  },
  {
   "cell_type": "markdown",
   "metadata": {},
   "source": [
    "\n",
    "### Group work\n"
   ]
  },
  {
   "cell_type": "markdown",
   "metadata": {},
   "source": [
    "\n",
    "Discuss the following questions in groups.\n"
   ]
  },
  {
   "cell_type": "markdown",
   "metadata": {},
   "source": [
    "\n",
    "#### Task 1. \n",
    "\n",
    "Suppose that assumption MLR.5 **does not** hold for model (2). What does this mean for the properties of the OLS estimator?\n"
   ]
  },
  {
   "cell_type": "markdown",
   "metadata": {},
   "source": [
    "**Your answer:**"
   ]
  },
  {
   "cell_type": "markdown",
   "metadata": {},
   "source": [
    "> OLS estimatoren er middelret og konsistent under MLR.1–MLR.4, men den estimerede kovarians-matrix for modellens parametre er ikke længere gyldig. Det indebærer at $t$ og $F$ tests ikke længere er $t$ og $F$ fordelt, hvorfor standard hypotesetests ikke kan bruges. Endvidere er OLS ikke længere BLUE — der findes andre lineære middelrette estimatorer med mindre varians (større efficiens).\n"
   ]
  },
  {
   "cell_type": "markdown",
   "metadata": {},
   "source": [
    "\n",
    "#### Task 2. \n",
    "Suppose that apartment size, $m2_i$, affects the variance of the error term and is thus a relevant scale variable driving the heteroskedasticity. Provide an economic argument for why the variance of the error terms may depend on apartment size. Explain how it is possible for the error terms to satisfy MLR.4, but not MLR.5.\n"
   ]
  },
  {
   "cell_type": "markdown",
   "metadata": {},
   "source": [
    "**Your answer:**"
   ]
  },
  {
   "cell_type": "markdown",
   "metadata": {},
   "source": [
    "> Man forestiller sig, at større lejligheder er udsat for større usikkerhed, når prisen skal bestemmes. Fx kan efterspørgslen være mere volatil for store lejligheder, hvilket kan medføre heteroskedastiske fejlled. Det hænger tæt sammen med begrebet \"tynde\" markeder, som er karakteriseret ved få markedstransaktioner, der gør det svært at sige, hvad den rette ligevægtspris er. At fejlleddet opfylder MLR.4, men ikke MLR.5, betyder at fejlleddet i gennemsnit er nul, men det har forskellig varians på tværs af observationerne."
   ]
  },
  {
   "cell_type": "markdown",
   "metadata": {},
   "source": [
    "\n",
    "#### Task 3. \n",
    "Write down an expression for the conditional variance of $u_i$ for the case where the variance of the error term is exactly proportional to $m2_i$. How can the WLS estimator be implemented in this case?\n"
   ]
  },
  {
   "cell_type": "markdown",
   "metadata": {},
   "source": [
    "**Your answer:**"
   ]
  },
  {
   "cell_type": "markdown",
   "metadata": {},
   "source": [
    "> Hvis variansen på fejlleddet er ligefrem proportional med $m2$, så gælder der at $\\text{Var}(u_i|X)=\\sigma^2 \\text{m2}_i$. I Wooldridge's notation er $h_i=\\text{m2}_i$, og WLS estimatoren kan implementeres ved at transformere alle variable. Specifikt divideres alle variable med kvadratroden af $h_i$. Fx $\\text{price}_i^*=\\frac{\\text{price}_i}{\\sqrt{h_i}}$. Denne transformation sikrer at fejlleddet i den transformerede model er homoskedastisk (givet at specifikationen af $h_i$ er korrekt).\n"
   ]
  },
  {
   "cell_type": "markdown",
   "metadata": {},
   "source": [
    "\n",
    "### Python exercises\n"
   ]
  },
  {
   "cell_type": "markdown",
   "metadata": {},
   "source": [
    "\n",
    "#### Task 1. \n",
    "Estimate model (2) by OLS using `PS7.dta`: \n",
    "\n",
    "$$\n",
    "\\text{price}_i = \\beta_0 + \\delta_1 \\text{KbhK}_i + \\delta_2 \\text{KbhN}_i + \\delta_3 \\text{KbhV}_i + \\beta_1 \\text{m2}_i + \\beta_2 \\text{m2}^2_i + \\beta_3 \\text{rooms}_i + \\beta_4 \\text{toilets}_i + u_i \\tag{2}\n",
    "$$\n",
    "\n",
    "For ease of interpretation, rescale sales prices to prices in DKK-mio. Calculate the residuals, $\\hat{u}_i$, and the predicted apartment prices, $\\hat{\\text{price}}_i$.\n",
    "\n"
   ]
  },
  {
   "cell_type": "markdown",
   "metadata": {},
   "source": [
    "_Hint:_ If you use statsmodels to estimate your model, you can access the residuals using the `.resid` property of your OLS results object. Similiarly, you can access the predicted outcome values using the `.fittedvalues` property."
   ]
  },
  {
   "cell_type": "markdown",
   "metadata": {},
   "source": [
    "**Your code:**"
   ]
  },
  {
   "cell_type": "code",
   "execution_count": null,
   "metadata": {},
   "outputs": [
    {
     "name": "stdout",
     "output_type": "stream",
     "text": [
      "                            OLS Regression Results                            \n",
      "==============================================================================\n",
      "Dep. Variable:                  price   R-squared:                       0.666\n",
      "Model:                            OLS   Adj. R-squared:                  0.664\n",
      "Method:                 Least Squares   F-statistic:                     279.5\n",
      "Date:                Fri, 11 Oct 2024   Prob (F-statistic):          1.67e-228\n",
      "Time:                        08:46:17   Log-Likelihood:                -850.60\n",
      "No. Observations:                 988   AIC:                             1717.\n",
      "Df Residuals:                     980   BIC:                             1756.\n",
      "Df Model:                           7                                         \n",
      "Covariance Type:            nonrobust                                         \n",
      "==============================================================================\n",
      "                 coef    std err          t      P>|t|      [0.025      0.975]\n",
      "------------------------------------------------------------------------------\n",
      "Intercept      0.6558      0.093      7.074      0.000       0.474       0.838\n",
      "KbhK           0.1790      0.049      3.688      0.000       0.084       0.274\n",
      "KbhN          -0.2542      0.049     -5.169      0.000      -0.351      -0.158\n",
      "KbhV          -0.0935      0.057     -1.642      0.101      -0.205       0.018\n",
      "m2             0.0200      0.001     20.626      0.000       0.018       0.022\n",
      "m2sq           0.0184      0.003      7.070      0.000       0.013       0.024\n",
      "rooms         -0.0269      0.029     -0.938      0.349      -0.083       0.029\n",
      "toilets       -0.0858      0.087     -0.984      0.326      -0.257       0.085\n",
      "==============================================================================\n",
      "Omnibus:                      128.835   Durbin-Watson:                   2.084\n",
      "Prob(Omnibus):                  0.000   Jarque-Bera (JB):              774.130\n",
      "Skew:                           0.416   Prob(JB):                    7.94e-169\n",
      "Kurtosis:                       7.256   Cond. No.                         612.\n",
      "==============================================================================\n",
      "\n",
      "Notes:\n",
      "[1] Standard Errors assume that the covariance matrix of the errors is correctly specified.\n"
     ]
    }
   ],
   "source": [
    "df = pd.read_stata('PS7.dta')\n",
    "\n",
    "df['price'] /= 1_000_000 # Divide price by 1 mio. The underscores are simply thousands separators and are ignored by Python.\n",
    "df['m2sq'] = df.m2**2 / 1000  # scale by 1000 to make results more readable\n",
    "df['KbhK'] = (df.location == 'KBH K').astype(int)\n",
    "df['KbhN'] = (df.location == 'KBH N').astype(int)\n",
    "df['KbhV'] = (df.location == 'KBH V').astype(int)\n",
    "\n",
    "formula = 'price ~ KbhK + KbhN + KbhV + m2 + m2sq + rooms + toilets'\n",
    "results = smf.ols(formula, data=df).fit()\n",
    "print(results.summary())\n",
    "\n",
    "# Save residuals and fitted values\n",
    "df['uhat'] = results.resid\n",
    "df['uhat2'] = df['uhat'] ** 2\n",
    "df['yhat'] = results.fittedvalues\n"
   ]
  },
  {
   "cell_type": "markdown",
   "metadata": {},
   "source": [
    "\n",
    "\n",
    "\n",
    "#### Task 2.\n",
    "Make scatter plots of $\\hat{u}_i$ and $\\hat{u}_i^2$ against $\\hat{\\text{price}}_i$ and $m2$ as a graphical test of heteroskedasticity. You should produce 4 plots in total.\n"
   ]
  },
  {
   "cell_type": "code",
   "execution_count": null,
   "metadata": {},
   "outputs": [
    {
     "data": {
      "image/png": "[encoded data removed]",
      "text/plain": [
       "<Figure size 640x480 with 1 Axes>"
      ]
     },
     "metadata": {},
     "output_type": "display_data"
    }
   ],
   "source": [
    "# u hat vs price\n",
    "sns.scatterplot(x='yhat', y='uhat', data=df);"
   ]
  },
  {
   "cell_type": "code",
   "execution_count": null,
   "metadata": {},
   "outputs": [
    {
     "data": {
      "image/png": "[encoded data removed]",
      "text/plain": [
       "<Figure size 640x480 with 1 Axes>"
      ]
     },
     "metadata": {},
     "output_type": "display_data"
    }
   ],
   "source": [
    "# u_hat^2 vs price\n",
    "sns.scatterplot(x='yhat', y='uhat2', data=df);"
   ]
  },
  {
   "cell_type": "code",
   "execution_count": null,
   "metadata": {},
   "outputs": [
    {
     "data": {
      "image/png": "[encoded data removed]",
      "text/plain": [
       "<Figure size 640x480 with 1 Axes>"
      ]
     },
     "metadata": {},
     "output_type": "display_data"
    }
   ],
   "source": [
    "# u_hat vs m2\n",
    "sns.scatterplot(x='m2', y='uhat', data=df);\n"
   ]
  },
  {
   "cell_type": "code",
   "execution_count": null,
   "metadata": {},
   "outputs": [
    {
     "data": {
      "image/png": "[encoded data removed]",
      "text/plain": [
       "<Figure size 640x480 with 1 Axes>"
      ]
     },
     "metadata": {},
     "output_type": "display_data"
    }
   ],
   "source": [
    "# u_hat^2 vs m2\n",
    "sns.scatterplot(x='m2', y='uhat2', data=df);\n"
   ]
  },
  {
   "cell_type": "markdown",
   "metadata": {},
   "source": [
    "Do the graphs suggest that heteroskedasticity is present? If yes, what type of heteroskedasticity do you find?"
   ]
  },
  {
   "cell_type": "markdown",
   "metadata": {},
   "source": [
    "**Your answer**"
   ]
  },
  {
   "cell_type": "markdown",
   "metadata": {},
   "source": [
    "> Graferne viser indikationer af heteroskedasticitet, omend der ikke er et klart mønster i data."
   ]
  },
  {
   "cell_type": "markdown",
   "metadata": {},
   "source": [
    "\n",
    "#### Task 3.\n",
    "Perform the Breusch-Pagan test for heteroskedasticity by regressing $\\hat{u}_i^2$ against the right-hand side variables of model (2). Write up the null and alternative hypotheses. Calculate both the $F$ and $LM$ test statistics. Are there signs of heteroskedasticity?\n"
   ]
  },
  {
   "cell_type": "markdown",
   "metadata": {},
   "source": [
    "**Your code:**"
   ]
  },
  {
   "cell_type": "code",
   "execution_count": null,
   "metadata": {},
   "outputs": [
    {
     "name": "stdout",
     "output_type": "stream",
     "text": [
      "                            OLS Regression Results                            \n",
      "==============================================================================\n",
      "Dep. Variable:                  uhat2   R-squared:                       0.098\n",
      "Model:                            OLS   Adj. R-squared:                  0.091\n",
      "Method:                 Least Squares   F-statistic:                     15.16\n",
      "Date:                Fri, 11 Oct 2024   Prob (F-statistic):           6.58e-19\n",
      "Time:                        08:46:17   Log-Likelihood:                -1154.2\n",
      "No. Observations:                 988   AIC:                             2324.\n",
      "Df Residuals:                     980   BIC:                             2364.\n",
      "Df Model:                           7                                         \n",
      "Covariance Type:            nonrobust                                         \n",
      "==============================================================================\n",
      "                 coef    std err          t      P>|t|      [0.025      0.975]\n",
      "------------------------------------------------------------------------------\n",
      "Intercept     -0.0469      0.126     -0.372      0.710      -0.294       0.201\n",
      "KbhK           0.1303      0.066      1.974      0.049       0.001       0.260\n",
      "KbhN          -0.0120      0.067     -0.180      0.857      -0.143       0.119\n",
      "KbhV           0.0557      0.077      0.720      0.472      -0.096       0.208\n",
      "m2             0.0074      0.001      5.602      0.000       0.005       0.010\n",
      "m2sq           0.0125      0.004      3.533      0.000       0.006       0.019\n",
      "rooms         -0.0766      0.039     -1.962      0.050      -0.153    2.17e-05\n",
      "toilets       -0.1478      0.119     -1.245      0.213      -0.381       0.085\n",
      "==============================================================================\n",
      "Omnibus:                     1182.283   Durbin-Watson:                   1.994\n",
      "Prob(Omnibus):                  0.000   Jarque-Bera (JB):           126046.333\n",
      "Skew:                           6.040   Prob(JB):                         0.00\n",
      "Kurtosis:                      56.999   Cond. No.                         612.\n",
      "==============================================================================\n",
      "\n",
      "Notes:\n",
      "[1] Standard Errors assume that the covariance matrix of the errors is correctly specified.\n"
     ]
    }
   ],
   "source": [
    "# Regresser u_hat^2 på højresiden af model (2)\n",
    "formula = 'uhat2 ~ KbhK + KbhN + KbhV + m2 + m2sq + rooms + toilets'\n",
    "results = smf.ols(formula, data=df).fit()\n",
    "print(results.summary())"
   ]
  },
  {
   "cell_type": "code",
   "execution_count": null,
   "metadata": {},
   "outputs": [
    {
     "name": "stdout",
     "output_type": "stream",
     "text": [
      "n: 988, R2: 0.09773153045407212, LM: 96.55875208862327, crit: 14.067140449340167\n"
     ]
    }
   ],
   "source": [
    "# Beregn LM-test\n",
    "# Vi kan beregne teststatistikken for LM-testen ved at tage antallet af observationer og gange med R^2 fra regressionsoutputtet.\n",
    "n = len(df) \n",
    "R2 = results.rsquared\n",
    "LM = n * R2 \n",
    "\n",
    "# Sammenlign med kritisk værdi fra chi2 fordeling\n",
    "from scipy  import stats \n",
    "crit = stats.chi2.ppf(0.95, 7) # 7 restriktioner (de syv forklarende variable er lig nul under nulhypotesen)\n",
    "\n",
    "# Print resultat\n",
    "print(f'n: {n}, R2: {R2}, LM: {LM}, crit: {crit}')\n",
    "\n"
   ]
  },
  {
   "cell_type": "code",
   "execution_count": null,
   "metadata": {},
   "outputs": [
    {
     "name": "stdout",
     "output_type": "stream",
     "text": [
      "F: 15.1645, F_p: 0.0000\n"
     ]
    }
   ],
   "source": [
    "# Beregn F-test\n",
    "# F-teststatistikken og den tilhørende p-værdi for nulhypotesen at hele højresiden er lig nul kan aflæses direkte i regressionsoutputtet, eller vi kan tilgå værdierne med følgende kode:\n",
    "F = results.fvalue\n",
    "F_p = results.f_pvalue \n",
    "\n",
    "# Print resultat\n",
    "print(f'F: {F:.4f}, F_p: {F_p:.4f}')\n",
    "\n",
    "# Tip: Herover bruger jeg .4f for at formatere outputtet til at vise 4 decimaler. Det er en smart funktion når man bruger f-strings."
   ]
  },
  {
   "cell_type": "markdown",
   "metadata": {},
   "source": [
    "**Your answer:**"
   ]
  },
  {
   "cell_type": "markdown",
   "metadata": {},
   "source": [
    "> Nulhypotesen er at fejlleddet i model (2) er homoskedastisk. Det betyder, at de kvadrerede residualer fra OLS regressionen er ukorrelerede med enhver funktion af de forklarende variable. Finder vi at de forklarende variable kan forklare noget af variationen i $\\widehat{u}_{i}$, vil vi forkaste nulhypotesen om homoskedasticitet.\n",
    "> \n",
    "> $LM$-testet beregnes her til $LM=988\\times 0.0977 = 96.55$. Den kritiske værdi er lig 95th percentilen i $\\chi^2$-fordeling med 7 frihedsgrader og beregnes vha. Scipy til 14.07. Ergo afvises nulhypotesen om homoskedasticitet.\n",
    "> \n",
    "> Dette underbygges at $F$-testet for hjælperegressions samlede signifikans, som beregnes til 15.16 med tilhørende p-value = 0.000.\n"
   ]
  },
  {
   "cell_type": "markdown",
   "metadata": {},
   "source": [
    "\n",
    "\n",
    "#### Task 4.\n",
    "Perform a specific Breusch-Pagan test for heteroskedasticity assuming that apartment size is the most likely cause of heteroskedasticity. Perform the test by regressing $\\hat{u}_i^2$ against $m2$ and a constant. Write up the null and alternative hypotheses. Calculate a relevant test statistic. What do you conclude?\n"
   ]
  },
  {
   "cell_type": "markdown",
   "metadata": {},
   "source": [
    "**Your code:**"
   ]
  },
  {
   "cell_type": "code",
   "execution_count": null,
   "metadata": {},
   "outputs": [
    {
     "name": "stdout",
     "output_type": "stream",
     "text": [
      "                            OLS Regression Results                            \n",
      "==============================================================================\n",
      "Dep. Variable:                  uhat2   R-squared:                       0.075\n",
      "Model:                            OLS   Adj. R-squared:                  0.074\n",
      "Method:                 Least Squares   F-statistic:                     79.38\n",
      "Date:                Fri, 11 Oct 2024   Prob (F-statistic):           2.42e-18\n",
      "Time:                        08:46:17   Log-Likelihood:                -1166.8\n",
      "No. Observations:                 988   AIC:                             2338.\n",
      "Df Residuals:                     986   BIC:                             2347.\n",
      "Df Model:                           1                                         \n",
      "Covariance Type:            nonrobust                                         \n",
      "==============================================================================\n",
      "                 coef    std err          t      P>|t|      [0.025      0.975]\n",
      "------------------------------------------------------------------------------\n",
      "Intercept     -0.1835      0.063     -2.931      0.003      -0.306      -0.061\n",
      "m2             0.0061      0.001      8.910      0.000       0.005       0.007\n",
      "==============================================================================\n",
      "Omnibus:                     1207.203   Durbin-Watson:                   1.986\n",
      "Prob(Omnibus):                  0.000   Jarque-Bera (JB):           136631.714\n",
      "Skew:                           6.252   Prob(JB):                         0.00\n",
      "Kurtosis:                      59.237   Cond. No.                         229.\n",
      "==============================================================================\n",
      "\n",
      "Notes:\n",
      "[1] Standard Errors assume that the covariance matrix of the errors is correctly specified.\n"
     ]
    }
   ],
   "source": [
    "# Regresser u_hat^2 på m2 og aflæs t-værdi\n",
    "results2 = smf.ols('uhat2 ~ m2', data=df).fit()\n",
    "print(results2.summary())"
   ]
  },
  {
   "cell_type": "markdown",
   "metadata": {},
   "source": [
    "**Your answer:**"
   ]
  },
  {
   "cell_type": "markdown",
   "metadata": {},
   "source": [
    "> Nulhypotesen er som før. Nu testes blot om de kvadrerede residualer kan forklares af lejlighedens størrelse. Testet udføres som et $t$-test og aflæses af regressionsoutputtet til 8.910, hvorfor nulhypotesen om homoskedasticitet igen afvises. Det ses at koefficienten til $m2$ estimeres til at være positiv, hvorfor $h_i$ her er voksende i $m2$."
   ]
  },
  {
   "cell_type": "markdown",
   "metadata": {},
   "source": [
    "\n",
    "\n",
    "#### Task 5.\n",
    "Suppose that the variance of the error term in model (2) is:\n",
    "\n",
    "$$\n",
    "\\text{Var}(u_i | X) = \\sigma^2 h(X) = \\sigma^2 m2_i\n",
    "$$\n",
    "\n",
    "where $h(X) = m2_i$. Does this type of heteroskedasticity correspond to your previous finding? Estimate model (2) using the Weighted Least Squares (WLS) estimator.\n",
    "\n",
    "Make sure you understand both the hint below before you proceed.\n",
    "\n"
   ]
  },
  {
   "cell_type": "markdown",
   "metadata": {},
   "source": [
    "\n",
    "_Hint:_ \n",
    "\n",
    "You can use the built-in `.wls()` function in statsmodels to estimate the model with the WLS estimator. If you named your dataframe `df` and your squared m2 `m2sq`, you can use the code:\n",
    "\n",
    "```py\n",
    "smf.wls('price ~ C(location) + m2 + m2sq + rooms + toilets', weights=1/df.m2, data=df)\n",
    "```\n",
    "Note that statsmodels' weight-option defines weights, $w$, that are equivalent to the inverse of Wooldridge's $h$-function. That is, $w=1/h$.\n"
   ]
  },
  {
   "cell_type": "markdown",
   "metadata": {},
   "source": [
    "\n",
    "Compare the WLS estimates with the OLS estimates from question 1. Which set of estimates is consistent? Which set of estimates is efficient (meaning having the smallest variance)?\n"
   ]
  },
  {
   "cell_type": "markdown",
   "metadata": {},
   "source": [
    "**Your code:**"
   ]
  },
  {
   "cell_type": "code",
   "execution_count": null,
   "metadata": {},
   "outputs": [
    {
     "name": "stdout",
     "output_type": "stream",
     "text": [
      "                            WLS Regression Results                            \n",
      "==============================================================================\n",
      "Dep. Variable:                  price   R-squared:                       0.657\n",
      "Model:                            WLS   Adj. R-squared:                  0.655\n",
      "Method:                 Least Squares   F-statistic:                     268.1\n",
      "Date:                Fri, 11 Oct 2024   Prob (F-statistic):          1.18e-222\n",
      "Time:                        08:46:17   Log-Likelihood:                -754.00\n",
      "No. Observations:                 988   AIC:                             1524.\n",
      "Df Residuals:                     980   BIC:                             1563.\n",
      "Df Model:                           7                                         \n",
      "Covariance Type:            nonrobust                                         \n",
      "==============================================================================\n",
      "                 coef    std err          t      P>|t|      [0.025      0.975]\n",
      "------------------------------------------------------------------------------\n",
      "Intercept      0.5380      0.106      5.094      0.000       0.331       0.745\n",
      "KbhK           0.1838      0.044      4.208      0.000       0.098       0.269\n",
      "KbhN          -0.2069      0.041     -4.995      0.000      -0.288      -0.126\n",
      "KbhV          -0.0702      0.051     -1.389      0.165      -0.169       0.029\n",
      "m2             0.0204      0.001     19.164      0.000       0.018       0.022\n",
      "m2sq           0.0198      0.004      5.467      0.000       0.013       0.027\n",
      "rooms          0.0044      0.028      0.159      0.874      -0.050       0.059\n",
      "toilets       -0.1101      0.104     -1.059      0.290      -0.314       0.094\n",
      "==============================================================================\n",
      "Omnibus:                      128.401   Durbin-Watson:                   2.107\n",
      "Prob(Omnibus):                  0.000   Jarque-Bera (JB):              540.932\n",
      "Skew:                           0.540   Prob(JB):                    3.45e-118\n",
      "Kurtosis:                       6.460   Cond. No.                         700.\n",
      "==============================================================================\n",
      "\n",
      "Notes:\n",
      "[1] Standard Errors assume that the covariance matrix of the errors is correctly specified.\n"
     ]
    }
   ],
   "source": [
    "model = smf.wls('price ~ KbhK + KbhN + KbhV + m2 + m2sq + rooms + toilets', weights=1/df.m2, data=df)\n",
    "results = model.fit()\n",
    "print(results.summary())"
   ]
  },
  {
   "cell_type": "markdown",
   "metadata": {},
   "source": [
    "**Your answer:**"
   ]
  },
  {
   "cell_type": "markdown",
   "metadata": {},
   "source": [
    "> Antagelsen om at variansen på fejlleddet er ligefrem proportional med $m2$ stemmer overens med resultatet i Task 4. WLS resultaterne er præsenteret ovenfor\n"
   ]
  },
  {
   "cell_type": "markdown",
   "metadata": {},
   "source": [
    "\n",
    "\n",
    "#### Task 6.\n",
    "Calculate the WLS estimates manually by dividing all the variables in model (2) by $\\sqrt{h(X)} = \\sqrt{m2_i}$. \n",
    "\n",
    "Make sure you understand both hints below before you proceed.\n"
   ]
  },
  {
   "cell_type": "markdown",
   "metadata": {},
   "source": [
    "\n",
    "_Hint 1:_\n",
    "\n",
    "First of all, we need to manually generate the location dummy variables (we can't use statsmodels' built-in method to generate dummies as previously when we need the transformed versions)\n",
    "\n",
    "```py\n",
    "df['KbhK'] = (df.location == 'KBH K')\n",
    "df['KbhN'] = (df.location == 'KBH N')\n",
    "df['KbhV'] = (df.location == 'KBH V')\n",
    "```\n",
    "\n",
    "Now, to divide all the variables in model (2) by $\\sqrt{m2_i}$, you can use this code:\n",
    "\n",
    "```py\n",
    "df['w'] = 1/np.sqrt(df.m2) # add the weights as a variable to the dataframe\n",
    "vars = ['price', 'KbhN', 'KbhO', 'KbhV', \n",
    "        'm2', 'm2sq', 'rooms', 'toilets'] # list of variables to be transformed\n",
    "\n",
    "for var in vars:\n",
    "    df[f'{var}star'] = df[var] * df.w # Multiply each variable in the list by the weight\n",
    "```\n",
    "\n",
    "You can now compute the WLS estimate using OLS with the transformed variables."
   ]
  },
  {
   "cell_type": "markdown",
   "metadata": {},
   "source": [
    "\n",
    "_Hint 2_: The intercept in the transformed model will be equal to $1/\\sqrt{m2_i}$ and not a constant. For this reason, you have to include the weights $w_i = 1/\\sqrt{m2_i}$ as an additional regressor and exclude the constant term. Statsmodels will exclude the automatic constant term if you add `- 1` to your model formula:\n",
    "\n",
    "```py\n",
    "formula = 'pricestar ~ KbhNstar + ... + w - 1' # fill in your relevant code ... \n",
    "```\n"
   ]
  },
  {
   "cell_type": "markdown",
   "metadata": {},
   "source": [
    "\n",
    "Are you able to replicate the results from question 5?\n",
    "\n"
   ]
  },
  {
   "cell_type": "markdown",
   "metadata": {},
   "source": [
    "**Your code:**"
   ]
  },
  {
   "cell_type": "code",
   "execution_count": null,
   "metadata": {},
   "outputs": [
    {
     "name": "stdout",
     "output_type": "stream",
     "text": [
      "                                 OLS Regression Results                                \n",
      "=======================================================================================\n",
      "Dep. Variable:              pricestar   R-squared (uncentered):                   0.947\n",
      "Model:                            OLS   Adj. R-squared (uncentered):              0.946\n",
      "Method:                 Least Squares   F-statistic:                              2173.\n",
      "Date:                Fri, 11 Oct 2024   Prob (F-statistic):                        0.00\n",
      "Time:                        08:46:17   Log-Likelihood:                          1395.5\n",
      "No. Observations:                 988   AIC:                                     -2775.\n",
      "Df Residuals:                     980   BIC:                                     -2736.\n",
      "Df Model:                           8                                                  \n",
      "Covariance Type:            nonrobust                                                  \n",
      "===============================================================================\n",
      "                  coef    std err          t      P>|t|      [0.025      0.975]\n",
      "-------------------------------------------------------------------------------\n",
      "w               0.5380      0.106      5.094      0.000       0.331       0.745\n",
      "KbhNstar       -0.2069      0.041     -4.995      0.000      -0.288      -0.126\n",
      "KbhKstar        0.1838      0.044      4.208      0.000       0.098       0.269\n",
      "KbhVstar       -0.0702      0.051     -1.389      0.165      -0.169       0.029\n",
      "m2star          0.0204      0.001     19.164      0.000       0.018       0.022\n",
      "m2sqstar        0.0198      0.004      5.467      0.000       0.013       0.027\n",
      "roomsstar       0.0044      0.028      0.159      0.874      -0.050       0.059\n",
      "toiletsstar    -0.1101      0.104     -1.059      0.290      -0.314       0.094\n",
      "==============================================================================\n",
      "Omnibus:                      128.401   Durbin-Watson:                   2.107\n",
      "Prob(Omnibus):                  0.000   Jarque-Bera (JB):              540.932\n",
      "Skew:                           0.540   Prob(JB):                    3.45e-118\n",
      "Kurtosis:                       6.460   Cond. No.                         700.\n",
      "==============================================================================\n",
      "\n",
      "Notes:\n",
      "[1] R² is computed without centering (uncentered) since the model does not contain a constant.\n",
      "[2] Standard Errors assume that the covariance matrix of the errors is correctly specified.\n"
     ]
    }
   ],
   "source": [
    "df['KbhK'] = (df.location == 'KBH K').astype(int)\n",
    "df['KbhN'] = (df.location == 'KBH N').astype(int)\n",
    "df['KbhV'] = (df.location == 'KBH V').astype(int)\n",
    "\n",
    "df['w'] = 1/np.sqrt(df.m2) # add the weights as a variable to the dataframe\n",
    "for var in ['KbhK', 'KbhN', 'KbhV', 'price', 'm2', 'm2sq', 'rooms', 'toilets']:\n",
    "    df[f'{var}star'] = df[var] * df.w # Multiply each variable in the list by the weight\n",
    "\n",
    "formula = 'pricestar ~ w + KbhNstar + KbhKstar + KbhVstar + m2star + m2sqstar + roomsstar + toiletsstar - 1'\n",
    "results = smf.ols(formula, data=df).fit()\n",
    "print(results.summary())"
   ]
  },
  {
   "cell_type": "markdown",
   "metadata": {},
   "source": [
    "**Your answer:**"
   ]
  },
  {
   "cell_type": "markdown",
   "metadata": {},
   "source": [
    "> Parameterestimater og standardfejl er ens. Vi kan dog ikke bruge $R^2$ og $F$-test for samlet signifikans fra den manuelt vægtede regression. De beregnes på en ikke-standard måde. De er dog beregnet korrekt af Statsmodels i det forrige svar."
   ]
  },
  {
   "cell_type": "markdown",
   "metadata": {},
   "source": [
    "\n",
    "#### Task 7.\n",
    "The OLS estimator is unbiased under MLR.1–MLR.4, but without MLR.5, standard inference is not valid. In the presence of heteroskedasticity, it is however possible to calculate robust standard errors, robust $t$ test statistics, and robust Wald/$F$ test statistics.\n",
    "\n",
    "Estimate model (2) using OLS with robust standard errors.\n"
   ]
  },
  {
   "cell_type": "markdown",
   "metadata": {},
   "source": [
    "\n",
    "_Hint:_ \n",
    "\n",
    "To use the robust variance estimator in statsmodels,  use the `.get_robustcov_results()` method of your OLS results object. So wherever you used `results` before, now use `results.get_robustcov_results()`\n",
    "\n",
    "Alternatively, when estimating your model, you can use `.fit(cov_type='HC1')` instead of just `.fit()`. This is easier in the long run.\n",
    "\n",
    "If you're wondering what 'HC1' means, it's the name of the specific variant of the robust covariance matrix used. There are multiple alternative versions available. If you are _really_ interested, you can read more here: https://www.statsmodels.org/stable/generated/statsmodels.regression.linear_model.OLSResults.html#statsmodels.regression.linear_model.OLSResults"
   ]
  },
  {
   "cell_type": "markdown",
   "metadata": {},
   "source": [
    "_Extra hint:_ When using Statsmodels to run OLS regressions using robust standard errors, Statsmodels will per default report z-statistics instead of the usual t-statistics. If you want to prevent this, you can add the argument `use_t=True` to the `.fit()` method. But in this case, the two statistics are identical."
   ]
  },
  {
   "cell_type": "markdown",
   "metadata": {},
   "source": [
    "**Your code:**"
   ]
  },
  {
   "cell_type": "code",
   "execution_count": 13,
   "metadata": {},
   "outputs": [
    {
     "name": "stdout",
     "output_type": "stream",
     "text": [
      "                            OLS Regression Results                            \n",
      "==============================================================================\n",
      "Dep. Variable:                  price   R-squared:                       0.666\n",
      "Model:                            OLS   Adj. R-squared:                  0.664\n",
      "Method:                 Least Squares   F-statistic:                     158.0\n",
      "Date:                Fri, 11 Oct 2024   Prob (F-statistic):          6.13e-156\n",
      "Time:                        08:46:17   Log-Likelihood:                -850.60\n",
      "No. Observations:                 988   AIC:                             1717.\n",
      "Df Residuals:                     980   BIC:                             1756.\n",
      "Df Model:                           7                                         \n",
      "Covariance Type:                  HC1                                         \n",
      "==============================================================================\n",
      "                 coef    std err          t      P>|t|      [0.025      0.975]\n",
      "------------------------------------------------------------------------------\n",
      "Intercept      0.6558      0.122      5.391      0.000       0.417       0.895\n",
      "KbhK           0.1790      0.053      3.357      0.001       0.074       0.284\n",
      "KbhN          -0.2542      0.042     -6.096      0.000      -0.336      -0.172\n",
      "KbhV          -0.0935      0.059     -1.580      0.114      -0.210       0.023\n",
      "m2             0.0200      0.001     15.533      0.000       0.017       0.023\n",
      "m2sq           0.0184      0.003      5.468      0.000       0.012       0.025\n",
      "rooms         -0.0269      0.034     -0.803      0.422      -0.093       0.039\n",
      "toilets       -0.0858      0.125     -0.688      0.492      -0.331       0.159\n",
      "==============================================================================\n",
      "Omnibus:                      128.835   Durbin-Watson:                   2.084\n",
      "Prob(Omnibus):                  0.000   Jarque-Bera (JB):              774.130\n",
      "Skew:                           0.416   Prob(JB):                    7.94e-169\n",
      "Kurtosis:                       7.256   Cond. No.                         612.\n",
      "==============================================================================\n",
      "\n",
      "Notes:\n",
      "[1] Standard Errors are heteroscedasticity robust (HC1)\n"
     ]
    }
   ],
   "source": [
    "model3 = smf.ols('price ~ KbhK + KbhN + KbhV + m2 + m2sq + rooms + toilets', data=df)\n",
    "results3 = model3.fit(cov_type='HC1',  use_t=True)\n",
    "print(results3.summary())"
   ]
  },
  {
   "cell_type": "markdown",
   "metadata": {},
   "source": [
    "Now test the two hypotheses of $\\delta_3 = 0$ and $\\beta_3 = \\beta_4 = 0$ using the robust variance estimator. Explain what the relevant alternative hypotheses are and calculate the relevant test statistics. What do you conclude? "
   ]
  },
  {
   "cell_type": "markdown",
   "metadata": {},
   "source": [
    "**Your code:**"
   ]
  },
  {
   "cell_type": "code",
   "execution_count": 14,
   "metadata": {},
   "outputs": [
    {
     "data": {
      "text/plain": [
       "<class 'statsmodels.stats.contrast.ContrastResults'>\n",
       "<F test: F=0.4722076946454993, p=0.6237657947466587, df_denom=980, df_num=2>"
      ]
     },
     "execution_count": 14,
     "metadata": {},
     "output_type": "execute_result"
    }
   ],
   "source": [
    "results3.f_test(['rooms', 'toilets'])\n"
   ]
  },
  {
   "cell_type": "markdown",
   "metadata": {},
   "source": [
    "**Your answer:**"
   ]
  },
  {
   "cell_type": "markdown",
   "metadata": {},
   "source": [
    "> Hypotesen $H_0:\\delta_3=0$ kan testes ved et robust $t$-test. t-statistikken (z-statistikken) kan aflæses direkte i regressionsoutputtet. Her ses det at  $t=-1.580$ med en $p=0.001$, hvorfor nulhypotesen må forkastes. Ergo er der forskel i den gennemsnitlige salgspris for lejligheder i Kbh V relativt til Kbh Ø.\n",
    "> \n",
    "> Hypotesen $H_0: \\beta_3=\\beta_4=0$ kan testes med et robust $F$-test. Der beregnes en robust $F$-teststørrelse (svarende til et skaleret Wald test) på 0.4722 med $p=0.62$. Vi kan altså ikke forkaste nulhypotesen at antallet af værelser og toiletter ikke har nogen indflydelse på lejlighedens absolutte pris når vi kontrollerer for lokation og antal kvadratmeter. "
   ]
  },
  {
   "cell_type": "markdown",
   "metadata": {},
   "source": [
    "\n",
    "#### Task 8.\n",
    "Calculate the Breusch-Pagan test for the original model (1), where the dependent variable is $\\log(\\text{prices})$. Are there signs of heteroskedasticity?\n"
   ]
  },
  {
   "cell_type": "markdown",
   "metadata": {},
   "source": [
    "**Your code:**"
   ]
  },
  {
   "cell_type": "code",
   "execution_count": 15,
   "metadata": {},
   "outputs": [
    {
     "name": "stdout",
     "output_type": "stream",
     "text": [
      "                            OLS Regression Results                            \n",
      "==============================================================================\n",
      "Dep. Variable:                  uhat2   R-squared:                       0.018\n",
      "Model:                            OLS   Adj. R-squared:                  0.011\n",
      "Method:                 Least Squares   F-statistic:                     2.499\n",
      "Date:                Fri, 11 Oct 2024   Prob (F-statistic):             0.0151\n",
      "Time:                        08:46:17   Log-Likelihood:                 501.99\n",
      "No. Observations:                 988   AIC:                            -988.0\n",
      "Df Residuals:                     980   BIC:                            -948.8\n",
      "Df Model:                           7                                         \n",
      "Covariance Type:            nonrobust                                         \n",
      "==============================================================================\n",
      "                 coef    std err          t      P>|t|      [0.025      0.975]\n",
      "------------------------------------------------------------------------------\n",
      "Intercept      0.0685      0.024      2.907      0.004       0.022       0.115\n",
      "KbhK          -0.0074      0.012     -0.603      0.547      -0.032       0.017\n",
      "KbhN          -0.0042      0.013     -0.335      0.738      -0.029       0.020\n",
      "KbhV           0.0094      0.014      0.648      0.517      -0.019       0.038\n",
      "m2             0.0006      0.000      2.356      0.019    9.72e-05       0.001\n",
      "m2sq           0.0013      0.001      1.884      0.060   -5.19e-05       0.003\n",
      "rooms         -0.0072      0.007     -0.983      0.326      -0.022       0.007\n",
      "toilets       -0.0338      0.022     -1.523      0.128      -0.077       0.010\n",
      "==============================================================================\n",
      "Omnibus:                     1123.578   Durbin-Watson:                   2.011\n",
      "Prob(Omnibus):                  0.000   Jarque-Bera (JB):            95537.636\n",
      "Skew:                           5.602   Prob(JB):                         0.00\n",
      "Kurtosis:                      49.853   Cond. No.                         612.\n",
      "==============================================================================\n",
      "\n",
      "Notes:\n",
      "[1] Standard Errors assume that the covariance matrix of the errors is correctly specified.\n"
     ]
    }
   ],
   "source": [
    "# Step 1: Estimate the model and save the squared residuals\n",
    "formula = 'np.log(price) ~ KbhK + KbhN + KbhV + m2 + m2sq + rooms + toilets'\n",
    "results = smf.ols(formula, data=df).fit()\n",
    "df['uhat2'] = results.resid ** 2\n",
    "\n",
    "# Step 2: Estimate the auxiliary regression\n",
    "formula = 'uhat2 ~ KbhK + KbhN + KbhV + m2 + m2sq + rooms + toilets'\n",
    "results = smf.ols(formula, data=df).fit()\n",
    "print(results.summary())"
   ]
  },
  {
   "cell_type": "code",
   "execution_count": 16,
   "metadata": {},
   "outputs": [
    {
     "name": "stdout",
     "output_type": "stream",
     "text": [
      "n: 988, R2: 0.0175, LM: 17.3295, crit: 14.0671\n"
     ]
    }
   ],
   "source": [
    "N = len(df)\n",
    "R2 = results.rsquared\n",
    "LM = N * R2\n",
    "\n",
    "crit = stats.chi2.ppf(0.95, 7) # 7 restriktioner (de syv forklarende variable er lig nul under nulhypotesen)\n",
    "\n",
    "print(f'n: {N}, R2: {R2:.4f}, LM: {LM:.4f}, crit: {crit:.4f}')"
   ]
  },
  {
   "cell_type": "markdown",
   "metadata": {},
   "source": [
    "**Your answer:**"
   ]
  },
  {
   "cell_type": "markdown",
   "metadata": {},
   "source": [
    "For model (1) beregnes Breusch-Pagan testet til $LM=17.33$ og den kritiske værdi beregnes med `scipy` til $c=14.07$. Vi må forkaste nulhypotesen om homoskedasticitet. Dette illusterer, at selvom log-transformation af den afhængige variabel kan mindske problemet med heteroskedastiske fejlled, er det ikke altid nok – det er derfor ofte en god idé at bruge robuste standardfejl.\n"
   ]
  }
 ],
 "metadata": {
  "kernelspec": {
   "display_name": "base",
   "language": "python",
   "name": "python3"
  },
  "language_info": {
   "codemirror_mode": {
    "name": "ipython",
    "version": 3
   },
   "file_extension": ".py",
   "mimetype": "text/x-python",
   "name": "python",
   "nbconvert_exporter": "python",
   "pygments_lexer": "ipython3",
   "version": "3.11.7"
  }
 },
 "nbformat": 4,
 "nbformat_minor": 2
}
